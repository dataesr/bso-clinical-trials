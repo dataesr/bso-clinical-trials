{
 "cells": [
  {
   "cell_type": "code",
   "execution_count": 1,
   "id": "ff04ce42",
   "metadata": {},
   "outputs": [],
   "source": [
    "from selenium import webdriver\n",
    "from webdriver_manager.chrome import ChromeDriverManager"
   ]
  },
  {
   "cell_type": "code",
   "execution_count": 85,
   "id": "b721053e",
   "metadata": {},
   "outputs": [],
   "source": [
    "from selenium.webdriver.chrome.options import Options\n",
    "\n",
    "chrome_options = Options()\n",
    "# MUST BE HEADLESS AND HAVE VERY LARGE WINDOW SIZE\n",
    "chrome_options.add_argument(\"--headless\")\n",
    "chrome_options.add_argument(\"--window-size=2000x1600\")"
   ]
  },
  {
   "cell_type": "code",
   "execution_count": 86,
   "id": "2b528cb1",
   "metadata": {},
   "outputs": [],
   "source": [
    "# https://googlechromelabs.github.io/chrome-for-testing/\n",
    "# xattr -d com.apple.quarantine chromedriver"
   ]
  },
  {
   "cell_type": "code",
   "execution_count": 87,
   "id": "0b5ed5c3",
   "metadata": {},
   "outputs": [
    {
     "name": "stderr",
     "output_type": "stream",
     "text": [
      "<ipython-input-87-1ff49423c34f>:1: DeprecationWarning: use options instead of chrome_options\n",
      "  driver = webdriver.Chrome(chrome_options=chrome_options)\n"
     ]
    }
   ],
   "source": [
    "driver = webdriver.Chrome(chrome_options=chrome_options)\n"
   ]
  },
  {
   "cell_type": "code",
   "execution_count": 88,
   "id": "e168f2fc",
   "metadata": {},
   "outputs": [],
   "source": [
    "url = 'https://barometredelascienceouverte.esr.gouv.fr/integration/fr/general.dynamique.chart-evolution-within-3-years/health/Interventional?displayComment=false&displayFooter=false'\n",
    "driver.get(url)\n",
    "#driver.execute_script(\"document.body.style.zoom = '300%'\")"
   ]
  },
  {
   "cell_type": "code",
   "execution_count": 89,
   "id": "d6c67090",
   "metadata": {},
   "outputs": [],
   "source": [
    "#driver.save_screenshot('test.png')"
   ]
  },
  {
   "cell_type": "code",
   "execution_count": 90,
   "id": "b1417cef",
   "metadata": {},
   "outputs": [],
   "source": [
    "png = driver.get_screenshot_as_png()"
   ]
  },
  {
   "cell_type": "code",
   "execution_count": 91,
   "id": "90a923b8",
   "metadata": {},
   "outputs": [],
   "source": [
    "type(png)\n",
    "driver.quit()"
   ]
  },
  {
   "cell_type": "code",
   "execution_count": 92,
   "id": "c96a5896",
   "metadata": {},
   "outputs": [],
   "source": [
    "from PIL import Image\n",
    "from io import BytesIO"
   ]
  },
  {
   "cell_type": "code",
   "execution_count": 93,
   "id": "765ff0c0",
   "metadata": {},
   "outputs": [],
   "source": [
    "im = Image.open(BytesIO(png)) # uses PIL library to open image in memory\n",
    "im.save(f'test2.png')\n"
   ]
  },
  {
   "cell_type": "code",
   "execution_count": null,
   "id": "2f06329f",
   "metadata": {},
   "outputs": [],
   "source": [
    "left = location['x'] * 3 # must mutliply all these numbers by your zoom\n",
    "top = location['y'] * 3\n",
    "right = (location['x'] + size['width']) * 3\n",
    "bottom = (location['y'] + size['height']) * 3\n",
    "\n",
    "im = im.crop((left, top, right, bottom)) # defines crop points\n",
    "im.save(f'{object_id}.png') # saves new cropped image"
   ]
  }
 ],
 "metadata": {
  "kernelspec": {
   "display_name": "Python 3",
   "language": "python",
   "name": "python3"
  },
  "language_info": {
   "codemirror_mode": {
    "name": "ipython",
    "version": 3
   },
   "file_extension": ".py",
   "mimetype": "text/x-python",
   "name": "python",
   "nbconvert_exporter": "python",
   "pygments_lexer": "ipython3",
   "version": "3.9.18"
  }
 },
 "nbformat": 4,
 "nbformat_minor": 5
}
