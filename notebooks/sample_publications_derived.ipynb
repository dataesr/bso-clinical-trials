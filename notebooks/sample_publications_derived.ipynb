{
 "cells": [
  {
   "cell_type": "code",
   "execution_count": 1,
   "id": "5b591cda",
   "metadata": {},
   "outputs": [],
   "source": [
    "import pandas as pd\n",
    "import requests"
   ]
  },
  {
   "cell_type": "code",
   "execution_count": 2,
   "id": "272c9dc3",
   "metadata": {},
   "outputs": [],
   "source": [
    "df = pd.read_json('/Users/eric/Downloads/bso-clinical-trials-2022-01-06_20220107.jsonl.gz', lines=True)"
   ]
  },
  {
   "cell_type": "code",
   "execution_count": 9,
   "id": "ecdaadec",
   "metadata": {},
   "outputs": [],
   "source": [
    "for i, row in df.iterrows():\n",
    "    derived = [e for e in row.references if e['ReferenceType'] == 'derived' and 'protocol' not in e['ReferenceCitation'].lower()]\n",
    "    result = [e for e in row.references if e['ReferenceType'] == 'result']\n",
    "    df.at[i, 'has_publications_result_result'] = (len(result) > 0)\n",
    "    df.at[i, 'has_publications_result_derived'] = (len(derived) > 0)\n",
    "    df.at[i, 'has_publications_result_2'] = (len(derived) > 0) or (len(result) > 0)\n",
    "    df.at[i, 'has_results_or_publications1'] = (row.has_results) or (len(result) > 0)\n",
    "    df.at[i, 'has_results_or_publications2'] = (row.has_results) or (len(result) > 0) or (len(derived) > 0)"
   ]
  },
  {
   "cell_type": "code",
   "execution_count": 24,
   "id": "287c5c7b",
   "metadata": {},
   "outputs": [],
   "source": [
    "ct_completed = df[ (df.study_type==\"Observational\") & (df.study_completion_year>=2010) & (df.study_completion_year<=2020) & (df.status=='Completed') ]"
   ]
  },
  {
   "cell_type": "code",
   "execution_count": 25,
   "id": "c03f8b3e",
   "metadata": {},
   "outputs": [
    {
     "name": "stdout",
     "output_type": "stream",
     "text": [
      "0.08811594202898551\n",
      "0.2289855072463768\n"
     ]
    }
   ],
   "source": [
    "print(ct_completed.has_results_or_publications1.mean())\n",
    "print(ct_completed.has_results_or_publications2.mean())"
   ]
  },
  {
   "cell_type": "code",
   "execution_count": 67,
   "id": "719adff5",
   "metadata": {},
   "outputs": [
    {
     "data": {
      "text/plain": [
       "True     0.761794\n",
       "False    0.238206\n",
       "Name: has_results_or_publications, dtype: float64"
      ]
     },
     "execution_count": 67,
     "metadata": {},
     "output_type": "execute_result"
    }
   ],
   "source": [
    "ct_completed[ct_completed.lead_sponsor_type==\"industriel\"].has_results_or_publications.value_counts(dropna=False, normalize=True)"
   ]
  },
  {
   "cell_type": "code",
   "execution_count": 6,
   "id": "f73c65d2",
   "metadata": {},
   "outputs": [],
   "source": [
    "sample_academique = df[(df.status=='Completed') & (df.has_results==False) & (df.study_completion_year>=2010) & (df.study_completion_year<=2020) & (df.has_publications_result_result==False) & (df.has_publications_result_derived==True) & (df.lead_sponsor_type=='academique')].sample(50, random_state=1)\n",
    "sample_academique['sample'] = 'academique'\n",
    "sample_industriel = df[(df.status=='Completed') & (df.has_results==False) & (df.study_completion_year>=2010) & (df.study_completion_year<=2020) & (df.has_publications_result_result==False) & (df.has_publications_result_derived==True) & (df.lead_sponsor_type=='industriel')].sample(51, random_state=1)\n",
    "sample_industriel['sample'] = 'industriel'"
   ]
  },
  {
   "cell_type": "code",
   "execution_count": 7,
   "id": "6d91cf74",
   "metadata": {},
   "outputs": [
    {
     "data": {
      "text/html": [
       "<div>\n",
       "<style scoped>\n",
       "    .dataframe tbody tr th:only-of-type {\n",
       "        vertical-align: middle;\n",
       "    }\n",
       "\n",
       "    .dataframe tbody tr th {\n",
       "        vertical-align: top;\n",
       "    }\n",
       "\n",
       "    .dataframe thead th {\n",
       "        text-align: right;\n",
       "    }\n",
       "</style>\n",
       "<table border=\"1\" class=\"dataframe\">\n",
       "  <thead>\n",
       "    <tr style=\"text-align: right;\">\n",
       "      <th></th>\n",
       "      <th>all_sources</th>\n",
       "      <th>has_results</th>\n",
       "      <th>NCTId</th>\n",
       "      <th>other_ids</th>\n",
       "      <th>title</th>\n",
       "      <th>acronym</th>\n",
       "      <th>summary</th>\n",
       "      <th>study_start_date</th>\n",
       "      <th>study_start_date_type</th>\n",
       "      <th>status</th>\n",
       "      <th>...</th>\n",
       "      <th>first_results_or_publication_date</th>\n",
       "      <th>delay_first_results_completion</th>\n",
       "      <th>results_first_submit_date</th>\n",
       "      <th>results_first_submit_qc_date</th>\n",
       "      <th>WHO</th>\n",
       "      <th>ISRCTN</th>\n",
       "      <th>has_publications_result_result</th>\n",
       "      <th>has_publications_result_derived</th>\n",
       "      <th>has_publications_result_2</th>\n",
       "      <th>sample</th>\n",
       "    </tr>\n",
       "  </thead>\n",
       "  <tbody>\n",
       "    <tr>\n",
       "      <th>19086</th>\n",
       "      <td>[clinical_trials]</td>\n",
       "      <td>False</td>\n",
       "      <td>NCT00389909</td>\n",
       "      <td>[{'type': 'org_study_id', 'id': 'MRAP060309', ...</td>\n",
       "      <td>Evaluation of Dosing Chart Taking Into Account...</td>\n",
       "      <td>NaN</td>\n",
       "      <td>Doxapram is used to stimulate respiration. For...</td>\n",
       "      <td>2006-11-06T00:00:00</td>\n",
       "      <td>NaN</td>\n",
       "      <td>Completed</td>\n",
       "      <td>...</td>\n",
       "      <td>NaN</td>\n",
       "      <td>NaN</td>\n",
       "      <td>NaN</td>\n",
       "      <td>NaN</td>\n",
       "      <td>NaN</td>\n",
       "      <td>NaN</td>\n",
       "      <td>False</td>\n",
       "      <td>True</td>\n",
       "      <td>True</td>\n",
       "      <td>industriel</td>\n",
       "    </tr>\n",
       "    <tr>\n",
       "      <th>21600</th>\n",
       "      <td>[clinical_trials]</td>\n",
       "      <td>False</td>\n",
       "      <td>NCT02484144</td>\n",
       "      <td>[{'type': 'org_study_id', 'id': '2014-04', 'so...</td>\n",
       "      <td>Evaluation of the Information of the Patient B...</td>\n",
       "      <td>INFOCORO</td>\n",
       "      <td>French study, multicentrique with the cooperat...</td>\n",
       "      <td>2015-07-06T00:00:00</td>\n",
       "      <td>NaN</td>\n",
       "      <td>Completed</td>\n",
       "      <td>...</td>\n",
       "      <td>NaN</td>\n",
       "      <td>NaN</td>\n",
       "      <td>NaN</td>\n",
       "      <td>NaN</td>\n",
       "      <td>NaN</td>\n",
       "      <td>NaN</td>\n",
       "      <td>False</td>\n",
       "      <td>True</td>\n",
       "      <td>True</td>\n",
       "      <td>industriel</td>\n",
       "    </tr>\n",
       "    <tr>\n",
       "      <th>6294</th>\n",
       "      <td>[clinical_trials]</td>\n",
       "      <td>False</td>\n",
       "      <td>NCT02699762</td>\n",
       "      <td>[{'type': 'org_study_id', 'id': '2015-A01677-4...</td>\n",
       "      <td>Randomised Controlled Trial to Evaluate the Ef...</td>\n",
       "      <td>Armautotox</td>\n",
       "      <td>To show that the addition of a self-rehabilita...</td>\n",
       "      <td>2016-03-06T00:00:00</td>\n",
       "      <td>Actual</td>\n",
       "      <td>Completed</td>\n",
       "      <td>...</td>\n",
       "      <td>NaN</td>\n",
       "      <td>NaN</td>\n",
       "      <td>NaN</td>\n",
       "      <td>NaN</td>\n",
       "      <td>NaN</td>\n",
       "      <td>NaN</td>\n",
       "      <td>False</td>\n",
       "      <td>True</td>\n",
       "      <td>True</td>\n",
       "      <td>industriel</td>\n",
       "    </tr>\n",
       "    <tr>\n",
       "      <th>28645</th>\n",
       "      <td>[clinical_trials]</td>\n",
       "      <td>False</td>\n",
       "      <td>NCT00349895</td>\n",
       "      <td>[{'type': 'org_study_id', 'id': 'HEALING IIb',...</td>\n",
       "      <td>Healthy Endothelial Accelerated Lining Inhibit...</td>\n",
       "      <td>NaN</td>\n",
       "      <td>This is a multi-center, prospective, non-rando...</td>\n",
       "      <td>2006-08-06T00:00:00</td>\n",
       "      <td>NaN</td>\n",
       "      <td>Completed</td>\n",
       "      <td>...</td>\n",
       "      <td>NaN</td>\n",
       "      <td>NaN</td>\n",
       "      <td>NaN</td>\n",
       "      <td>NaN</td>\n",
       "      <td>NaN</td>\n",
       "      <td>NaN</td>\n",
       "      <td>False</td>\n",
       "      <td>True</td>\n",
       "      <td>True</td>\n",
       "      <td>industriel</td>\n",
       "    </tr>\n",
       "    <tr>\n",
       "      <th>18217</th>\n",
       "      <td>[clinical_trials]</td>\n",
       "      <td>False</td>\n",
       "      <td>NCT00903422</td>\n",
       "      <td>[{'type': 'org_study_id', 'id': '112509', 'sou...</td>\n",
       "      <td>Study PMA112509, a Phase I/II Study of Eltromb...</td>\n",
       "      <td>NaN</td>\n",
       "      <td>This study will evaluate the safety and tolera...</td>\n",
       "      <td>2009-05-14T00:00:00</td>\n",
       "      <td>Actual</td>\n",
       "      <td>Completed</td>\n",
       "      <td>...</td>\n",
       "      <td>NaN</td>\n",
       "      <td>NaN</td>\n",
       "      <td>NaN</td>\n",
       "      <td>NaN</td>\n",
       "      <td>NaN</td>\n",
       "      <td>NaN</td>\n",
       "      <td>False</td>\n",
       "      <td>True</td>\n",
       "      <td>True</td>\n",
       "      <td>industriel</td>\n",
       "    </tr>\n",
       "  </tbody>\n",
       "</table>\n",
       "<p>5 rows × 52 columns</p>\n",
       "</div>"
      ],
      "text/plain": [
       "             all_sources  has_results        NCTId  \\\n",
       "19086  [clinical_trials]        False  NCT00389909   \n",
       "21600  [clinical_trials]        False  NCT02484144   \n",
       "6294   [clinical_trials]        False  NCT02699762   \n",
       "28645  [clinical_trials]        False  NCT00349895   \n",
       "18217  [clinical_trials]        False  NCT00903422   \n",
       "\n",
       "                                               other_ids  \\\n",
       "19086  [{'type': 'org_study_id', 'id': 'MRAP060309', ...   \n",
       "21600  [{'type': 'org_study_id', 'id': '2014-04', 'so...   \n",
       "6294   [{'type': 'org_study_id', 'id': '2015-A01677-4...   \n",
       "28645  [{'type': 'org_study_id', 'id': 'HEALING IIb',...   \n",
       "18217  [{'type': 'org_study_id', 'id': '112509', 'sou...   \n",
       "\n",
       "                                                   title     acronym  \\\n",
       "19086  Evaluation of Dosing Chart Taking Into Account...         NaN   \n",
       "21600  Evaluation of the Information of the Patient B...    INFOCORO   \n",
       "6294   Randomised Controlled Trial to Evaluate the Ef...  Armautotox   \n",
       "28645  Healthy Endothelial Accelerated Lining Inhibit...         NaN   \n",
       "18217  Study PMA112509, a Phase I/II Study of Eltromb...         NaN   \n",
       "\n",
       "                                                 summary     study_start_date  \\\n",
       "19086  Doxapram is used to stimulate respiration. For...  2006-11-06T00:00:00   \n",
       "21600  French study, multicentrique with the cooperat...  2015-07-06T00:00:00   \n",
       "6294   To show that the addition of a self-rehabilita...  2016-03-06T00:00:00   \n",
       "28645  This is a multi-center, prospective, non-rando...  2006-08-06T00:00:00   \n",
       "18217  This study will evaluate the safety and tolera...  2009-05-14T00:00:00   \n",
       "\n",
       "      study_start_date_type     status  ... first_results_or_publication_date  \\\n",
       "19086                   NaN  Completed  ...                               NaN   \n",
       "21600                   NaN  Completed  ...                               NaN   \n",
       "6294                 Actual  Completed  ...                               NaN   \n",
       "28645                   NaN  Completed  ...                               NaN   \n",
       "18217                Actual  Completed  ...                               NaN   \n",
       "\n",
       "      delay_first_results_completion results_first_submit_date  \\\n",
       "19086                            NaN                       NaN   \n",
       "21600                            NaN                       NaN   \n",
       "6294                             NaN                       NaN   \n",
       "28645                            NaN                       NaN   \n",
       "18217                            NaN                       NaN   \n",
       "\n",
       "      results_first_submit_qc_date  WHO ISRCTN has_publications_result_result  \\\n",
       "19086                          NaN  NaN    NaN                          False   \n",
       "21600                          NaN  NaN    NaN                          False   \n",
       "6294                           NaN  NaN    NaN                          False   \n",
       "28645                          NaN  NaN    NaN                          False   \n",
       "18217                          NaN  NaN    NaN                          False   \n",
       "\n",
       "       has_publications_result_derived has_publications_result_2      sample  \n",
       "19086                             True                      True  industriel  \n",
       "21600                             True                      True  industriel  \n",
       "6294                              True                      True  industriel  \n",
       "28645                             True                      True  industriel  \n",
       "18217                             True                      True  industriel  \n",
       "\n",
       "[5 rows x 52 columns]"
      ]
     },
     "execution_count": 7,
     "metadata": {},
     "output_type": "execute_result"
    }
   ],
   "source": [
    "sample_industriel.tail()"
   ]
  },
  {
   "cell_type": "code",
   "execution_count": 169,
   "id": "9f183f16",
   "metadata": {},
   "outputs": [],
   "source": [
    "dd = pd.concat([sample_academique, sample_industriel])[['NCTId', 'sample']]\n",
    "dd['url'] = dd.NCTId.apply(lambda x:\"https://clinicaltrials.gov/ct2/show/\"+x)\n",
    "dd.to_csv('sample.csv', index=False)"
   ]
  },
  {
   "cell_type": "code",
   "execution_count": 68,
   "id": "c2872cd8",
   "metadata": {},
   "outputs": [
    {
     "data": {
      "text/plain": [
       "{'academique': {'nb_results': 67,\n",
       "  'nb_publications_results': 215,\n",
       "  'nb_publications_derived': 846,\n",
       "  'total': 3685},\n",
       " 'industriel': {'nb_results': 3306,\n",
       "  'nb_publications_results': 133,\n",
       "  'nb_publications_derived': 494,\n",
       "  'total': 5172}}"
      ]
     },
     "execution_count": 68,
     "metadata": {},
     "output_type": "execute_result"
    }
   ],
   "source": [
    "final_data = { 'academique': {'nb_results': 0, 'nb_publications_results': 0, 'nb_publications_derived': 0, 'total': 0}}\n",
    "final_data ['industriel'] = {'nb_results': 0, 'nb_publications_results': 0, 'nb_publications_derived': 0, 'total': 0}\n",
    "\n",
    "for i, row in ct_completed.iterrows():\n",
    "    if row.lead_sponsor_type != row.lead_sponsor_type:\n",
    "        continue\n",
    "    final_data[row.lead_sponsor_type]['total'] += 1\n",
    "    if row.has_results:\n",
    "        final_data[row.lead_sponsor_type]['nb_results'] += 1\n",
    "    elif row.has_publications_result_result:\n",
    "        final_data[row.lead_sponsor_type]['nb_publications_results'] += 1\n",
    "    elif row.has_publications_result_derived:\n",
    "        final_data[row.lead_sponsor_type]['nb_publications_derived'] += 1\n",
    "        \n",
    "final_data"
   ]
  },
  {
   "cell_type": "code",
   "execution_count": 63,
   "id": "f6eca067",
   "metadata": {},
   "outputs": [
    {
     "data": {
      "text/html": [
       "<div>\n",
       "<style scoped>\n",
       "    .dataframe tbody tr th:only-of-type {\n",
       "        vertical-align: middle;\n",
       "    }\n",
       "\n",
       "    .dataframe tbody tr th {\n",
       "        vertical-align: top;\n",
       "    }\n",
       "\n",
       "    .dataframe thead th {\n",
       "        text-align: right;\n",
       "    }\n",
       "</style>\n",
       "<table border=\"1\" class=\"dataframe\">\n",
       "  <thead>\n",
       "    <tr style=\"text-align: right;\">\n",
       "      <th></th>\n",
       "      <th>academique</th>\n",
       "      <th>industriel</th>\n",
       "    </tr>\n",
       "  </thead>\n",
       "  <tbody>\n",
       "    <tr>\n",
       "      <th>nb_results</th>\n",
       "      <td>67</td>\n",
       "      <td>3306</td>\n",
       "    </tr>\n",
       "    <tr>\n",
       "      <th>nb_publications_results</th>\n",
       "      <td>215</td>\n",
       "      <td>133</td>\n",
       "    </tr>\n",
       "    <tr>\n",
       "      <th>nb_publications_derived</th>\n",
       "      <td>846</td>\n",
       "      <td>494</td>\n",
       "    </tr>\n",
       "    <tr>\n",
       "      <th>total</th>\n",
       "      <td>3685</td>\n",
       "      <td>5172</td>\n",
       "    </tr>\n",
       "  </tbody>\n",
       "</table>\n",
       "</div>"
      ],
      "text/plain": [
       "                         academique  industriel\n",
       "nb_results                       67        3306\n",
       "nb_publications_results         215         133\n",
       "nb_publications_derived         846         494\n",
       "total                          3685        5172"
      ]
     },
     "execution_count": 63,
     "metadata": {},
     "output_type": "execute_result"
    }
   ],
   "source": [
    "pd.DataFrame(final_data)"
   ]
  },
  {
   "cell_type": "code",
   "execution_count": 42,
   "id": "0cfe3d07",
   "metadata": {},
   "outputs": [
    {
     "data": {
      "text/plain": [
       "0.7598569218870843"
      ]
     },
     "execution_count": 42,
     "metadata": {},
     "output_type": "execute_result"
    }
   ],
   "source": [
    "( 3306 + 133 + 501 * (1 - 0.02)) / 5172"
   ]
  },
  {
   "cell_type": "code",
   "execution_count": 40,
   "id": "ec681b85",
   "metadata": {},
   "outputs": [
    {
     "data": {
      "text/plain": [
       "0.28213839891451825"
      ]
     },
     "execution_count": 40,
     "metadata": {},
     "output_type": "execute_result"
    }
   ],
   "source": [
    "(67+215+902*(1-0.16))/3685"
   ]
  },
  {
   "cell_type": "code",
   "execution_count": 69,
   "id": "76b58a89",
   "metadata": {},
   "outputs": [
    {
     "data": {
      "text/plain": [
       "0.30610583446404344"
      ]
     },
     "execution_count": 69,
     "metadata": {},
     "output_type": "execute_result"
    }
   ],
   "source": [
    "(67+215+846)/3685"
   ]
  },
  {
   "cell_type": "code",
   "execution_count": 53,
   "id": "a601ac3a",
   "metadata": {},
   "outputs": [
    {
     "data": {
      "text/plain": [
       "False    77\n",
       "True      9\n",
       "Name: has_publications_result_derived, dtype: int64"
      ]
     },
     "execution_count": 53,
     "metadata": {},
     "output_type": "execute_result"
    }
   ],
   "source": [
    "ct_completed[ct_completed.lead_sponsor.apply(lambda x:'rennes' in str(x).lower() )][['NCTId', 'eudraCT', 'lead_sponsor', 'has_results', 'has_publications_result_result', 'has_publications_result_derived']].has_publications_result_derived.value_counts()"
   ]
  },
  {
   "cell_type": "code",
   "execution_count": 73,
   "id": "61b573a2",
   "metadata": {},
   "outputs": [],
   "source": [
    "def get_publications(nctid):\n",
    "    url = f'https://clinicaltrials.gov/api/query/full_studies?expr={nctid}&fmt=json'\n",
    "    r = requests.get(url).json()\n",
    "    references = r['FullStudiesResponse']['FullStudies'][0]['Study']['ProtocolSection']['ReferencesModule']['ReferenceList']['Reference']\n",
    "    results, derived = [], []\n",
    "    for e in references:\n",
    "        if e['ReferenceType'] == 'result':\n",
    "            if e.get('ReferencePMID'):\n",
    "                results.append(e.get('ReferencePMID'))\n",
    "            elif e.get('ReferenceCitation'):\n",
    "                results.append(e.get('ReferenceCitation'))\n",
    "            else:\n",
    "                results.append('missing')\n",
    "        \n",
    "        if e['ReferenceType'] == 'derived':\n",
    "            if e.get('ReferencePMID'):\n",
    "                derived.append(e.get('ReferencePMID'))\n",
    "            elif e.get('ReferenceCitation'):\n",
    "                derived.append(e.get('ReferenceCitation'))\n",
    "            else:\n",
    "                derived.append('missing')\n",
    "\n",
    "    return {'nctid': nctid, 'results': results, 'derived': derived}"
   ]
  },
  {
   "cell_type": "code",
   "execution_count": 77,
   "id": "72ea451b",
   "metadata": {},
   "outputs": [
    {
     "name": "stdout",
     "output_type": "stream",
     "text": [
      "5,10,15,20,25,30,35,40,45,50,55,60,65,70,75,80,85,90,95,100,"
     ]
    }
   ],
   "source": [
    "data = []\n",
    "ix = 0\n",
    "for nct in sample_industriel.NCTId.tolist():\n",
    "    elt = {'lead_sponsor_type': 'industriel'}\n",
    "    elt.update(get_publications(nct))\n",
    "    data.append(elt)\n",
    "    ix += 1\n",
    "    if ix % 5 == 0:\n",
    "        print(ix, end=',')\n",
    "for nct in sample_academique.NCTId.tolist():\n",
    "    elt = {'lead_sponsor_type': 'academique'}\n",
    "    elt.update(get_publications(nct))\n",
    "    data.append(elt)\n",
    "    ix += 1\n",
    "    if ix % 5 == 0:\n",
    "        print(ix, end=',')"
   ]
  },
  {
   "cell_type": "code",
   "execution_count": 78,
   "id": "b67ac05e",
   "metadata": {},
   "outputs": [],
   "source": [
    "df = pd.DataFrame(data)"
   ]
  },
  {
   "cell_type": "code",
   "execution_count": 83,
   "id": "122cd797",
   "metadata": {},
   "outputs": [],
   "source": [
    "df['nb_derived'] = df.derived.apply(lambda x:len(x))\n",
    "df['nb_results'] = df.results.apply(lambda x:len(x))"
   ]
  },
  {
   "cell_type": "code",
   "execution_count": 84,
   "id": "2b9c87ce",
   "metadata": {},
   "outputs": [
    {
     "data": {
      "text/html": [
       "<div>\n",
       "<style scoped>\n",
       "    .dataframe tbody tr th:only-of-type {\n",
       "        vertical-align: middle;\n",
       "    }\n",
       "\n",
       "    .dataframe tbody tr th {\n",
       "        vertical-align: top;\n",
       "    }\n",
       "\n",
       "    .dataframe thead th {\n",
       "        text-align: right;\n",
       "    }\n",
       "</style>\n",
       "<table border=\"1\" class=\"dataframe\">\n",
       "  <thead>\n",
       "    <tr style=\"text-align: right;\">\n",
       "      <th></th>\n",
       "      <th>lead_sponsor_type</th>\n",
       "      <th>nctid</th>\n",
       "      <th>results</th>\n",
       "      <th>derived</th>\n",
       "      <th>nb_derived</th>\n",
       "      <th>nb_results</th>\n",
       "    </tr>\n",
       "  </thead>\n",
       "  <tbody>\n",
       "    <tr>\n",
       "      <th>0</th>\n",
       "      <td>industriel</td>\n",
       "      <td>NCT01179048</td>\n",
       "      <td>[27295427, 26855018, 26864124, 27320184, 27274...</td>\n",
       "      <td>[34704120, 33504496, 32744418, 32647053, 32643...</td>\n",
       "      <td>14</td>\n",
       "      <td>23</td>\n",
       "    </tr>\n",
       "    <tr>\n",
       "      <th>1</th>\n",
       "      <td>industriel</td>\n",
       "      <td>NCT01808287</td>\n",
       "      <td>[27290682]</td>\n",
       "      <td>[25456759]</td>\n",
       "      <td>1</td>\n",
       "      <td>1</td>\n",
       "    </tr>\n",
       "    <tr>\n",
       "      <th>2</th>\n",
       "      <td>industriel</td>\n",
       "      <td>NCT01475838</td>\n",
       "      <td>[24908551, 24908550]</td>\n",
       "      <td>[28555519, 26286337]</td>\n",
       "      <td>2</td>\n",
       "      <td>2</td>\n",
       "    </tr>\n",
       "    <tr>\n",
       "      <th>3</th>\n",
       "      <td>industriel</td>\n",
       "      <td>NCT01874431</td>\n",
       "      <td>[26325557, 31583611, 33107592]</td>\n",
       "      <td>[33358451]</td>\n",
       "      <td>1</td>\n",
       "      <td>3</td>\n",
       "    </tr>\n",
       "    <tr>\n",
       "      <th>4</th>\n",
       "      <td>industriel</td>\n",
       "      <td>NCT02788006</td>\n",
       "      <td>[32334940]</td>\n",
       "      <td>[]</td>\n",
       "      <td>0</td>\n",
       "      <td>1</td>\n",
       "    </tr>\n",
       "    <tr>\n",
       "      <th>...</th>\n",
       "      <td>...</td>\n",
       "      <td>...</td>\n",
       "      <td>...</td>\n",
       "      <td>...</td>\n",
       "      <td>...</td>\n",
       "      <td>...</td>\n",
       "    </tr>\n",
       "    <tr>\n",
       "      <th>95</th>\n",
       "      <td>academique</td>\n",
       "      <td>NCT01710579</td>\n",
       "      <td>[28251732]</td>\n",
       "      <td>[]</td>\n",
       "      <td>0</td>\n",
       "      <td>1</td>\n",
       "    </tr>\n",
       "    <tr>\n",
       "      <th>96</th>\n",
       "      <td>academique</td>\n",
       "      <td>NCT04858204</td>\n",
       "      <td>[1. Malhotra J, Jabbour SK, Aisner J. Current ...</td>\n",
       "      <td>[]</td>\n",
       "      <td>0</td>\n",
       "      <td>1</td>\n",
       "    </tr>\n",
       "    <tr>\n",
       "      <th>97</th>\n",
       "      <td>academique</td>\n",
       "      <td>NCT02268708</td>\n",
       "      <td>[17765528, 21145719]</td>\n",
       "      <td>[]</td>\n",
       "      <td>0</td>\n",
       "      <td>2</td>\n",
       "    </tr>\n",
       "    <tr>\n",
       "      <th>98</th>\n",
       "      <td>academique</td>\n",
       "      <td>NCT03730584</td>\n",
       "      <td>[32939751]</td>\n",
       "      <td>[]</td>\n",
       "      <td>0</td>\n",
       "      <td>1</td>\n",
       "    </tr>\n",
       "    <tr>\n",
       "      <th>99</th>\n",
       "      <td>academique</td>\n",
       "      <td>NCT03671161</td>\n",
       "      <td>[31265349]</td>\n",
       "      <td>[]</td>\n",
       "      <td>0</td>\n",
       "      <td>1</td>\n",
       "    </tr>\n",
       "  </tbody>\n",
       "</table>\n",
       "<p>100 rows × 6 columns</p>\n",
       "</div>"
      ],
      "text/plain": [
       "   lead_sponsor_type        nctid  \\\n",
       "0         industriel  NCT01179048   \n",
       "1         industriel  NCT01808287   \n",
       "2         industriel  NCT01475838   \n",
       "3         industriel  NCT01874431   \n",
       "4         industriel  NCT02788006   \n",
       "..               ...          ...   \n",
       "95        academique  NCT01710579   \n",
       "96        academique  NCT04858204   \n",
       "97        academique  NCT02268708   \n",
       "98        academique  NCT03730584   \n",
       "99        academique  NCT03671161   \n",
       "\n",
       "                                              results  \\\n",
       "0   [27295427, 26855018, 26864124, 27320184, 27274...   \n",
       "1                                          [27290682]   \n",
       "2                                [24908551, 24908550]   \n",
       "3                      [26325557, 31583611, 33107592]   \n",
       "4                                          [32334940]   \n",
       "..                                                ...   \n",
       "95                                         [28251732]   \n",
       "96  [1. Malhotra J, Jabbour SK, Aisner J. Current ...   \n",
       "97                               [17765528, 21145719]   \n",
       "98                                         [32939751]   \n",
       "99                                         [31265349]   \n",
       "\n",
       "                                              derived  nb_derived  nb_results  \n",
       "0   [34704120, 33504496, 32744418, 32647053, 32643...          14          23  \n",
       "1                                          [25456759]           1           1  \n",
       "2                                [28555519, 26286337]           2           2  \n",
       "3                                          [33358451]           1           3  \n",
       "4                                                  []           0           1  \n",
       "..                                                ...         ...         ...  \n",
       "95                                                 []           0           1  \n",
       "96                                                 []           0           1  \n",
       "97                                                 []           0           2  \n",
       "98                                                 []           0           1  \n",
       "99                                                 []           0           1  \n",
       "\n",
       "[100 rows x 6 columns]"
      ]
     },
     "execution_count": 84,
     "metadata": {},
     "output_type": "execute_result"
    }
   ],
   "source": [
    "df.nb_derived."
   ]
  },
  {
   "cell_type": "code",
   "execution_count": null,
   "id": "ad2cfcd9",
   "metadata": {},
   "outputs": [],
   "source": []
  }
 ],
 "metadata": {
  "kernelspec": {
   "display_name": "Python 3",
   "language": "python",
   "name": "python3"
  },
  "language_info": {
   "codemirror_mode": {
    "name": "ipython",
    "version": 3
   },
   "file_extension": ".py",
   "mimetype": "text/x-python",
   "name": "python",
   "nbconvert_exporter": "python",
   "pygments_lexer": "ipython3",
   "version": "3.9.1"
  }
 },
 "nbformat": 4,
 "nbformat_minor": 5
}
