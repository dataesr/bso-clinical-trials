{
 "cells": [
  {
   "cell_type": "code",
   "execution_count": 15,
   "id": "18b92e09",
   "metadata": {},
   "outputs": [
    {
     "name": "stderr",
     "output_type": "stream",
     "text": [
      "<ipython-input-15-a1254a3c3310>:3: DtypeWarning: Columns (16) have mixed types. Specify dtype option on import or set low_memory=False.\n",
      "  df = pd.read_csv('/Users/eric/Downloads/bso-clinical-trials_20221209.csv.gz')\n"
     ]
    }
   ],
   "source": [
    "import pandas as pd\n",
    "#df = pd.read_json('/Users/eric/Downloads/bso-clinical-trials_20221209.jsonl.gz', lines=True, orient='records')\n",
    "df = pd.read_csv('/Users/eric/Downloads/bso-clinical-trials_20221209.csv.gz')"
   ]
  },
  {
   "cell_type": "code",
   "execution_count": 6,
   "id": "21cdec3e",
   "metadata": {},
   "outputs": [
    {
     "data": {
      "text/plain": [
       "Index(['ISRCTN', 'NCTId', 'WHO', 'acronym', 'all_sources',\n",
       "       'delay_first_results_completion', 'delay_start_completion',\n",
       "       'delay_submission_start', 'design_allocation', 'enrollment_count',\n",
       "       'enrollment_type', 'eudraCT', 'first_publication_date',\n",
       "       'first_results_or_publication_date', 'french_location_only',\n",
       "       'has_publication_oa', 'has_publications_result', 'has_results',\n",
       "       'has_results_or_publications', 'intervention_type', 'ipd_sharing',\n",
       "       'ipd_sharing_description', 'lead_sponsor', 'lead_sponsor_type',\n",
       "       'location_country', 'location_facility', 'other_ids', 'primary_purpose',\n",
       "       'publication_access', 'publications_result', 'references',\n",
       "       'results_first_submit_date', 'results_first_submit_qc_date',\n",
       "       'snapshot_date', 'status', 'status_simplified', 'study_completion_date',\n",
       "       'study_completion_date_type', 'study_completion_year',\n",
       "       'study_first_submit_date', 'study_first_submit_qc_date',\n",
       "       'study_start_date', 'study_start_date_type', 'study_start_year',\n",
       "       'study_type', 'submission_temporality', 'time_perspective', 'title'],\n",
       "      dtype='object')"
      ]
     },
     "execution_count": 6,
     "metadata": {},
     "output_type": "execute_result"
    }
   ],
   "source": [
    "df.study_"
   ]
  },
  {
   "cell_type": "code",
   "execution_count": 9,
   "id": "597589c6",
   "metadata": {},
   "outputs": [
    {
     "data": {
      "text/plain": [
       "Completed                  18021\n",
       "Recruiting                  6406\n",
       "Unknown status              3818\n",
       "Terminated                  2502\n",
       "Active, not recruiting      1951\n",
       "Ongoing                     1540\n",
       "Not yet recruiting          1017\n",
       "Withdrawn                    287\n",
       "Prematurely Ended            183\n",
       "Enrolling by invitation       94\n",
       "Suspended                     67\n",
       "No longer available           12\n",
       "Not Authorised                10\n",
       "Approved for marketing         7\n",
       "Available                      5\n",
       "Temporarily Halted             3\n",
       "Prohibited by CA               3\n",
       "Suspended by CA                2\n",
       "Name: status, dtype: int64"
      ]
     },
     "execution_count": 9,
     "metadata": {},
     "output_type": "execute_result"
    }
   ],
   "source": [
    "df.status.value_counts()"
   ]
  },
  {
   "cell_type": "code",
   "execution_count": 12,
   "id": "2f5cae4d",
   "metadata": {},
   "outputs": [
    {
     "data": {
      "text/plain": [
       "920"
      ]
     },
     "execution_count": 12,
     "metadata": {},
     "output_type": "execute_result"
    }
   ],
   "source": [
    "x = df[(df.study_type=='Interventional') & (df.status == 'Completed') & (df.study_completion_year == 2020)]\n",
    "len(x)"
   ]
  },
  {
   "cell_type": "code",
   "execution_count": 13,
   "id": "3857ef7e",
   "metadata": {},
   "outputs": [
    {
     "data": {
      "text/html": [
       "<div>\n",
       "<style scoped>\n",
       "    .dataframe tbody tr th:only-of-type {\n",
       "        vertical-align: middle;\n",
       "    }\n",
       "\n",
       "    .dataframe tbody tr th {\n",
       "        vertical-align: top;\n",
       "    }\n",
       "\n",
       "    .dataframe thead th {\n",
       "        text-align: right;\n",
       "    }\n",
       "</style>\n",
       "<table border=\"1\" class=\"dataframe\">\n",
       "  <thead>\n",
       "    <tr style=\"text-align: right;\">\n",
       "      <th></th>\n",
       "      <th>ISRCTN</th>\n",
       "      <th>NCTId</th>\n",
       "      <th>WHO</th>\n",
       "      <th>acronym</th>\n",
       "      <th>all_sources</th>\n",
       "      <th>delay_first_results_completion</th>\n",
       "      <th>delay_start_completion</th>\n",
       "      <th>delay_submission_start</th>\n",
       "      <th>design_allocation</th>\n",
       "      <th>enrollment_count</th>\n",
       "      <th>...</th>\n",
       "      <th>study_completion_year</th>\n",
       "      <th>study_first_submit_date</th>\n",
       "      <th>study_first_submit_qc_date</th>\n",
       "      <th>study_start_date</th>\n",
       "      <th>study_start_date_type</th>\n",
       "      <th>study_start_year</th>\n",
       "      <th>study_type</th>\n",
       "      <th>submission_temporality</th>\n",
       "      <th>time_perspective</th>\n",
       "      <th>title</th>\n",
       "    </tr>\n",
       "  </thead>\n",
       "  <tbody>\n",
       "    <tr>\n",
       "      <th>110</th>\n",
       "      <td>NaN</td>\n",
       "      <td>NCT01858441</td>\n",
       "      <td>NaN</td>\n",
       "      <td>ABIGENE</td>\n",
       "      <td>clinical_trials;euctr</td>\n",
       "      <td>386.0</td>\n",
       "      <td>2776.0</td>\n",
       "      <td>4.0</td>\n",
       "      <td>NaN</td>\n",
       "      <td>148.0</td>\n",
       "      <td>...</td>\n",
       "      <td>2020.0</td>\n",
       "      <td>2013-05-02T00:00:00</td>\n",
       "      <td>2013-05-17T00:00:00</td>\n",
       "      <td>2013-04-28T00:00:00</td>\n",
       "      <td>NaN</td>\n",
       "      <td>2013.0</td>\n",
       "      <td>Interventional</td>\n",
       "      <td>during_study</td>\n",
       "      <td>NaN</td>\n",
       "      <td>Pharmacogenetic Study in Castration-resistant ...</td>\n",
       "    </tr>\n",
       "    <tr>\n",
       "      <th>162</th>\n",
       "      <td>NaN</td>\n",
       "      <td>NCT01834417</td>\n",
       "      <td>NaN</td>\n",
       "      <td>PRESDIE</td>\n",
       "      <td>clinical_trials</td>\n",
       "      <td>NaN</td>\n",
       "      <td>2476.0</td>\n",
       "      <td>-10.0</td>\n",
       "      <td>Non-Randomized</td>\n",
       "      <td>90.0</td>\n",
       "      <td>...</td>\n",
       "      <td>2020.0</td>\n",
       "      <td>2013-04-08T00:00:00</td>\n",
       "      <td>2013-04-15T00:00:00</td>\n",
       "      <td>2013-04-18T00:00:00</td>\n",
       "      <td>Actual</td>\n",
       "      <td>2013.0</td>\n",
       "      <td>Interventional</td>\n",
       "      <td>before_start</td>\n",
       "      <td>NaN</td>\n",
       "      <td>Preliminary Study Leading to Prevention of Pre...</td>\n",
       "    </tr>\n",
       "    <tr>\n",
       "      <th>209</th>\n",
       "      <td>NaN</td>\n",
       "      <td>NCT01811134</td>\n",
       "      <td>NaN</td>\n",
       "      <td>EVIDENCE</td>\n",
       "      <td>clinical_trials</td>\n",
       "      <td>NaN</td>\n",
       "      <td>2677.0</td>\n",
       "      <td>-8.0</td>\n",
       "      <td>Randomized</td>\n",
       "      <td>91.0</td>\n",
       "      <td>...</td>\n",
       "      <td>2020.0</td>\n",
       "      <td>2012-11-20T00:00:00</td>\n",
       "      <td>2013-03-12T00:00:00</td>\n",
       "      <td>2012-11-28T00:00:00</td>\n",
       "      <td>NaN</td>\n",
       "      <td>2012.0</td>\n",
       "      <td>Interventional</td>\n",
       "      <td>before_start</td>\n",
       "      <td>NaN</td>\n",
       "      <td>Multicenter Randomized Study for Medico-econom...</td>\n",
       "    </tr>\n",
       "    <tr>\n",
       "      <th>1391</th>\n",
       "      <td>NaN</td>\n",
       "      <td>NCT01513252</td>\n",
       "      <td>NaN</td>\n",
       "      <td>MAPT-PLUS</td>\n",
       "      <td>clinical_trials</td>\n",
       "      <td>NaN</td>\n",
       "      <td>3127.0</td>\n",
       "      <td>2.0</td>\n",
       "      <td>NaN</td>\n",
       "      <td>1028.0</td>\n",
       "      <td>...</td>\n",
       "      <td>2020.0</td>\n",
       "      <td>2011-12-30T00:00:00</td>\n",
       "      <td>2012-01-16T00:00:00</td>\n",
       "      <td>2011-12-28T00:00:00</td>\n",
       "      <td>Actual</td>\n",
       "      <td>2011.0</td>\n",
       "      <td>Interventional</td>\n",
       "      <td>during_study</td>\n",
       "      <td>NaN</td>\n",
       "      <td>A 2-years Extension Study of MAPT Trial : Eval...</td>\n",
       "    </tr>\n",
       "    <tr>\n",
       "      <th>2137</th>\n",
       "      <td>NaN</td>\n",
       "      <td>NCT03607149</td>\n",
       "      <td>NaN</td>\n",
       "      <td>PKAPIR</td>\n",
       "      <td>clinical_trials</td>\n",
       "      <td>NaN</td>\n",
       "      <td>1050.0</td>\n",
       "      <td>76.0</td>\n",
       "      <td>Randomized</td>\n",
       "      <td>11.0</td>\n",
       "      <td>...</td>\n",
       "      <td>2020.0</td>\n",
       "      <td>2017-06-21T00:00:00</td>\n",
       "      <td>2018-07-23T00:00:00</td>\n",
       "      <td>2017-04-06T00:00:00</td>\n",
       "      <td>Actual</td>\n",
       "      <td>2017.0</td>\n",
       "      <td>Interventional</td>\n",
       "      <td>during_study</td>\n",
       "      <td>NaN</td>\n",
       "      <td>Pemetrexed in Maintenance in Patients With Imp...</td>\n",
       "    </tr>\n",
       "    <tr>\n",
       "      <th>...</th>\n",
       "      <td>...</td>\n",
       "      <td>...</td>\n",
       "      <td>...</td>\n",
       "      <td>...</td>\n",
       "      <td>...</td>\n",
       "      <td>...</td>\n",
       "      <td>...</td>\n",
       "      <td>...</td>\n",
       "      <td>...</td>\n",
       "      <td>...</td>\n",
       "      <td>...</td>\n",
       "      <td>...</td>\n",
       "      <td>...</td>\n",
       "      <td>...</td>\n",
       "      <td>...</td>\n",
       "      <td>...</td>\n",
       "      <td>...</td>\n",
       "      <td>...</td>\n",
       "      <td>...</td>\n",
       "      <td>...</td>\n",
       "      <td>...</td>\n",
       "    </tr>\n",
       "    <tr>\n",
       "      <th>35864</th>\n",
       "      <td>NaN</td>\n",
       "      <td>NaN</td>\n",
       "      <td>NaN</td>\n",
       "      <td>NaN</td>\n",
       "      <td>euctr</td>\n",
       "      <td>170.0</td>\n",
       "      <td>NaN</td>\n",
       "      <td>NaN</td>\n",
       "      <td>NaN</td>\n",
       "      <td>NaN</td>\n",
       "      <td>...</td>\n",
       "      <td>2020.0</td>\n",
       "      <td>2020-08-31T00:00:00</td>\n",
       "      <td>NaN</td>\n",
       "      <td>NaN</td>\n",
       "      <td>NaN</td>\n",
       "      <td>NaN</td>\n",
       "      <td>Interventional</td>\n",
       "      <td>during_study</td>\n",
       "      <td>NaN</td>\n",
       "      <td>An open label, randomized Phase II study of BI...</td>\n",
       "    </tr>\n",
       "    <tr>\n",
       "      <th>35894</th>\n",
       "      <td>NaN</td>\n",
       "      <td>NCT03420781</td>\n",
       "      <td>NaN</td>\n",
       "      <td>Diabetic Gastroparesis Study with Randomized-w...</td>\n",
       "      <td>euctr</td>\n",
       "      <td>356.0</td>\n",
       "      <td>1009.0</td>\n",
       "      <td>202.0</td>\n",
       "      <td>NaN</td>\n",
       "      <td>467.0</td>\n",
       "      <td>...</td>\n",
       "      <td>2020.0</td>\n",
       "      <td>2018-08-14T00:00:00</td>\n",
       "      <td>NaN</td>\n",
       "      <td>2018-01-24T00:00:00</td>\n",
       "      <td>NaN</td>\n",
       "      <td>2018.0</td>\n",
       "      <td>Interventional</td>\n",
       "      <td>during_study</td>\n",
       "      <td>NaN</td>\n",
       "      <td>A 46-week, Double-blind, Placebo-controlled, P...</td>\n",
       "    </tr>\n",
       "    <tr>\n",
       "      <th>35911</th>\n",
       "      <td>NaN</td>\n",
       "      <td>NCT01905657</td>\n",
       "      <td>NaN</td>\n",
       "      <td>NaN</td>\n",
       "      <td>euctr</td>\n",
       "      <td>365.0</td>\n",
       "      <td>2609.0</td>\n",
       "      <td>-109.0</td>\n",
       "      <td>NaN</td>\n",
       "      <td>1034.0</td>\n",
       "      <td>...</td>\n",
       "      <td>2020.0</td>\n",
       "      <td>2013-04-22T00:00:00</td>\n",
       "      <td>NaN</td>\n",
       "      <td>2013-08-09T00:00:00</td>\n",
       "      <td>NaN</td>\n",
       "      <td>2013.0</td>\n",
       "      <td>Interventional</td>\n",
       "      <td>before_start</td>\n",
       "      <td>NaN</td>\n",
       "      <td>A Phase II/III Randomized Trial of Two Doses o...</td>\n",
       "    </tr>\n",
       "    <tr>\n",
       "      <th>35915</th>\n",
       "      <td>NaN</td>\n",
       "      <td>NaN</td>\n",
       "      <td>NaN</td>\n",
       "      <td>The Continuum trial</td>\n",
       "      <td>euctr</td>\n",
       "      <td>427.0</td>\n",
       "      <td>4225.0</td>\n",
       "      <td>31.0</td>\n",
       "      <td>NaN</td>\n",
       "      <td>317.0</td>\n",
       "      <td>...</td>\n",
       "      <td>2020.0</td>\n",
       "      <td>2009-03-19T00:00:00</td>\n",
       "      <td>NaN</td>\n",
       "      <td>2009-02-16T00:00:00</td>\n",
       "      <td>NaN</td>\n",
       "      <td>2009.0</td>\n",
       "      <td>Interventional</td>\n",
       "      <td>during_study</td>\n",
       "      <td>NaN</td>\n",
       "      <td>A PHASE 3, MULTICENTER, RANDOMIZED, DOUBLE-BLI...</td>\n",
       "    </tr>\n",
       "    <tr>\n",
       "      <th>35928</th>\n",
       "      <td>NaN</td>\n",
       "      <td>NaN</td>\n",
       "      <td>NaN</td>\n",
       "      <td>SIDEROS</td>\n",
       "      <td>euctr</td>\n",
       "      <td>777.0</td>\n",
       "      <td>NaN</td>\n",
       "      <td>NaN</td>\n",
       "      <td>NaN</td>\n",
       "      <td>NaN</td>\n",
       "      <td>...</td>\n",
       "      <td>2020.0</td>\n",
       "      <td>2017-12-01T00:00:00</td>\n",
       "      <td>NaN</td>\n",
       "      <td>NaN</td>\n",
       "      <td>NaN</td>\n",
       "      <td>NaN</td>\n",
       "      <td>Interventional</td>\n",
       "      <td>during_study</td>\n",
       "      <td>NaN</td>\n",
       "      <td>A Phase III Double-blind, Randomized, Placebo-...</td>\n",
       "    </tr>\n",
       "  </tbody>\n",
       "</table>\n",
       "<p>920 rows × 48 columns</p>\n",
       "</div>"
      ],
      "text/plain": [
       "      ISRCTN        NCTId  WHO  \\\n",
       "110      NaN  NCT01858441  NaN   \n",
       "162      NaN  NCT01834417  NaN   \n",
       "209      NaN  NCT01811134  NaN   \n",
       "1391     NaN  NCT01513252  NaN   \n",
       "2137     NaN  NCT03607149  NaN   \n",
       "...      ...          ...  ...   \n",
       "35864    NaN          NaN  NaN   \n",
       "35894    NaN  NCT03420781  NaN   \n",
       "35911    NaN  NCT01905657  NaN   \n",
       "35915    NaN          NaN  NaN   \n",
       "35928    NaN          NaN  NaN   \n",
       "\n",
       "                                                 acronym  \\\n",
       "110                                              ABIGENE   \n",
       "162                                              PRESDIE   \n",
       "209                                             EVIDENCE   \n",
       "1391                                           MAPT-PLUS   \n",
       "2137                                              PKAPIR   \n",
       "...                                                  ...   \n",
       "35864                                                NaN   \n",
       "35894  Diabetic Gastroparesis Study with Randomized-w...   \n",
       "35911                                                NaN   \n",
       "35915                                The Continuum trial   \n",
       "35928                                            SIDEROS   \n",
       "\n",
       "                 all_sources  delay_first_results_completion  \\\n",
       "110    clinical_trials;euctr                           386.0   \n",
       "162          clinical_trials                             NaN   \n",
       "209          clinical_trials                             NaN   \n",
       "1391         clinical_trials                             NaN   \n",
       "2137         clinical_trials                             NaN   \n",
       "...                      ...                             ...   \n",
       "35864                  euctr                           170.0   \n",
       "35894                  euctr                           356.0   \n",
       "35911                  euctr                           365.0   \n",
       "35915                  euctr                           427.0   \n",
       "35928                  euctr                           777.0   \n",
       "\n",
       "       delay_start_completion  delay_submission_start design_allocation  \\\n",
       "110                    2776.0                     4.0               NaN   \n",
       "162                    2476.0                   -10.0    Non-Randomized   \n",
       "209                    2677.0                    -8.0        Randomized   \n",
       "1391                   3127.0                     2.0               NaN   \n",
       "2137                   1050.0                    76.0        Randomized   \n",
       "...                       ...                     ...               ...   \n",
       "35864                     NaN                     NaN               NaN   \n",
       "35894                  1009.0                   202.0               NaN   \n",
       "35911                  2609.0                  -109.0               NaN   \n",
       "35915                  4225.0                    31.0               NaN   \n",
       "35928                     NaN                     NaN               NaN   \n",
       "\n",
       "       enrollment_count  ... study_completion_year study_first_submit_date  \\\n",
       "110               148.0  ...                2020.0     2013-05-02T00:00:00   \n",
       "162                90.0  ...                2020.0     2013-04-08T00:00:00   \n",
       "209                91.0  ...                2020.0     2012-11-20T00:00:00   \n",
       "1391             1028.0  ...                2020.0     2011-12-30T00:00:00   \n",
       "2137               11.0  ...                2020.0     2017-06-21T00:00:00   \n",
       "...                 ...  ...                   ...                     ...   \n",
       "35864               NaN  ...                2020.0     2020-08-31T00:00:00   \n",
       "35894             467.0  ...                2020.0     2018-08-14T00:00:00   \n",
       "35911            1034.0  ...                2020.0     2013-04-22T00:00:00   \n",
       "35915             317.0  ...                2020.0     2009-03-19T00:00:00   \n",
       "35928               NaN  ...                2020.0     2017-12-01T00:00:00   \n",
       "\n",
       "       study_first_submit_qc_date     study_start_date  study_start_date_type  \\\n",
       "110           2013-05-17T00:00:00  2013-04-28T00:00:00                    NaN   \n",
       "162           2013-04-15T00:00:00  2013-04-18T00:00:00                 Actual   \n",
       "209           2013-03-12T00:00:00  2012-11-28T00:00:00                    NaN   \n",
       "1391          2012-01-16T00:00:00  2011-12-28T00:00:00                 Actual   \n",
       "2137          2018-07-23T00:00:00  2017-04-06T00:00:00                 Actual   \n",
       "...                           ...                  ...                    ...   \n",
       "35864                         NaN                  NaN                    NaN   \n",
       "35894                         NaN  2018-01-24T00:00:00                    NaN   \n",
       "35911                         NaN  2013-08-09T00:00:00                    NaN   \n",
       "35915                         NaN  2009-02-16T00:00:00                    NaN   \n",
       "35928                         NaN                  NaN                    NaN   \n",
       "\n",
       "      study_start_year      study_type  submission_temporality  \\\n",
       "110             2013.0  Interventional            during_study   \n",
       "162             2013.0  Interventional            before_start   \n",
       "209             2012.0  Interventional            before_start   \n",
       "1391            2011.0  Interventional            during_study   \n",
       "2137            2017.0  Interventional            during_study   \n",
       "...                ...             ...                     ...   \n",
       "35864              NaN  Interventional            during_study   \n",
       "35894           2018.0  Interventional            during_study   \n",
       "35911           2013.0  Interventional            before_start   \n",
       "35915           2009.0  Interventional            during_study   \n",
       "35928              NaN  Interventional            during_study   \n",
       "\n",
       "       time_perspective                                              title  \n",
       "110                 NaN  Pharmacogenetic Study in Castration-resistant ...  \n",
       "162                 NaN  Preliminary Study Leading to Prevention of Pre...  \n",
       "209                 NaN  Multicenter Randomized Study for Medico-econom...  \n",
       "1391                NaN  A 2-years Extension Study of MAPT Trial : Eval...  \n",
       "2137                NaN  Pemetrexed in Maintenance in Patients With Imp...  \n",
       "...                 ...                                                ...  \n",
       "35864               NaN  An open label, randomized Phase II study of BI...  \n",
       "35894               NaN  A 46-week, Double-blind, Placebo-controlled, P...  \n",
       "35911               NaN  A Phase II/III Randomized Trial of Two Doses o...  \n",
       "35915               NaN  A PHASE 3, MULTICENTER, RANDOMIZED, DOUBLE-BLI...  \n",
       "35928               NaN  A Phase III Double-blind, Randomized, Placebo-...  \n",
       "\n",
       "[920 rows x 48 columns]"
      ]
     },
     "execution_count": 13,
     "metadata": {},
     "output_type": "execute_result"
    }
   ],
   "source": [
    "x"
   ]
  },
  {
   "cell_type": "code",
   "execution_count": 3,
   "id": "3d4e3fd1",
   "metadata": {},
   "outputs": [
    {
     "data": {
      "text/plain": [
       "array(['Hôpital de la Conception;Département de Diabétologie - Hopital Lariboisière'],\n",
       "      dtype=object)"
      ]
     },
     "execution_count": 3,
     "metadata": {},
     "output_type": "execute_result"
    }
   ],
   "source": [
    "df[df.NCTId==\"NCT02671864\"].location_facility.values"
   ]
  },
  {
   "cell_type": "code",
   "execution_count": 12,
   "id": "864deead",
   "metadata": {},
   "outputs": [],
   "source": [
    "inst = 'atomique'"
   ]
  },
  {
   "cell_type": "code",
   "execution_count": 13,
   "id": "519cd583",
   "metadata": {},
   "outputs": [
    {
     "data": {
      "text/plain": [
       "Commissariat A L'energie Atomique    2\n",
       "Name: lead_sponsor, dtype: int64"
      ]
     },
     "execution_count": 13,
     "metadata": {},
     "output_type": "execute_result"
    }
   ],
   "source": [
    "df_inst = df[df.lead_sponsor.apply(lambda x:inst in str(x).lower())]\n",
    "df_inst.lead_sponsor.value_counts()"
   ]
  },
  {
   "cell_type": "code",
   "execution_count": 14,
   "id": "8d9b7c8e",
   "metadata": {},
   "outputs": [
    {
     "data": {
      "text/html": [
       "<div>\n",
       "<style scoped>\n",
       "    .dataframe tbody tr th:only-of-type {\n",
       "        vertical-align: middle;\n",
       "    }\n",
       "\n",
       "    .dataframe tbody tr th {\n",
       "        vertical-align: top;\n",
       "    }\n",
       "\n",
       "    .dataframe thead th {\n",
       "        text-align: right;\n",
       "    }\n",
       "</style>\n",
       "<table border=\"1\" class=\"dataframe\">\n",
       "  <thead>\n",
       "    <tr style=\"text-align: right;\">\n",
       "      <th></th>\n",
       "      <th>ISRCTN</th>\n",
       "      <th>NCTId</th>\n",
       "      <th>WHO</th>\n",
       "      <th>acronym</th>\n",
       "      <th>all_sources</th>\n",
       "      <th>delay_first_results_completion</th>\n",
       "      <th>delay_start_completion</th>\n",
       "      <th>delay_submission_start</th>\n",
       "      <th>design_allocation</th>\n",
       "      <th>enrollment_count</th>\n",
       "      <th>...</th>\n",
       "      <th>study_completion_year</th>\n",
       "      <th>study_first_submit_date</th>\n",
       "      <th>study_first_submit_qc_date</th>\n",
       "      <th>study_start_date</th>\n",
       "      <th>study_start_date_type</th>\n",
       "      <th>study_start_year</th>\n",
       "      <th>study_type</th>\n",
       "      <th>submission_temporality</th>\n",
       "      <th>time_perspective</th>\n",
       "      <th>title</th>\n",
       "    </tr>\n",
       "  </thead>\n",
       "  <tbody>\n",
       "    <tr>\n",
       "      <th>1527</th>\n",
       "      <td>NaN</td>\n",
       "      <td>NCT00543322</td>\n",
       "      <td>NaN</td>\n",
       "      <td>NaN</td>\n",
       "      <td>clinical_trials</td>\n",
       "      <td>NaN</td>\n",
       "      <td>1826.0</td>\n",
       "      <td>2266.0</td>\n",
       "      <td>NaN</td>\n",
       "      <td>NaN</td>\n",
       "      <td>...</td>\n",
       "      <td>2006.0</td>\n",
       "      <td>2007-10-11T00:00:00</td>\n",
       "      <td>2007-10-11T00:00:00</td>\n",
       "      <td>2001-07-28T00:00:00</td>\n",
       "      <td>NaN</td>\n",
       "      <td>2001.0</td>\n",
       "      <td>Observational</td>\n",
       "      <td>after_completion</td>\n",
       "      <td>Prospective</td>\n",
       "      <td>PET Study of the Nicotinic Receptors in Human ...</td>\n",
       "    </tr>\n",
       "    <tr>\n",
       "      <th>20289</th>\n",
       "      <td>NaN</td>\n",
       "      <td>NCT01377220</td>\n",
       "      <td>NaN</td>\n",
       "      <td>CHOLPET</td>\n",
       "      <td>clinical_trials</td>\n",
       "      <td>NaN</td>\n",
       "      <td>1096.0</td>\n",
       "      <td>-21.0</td>\n",
       "      <td>Non-Randomized</td>\n",
       "      <td>30.0</td>\n",
       "      <td>...</td>\n",
       "      <td>2014.0</td>\n",
       "      <td>2011-06-07T00:00:00</td>\n",
       "      <td>2011-06-20T00:00:00</td>\n",
       "      <td>2011-06-28T00:00:00</td>\n",
       "      <td>NaN</td>\n",
       "      <td>2011.0</td>\n",
       "      <td>Interventional</td>\n",
       "      <td>before_start</td>\n",
       "      <td>NaN</td>\n",
       "      <td>Evaluation of 11 C-Choline PET-CT for Detectio...</td>\n",
       "    </tr>\n",
       "  </tbody>\n",
       "</table>\n",
       "<p>2 rows × 48 columns</p>\n",
       "</div>"
      ],
      "text/plain": [
       "      ISRCTN        NCTId  WHO  acronym      all_sources  \\\n",
       "1527     NaN  NCT00543322  NaN      NaN  clinical_trials   \n",
       "20289    NaN  NCT01377220  NaN  CHOLPET  clinical_trials   \n",
       "\n",
       "       delay_first_results_completion  delay_start_completion  \\\n",
       "1527                              NaN                  1826.0   \n",
       "20289                             NaN                  1096.0   \n",
       "\n",
       "       delay_submission_start design_allocation  enrollment_count  ...  \\\n",
       "1527                   2266.0               NaN               NaN  ...   \n",
       "20289                   -21.0    Non-Randomized              30.0  ...   \n",
       "\n",
       "      study_completion_year study_first_submit_date  \\\n",
       "1527                 2006.0     2007-10-11T00:00:00   \n",
       "20289                2014.0     2011-06-07T00:00:00   \n",
       "\n",
       "       study_first_submit_qc_date     study_start_date  study_start_date_type  \\\n",
       "1527          2007-10-11T00:00:00  2001-07-28T00:00:00                    NaN   \n",
       "20289         2011-06-20T00:00:00  2011-06-28T00:00:00                    NaN   \n",
       "\n",
       "      study_start_year      study_type  submission_temporality  \\\n",
       "1527            2001.0   Observational        after_completion   \n",
       "20289           2011.0  Interventional            before_start   \n",
       "\n",
       "       time_perspective                                              title  \n",
       "1527        Prospective  PET Study of the Nicotinic Receptors in Human ...  \n",
       "20289               NaN  Evaluation of 11 C-Choline PET-CT for Detectio...  \n",
       "\n",
       "[2 rows x 48 columns]"
      ]
     },
     "execution_count": 14,
     "metadata": {},
     "output_type": "execute_result"
    }
   ],
   "source": [
    "df_inst"
   ]
  },
  {
   "cell_type": "code",
   "execution_count": 6,
   "id": "c166def5",
   "metadata": {},
   "outputs": [
    {
     "data": {
      "text/plain": [
       "Completed                  114\n",
       "Unknown status              50\n",
       "Recruiting                  33\n",
       "Not yet recruiting          13\n",
       "Terminated                  13\n",
       "Active, not recruiting      12\n",
       "Withdrawn                    2\n",
       "Suspended                    2\n",
       "Enrolling by invitation      1\n",
       "Ongoing                      1\n",
       "Name: status, dtype: int64"
      ]
     },
     "execution_count": 6,
     "metadata": {},
     "output_type": "execute_result"
    }
   ],
   "source": [
    "df_inst.status.value_counts()"
   ]
  },
  {
   "cell_type": "code",
   "execution_count": 7,
   "id": "e280ff5d",
   "metadata": {},
   "outputs": [
    {
     "data": {
      "text/plain": [
       "Interventional    76\n",
       "Observational     38\n",
       "Name: study_type, dtype: int64"
      ]
     },
     "execution_count": 7,
     "metadata": {},
     "output_type": "execute_result"
    }
   ],
   "source": [
    "df_inst[df_inst.status=='Completed'].study_type.value_counts()"
   ]
  },
  {
   "cell_type": "code",
   "execution_count": 8,
   "id": "03e0092b",
   "metadata": {},
   "outputs": [
    {
     "data": {
      "text/plain": [
       "Institut National de la Santé Et de la Recherche Médicale, France    68\n",
       "Name: lead_sponsor, dtype: int64"
      ]
     },
     "execution_count": 8,
     "metadata": {},
     "output_type": "execute_result"
    }
   ],
   "source": [
    "df_inst[(df_inst.status=='Completed') & (df_inst.study_type=='Interventional') & (df_inst.study_completion_year>=2011) & (df_inst.study_completion_year<=2021)].lead_sponsor.value_counts()"
   ]
  },
  {
   "cell_type": "code",
   "execution_count": 9,
   "id": "6f9e4558",
   "metadata": {},
   "outputs": [],
   "source": [
    "df_interventional = df_inst[(df_inst.status=='Completed') & (df_inst.study_type=='Interventional') & (df_inst.study_completion_year>=2011) & (df_inst.study_completion_year<=2021)]"
   ]
  },
  {
   "cell_type": "code",
   "execution_count": 10,
   "id": "74a95d3e",
   "metadata": {},
   "outputs": [],
   "source": [
    "df_obs = df_inst[(df_inst.status=='Completed') & (df_inst.study_type=='Observational') & (df_inst.study_completion_year>=2011) & (df_inst.study_completion_year<=2021)]"
   ]
  },
  {
   "cell_type": "code",
   "execution_count": 11,
   "id": "aa41f96a",
   "metadata": {},
   "outputs": [],
   "source": [
    "df_interventional.to_csv(f'{inst}_interventional.csv', index=False, sep=';')"
   ]
  },
  {
   "cell_type": "code",
   "execution_count": 12,
   "id": "d8c5e3d9",
   "metadata": {},
   "outputs": [],
   "source": [
    "df_obs.to_csv(f'{inst}_observational.csv', index=False, sep=';')"
   ]
  },
  {
   "cell_type": "code",
   "execution_count": 13,
   "id": "65a7f340",
   "metadata": {},
   "outputs": [
    {
     "data": {
      "text/plain": [
       "68"
      ]
     },
     "execution_count": 13,
     "metadata": {},
     "output_type": "execute_result"
    }
   ],
   "source": [
    "len(df_interventional)"
   ]
  },
  {
   "cell_type": "code",
   "execution_count": 14,
   "id": "6d65c0ac",
   "metadata": {},
   "outputs": [
    {
     "data": {
      "text/plain": [
       "False    52\n",
       "True     16\n",
       "Name: has_results_or_publications, dtype: int64"
      ]
     },
     "execution_count": 14,
     "metadata": {},
     "output_type": "execute_result"
    }
   ],
   "source": [
    "df_interventional.has_results_or_publications.value_counts()"
   ]
  },
  {
   "cell_type": "code",
   "execution_count": 15,
   "id": "49d8d1d1",
   "metadata": {},
   "outputs": [
    {
     "data": {
      "text/plain": [
       "0.23529411764705882"
      ]
     },
     "execution_count": 15,
     "metadata": {},
     "output_type": "execute_result"
    }
   ],
   "source": [
    "16/68"
   ]
  },
  {
   "cell_type": "code",
   "execution_count": 37,
   "id": "4a467c4d",
   "metadata": {},
   "outputs": [],
   "source": [
    "import requests\n",
    "def quick_get(nct):\n",
    "    try:\n",
    "        r = requests.get(f'https://clinicaltrials.gov/api/query/full_studies?expr={nct}&fmt=json').json()\n",
    "        input_study = r['FullStudiesResponse']['FullStudies'][0]\n",
    "        x = input_study.get('Study')\n",
    "        results = [e for e in x['ProtocolSection']['ReferencesModule']['ReferenceList']['Reference'] if e['ReferenceType'] != 'background']\n",
    "        return results\n",
    "    except:\n",
    "        return []"
   ]
  },
  {
   "cell_type": "code",
   "execution_count": 38,
   "id": "81539c98",
   "metadata": {},
   "outputs": [
    {
     "data": {
      "text/plain": [
       "[{'ReferencePMID': '26902791',\n",
       "  'ReferenceType': 'result',\n",
       "  'ReferenceCitation': 'Esvant A, Lefebvre MA, Campillo-Gimenez B, Lannes M, Delamarre D, Guilhem I, Poirier JY. A Mobile Application Guiding Patients With Type 1 Diabetes Using Sensor-Augmented Insulin Pump Therapy. J Diabetes Sci Technol. 2016 Jun 28;10(4):985-6. doi: 10.1177/1932296816633486. Print 2016 Jul. No abstract available.'}]"
      ]
     },
     "execution_count": 38,
     "metadata": {},
     "output_type": "execute_result"
    }
   ],
   "source": [
    "quick_get('NCT01883024')"
   ]
  },
  {
   "cell_type": "code",
   "execution_count": 39,
   "id": "c54cb736",
   "metadata": {},
   "outputs": [
    {
     "name": "stderr",
     "output_type": "stream",
     "text": [
      "<ipython-input-39-5ff1d9816b72>:1: SettingWithCopyWarning: \n",
      "A value is trying to be set on a copy of a slice from a DataFrame.\n",
      "Try using .loc[row_indexer,col_indexer] = value instead\n",
      "\n",
      "See the caveats in the documentation: https://pandas.pydata.org/pandas-docs/stable/user_guide/indexing.html#returning-a-view-versus-a-copy\n",
      "  df_interventional['new_res'] = None\n",
      "<ipython-input-39-5ff1d9816b72>:2: SettingWithCopyWarning: \n",
      "A value is trying to be set on a copy of a slice from a DataFrame.\n",
      "Try using .loc[row_indexer,col_indexer] = value instead\n",
      "\n",
      "See the caveats in the documentation: https://pandas.pydata.org/pandas-docs/stable/user_guide/indexing.html#returning-a-view-versus-a-copy\n",
      "  df_interventional['has_publications_result_new'] = None\n"
     ]
    },
    {
     "name": "stdout",
     "output_type": "stream",
     "text": [
      "66\n",
      "269\n",
      "334\n",
      "380\n",
      "539\n",
      "877\n",
      "1494\n",
      "2531\n",
      "2611\n",
      "2698\n",
      "2788\n",
      "2848\n",
      "2995\n",
      "3036\n",
      "3356\n",
      "3821\n",
      "4394\n",
      "5000\n",
      "5934\n",
      "6213\n",
      "6430\n",
      "6520\n",
      "6729\n",
      "7190\n",
      "7192\n",
      "7616\n",
      "7683\n",
      "8060\n",
      "8212\n",
      "8239\n",
      "8478\n",
      "8747\n",
      "8947\n",
      "9309\n",
      "9325\n",
      "9903\n",
      "9981\n",
      "10006\n",
      "10484\n",
      "10605\n",
      "11542\n",
      "11550\n",
      "11960\n",
      "12027\n",
      "13108\n",
      "13126\n",
      "15017\n",
      "15108\n",
      "15259\n",
      "15323\n",
      "16011\n",
      "16059\n",
      "16072\n",
      "16280\n",
      "16796\n",
      "16915\n",
      "16963\n",
      "16973\n",
      "17078\n",
      "17082\n",
      "17172\n",
      "17192\n",
      "17283\n",
      "17287\n",
      "17503\n",
      "17518\n",
      "17537\n",
      "17549\n",
      "17597\n",
      "17670\n",
      "17717\n",
      "17892\n",
      "18260\n",
      "18700\n",
      "18966\n",
      "19139\n",
      "19626\n",
      "19800\n",
      "20337\n",
      "20993\n",
      "21131\n",
      "21606\n",
      "21649\n",
      "21915\n",
      "22197\n",
      "22239\n",
      "22538\n",
      "22592\n",
      "23039\n",
      "23364\n",
      "23508\n",
      "23746\n",
      "23890\n",
      "32491\n",
      "33114\n",
      "33384\n",
      "33785\n",
      "34221\n"
     ]
    }
   ],
   "source": [
    "df_interventional['new_res'] = None\n",
    "df_interventional['has_publications_result_new'] = None\n",
    "\n",
    "for i, row in df_interventional.iterrows():\n",
    "    print(i)\n",
    "    if isinstance(row.NCTId, str) and 'NCT' in row.NCTId:\n",
    "        res = quick_get(row.NCTId)\n",
    "        df_interventional.at[i, 'new_res'] = res\n",
    "        df_interventional.at[i, 'has_publications_result_new'] = (len(res)>0)\n"
   ]
  },
  {
   "cell_type": "code",
   "execution_count": 42,
   "id": "f17890af",
   "metadata": {},
   "outputs": [
    {
     "data": {
      "text/plain": [
       "True     0.569892\n",
       "False    0.430108\n",
       "Name: has_publications_result_new, dtype: float64"
      ]
     },
     "execution_count": 42,
     "metadata": {},
     "output_type": "execute_result"
    }
   ],
   "source": [
    "df_interventional.has_publications_result_new.value_counts(normalize=True)"
   ]
  },
  {
   "cell_type": "code",
   "execution_count": 57,
   "id": "0c4d73e4",
   "metadata": {},
   "outputs": [
    {
     "data": {
      "text/plain": [
       "[{'ReferencePMID': '28910755',\n",
       "  'ReferenceType': 'result',\n",
       "  'ReferenceCitation': 'Mheich A, Hassan M, Khalil M, Gripon V, Dufor O, Wendling F. SimiNet: A Novel Method for Quantifying Brain Network Similarity. IEEE Trans Pattern Anal Mach Intell. 2018 Sep;40(9):2238-2249. doi: 10.1109/TPAMI.2017.2750160. Epub 2017 Sep 8.'},\n",
       " {'ReferencePMID': '28592794',\n",
       "  'ReferenceType': 'result',\n",
       "  'ReferenceCitation': 'Kabbara A, El Falou W, Khalil M, Wendling F, Hassan M. The dynamic functional core network of the human brain at rest. Sci Rep. 2017 Jun 7;7(1):2936. doi: 10.1038/s41598-017-03420-6.'},\n",
       " {'ReferencePMID': '25583381',\n",
       "  'ReferenceType': 'result',\n",
       "  'ReferenceCitation': 'Mheich A, Hassan M, Khalil M, Berrou C, Wendling F. A new algorithm for spatiotemporal analysis of brain functional connectivity. J Neurosci Methods. 2015 Mar 15;242:77-81. doi: 10.1016/j.jneumeth.2015.01.002. Epub 2015 Jan 10.'},\n",
       " {'ReferencePMID': '27549639',\n",
       "  'ReferenceType': 'result',\n",
       "  'ReferenceCitation': 'Hassan M, Merlet I, Mheich A, Kabbara A, Biraben A, Nica A, Wendling F. Identification of Interictal Epileptic Networks from Dense-EEG. Brain Topogr. 2017 Jan;30(1):60-76. doi: 10.1007/s10548-016-0517-z. Epub 2016 Aug 22.'},\n",
       " {'ReferencePMID': '30070974',\n",
       "  'ReferenceType': 'result',\n",
       "  'ReferenceCitation': 'Rizkallah J, Benquet P, Kabbara A, Dufor O, Wendling F, Hassan M. Dynamic reshaping of functional brain networks during visual object recognition. J Neural Eng. 2018 Oct;15(5):056022. doi: 10.1088/1741-2552/aad7b1. Epub 2018 Aug 2.'},\n",
       " {'ReferencePMID': '26379232',\n",
       "  'ReferenceType': 'result',\n",
       "  'ReferenceCitation': 'Hassan M, Shamas M, Khalil M, El Falou W, Wendling F. EEGNET: An Open Source Tool for Analyzing and Visualizing M/EEG Connectome. PLoS One. 2015 Sep 17;10(9):e0138297. doi: 10.1371/journal.pone.0138297. eCollection 2015.'},\n",
       " {'ReferencePMID': '25115932',\n",
       "  'ReferenceType': 'result',\n",
       "  'ReferenceCitation': 'Hassan M, Dufor O, Merlet I, Berrou C, Wendling F. EEG source connectivity analysis: from dense array recordings to brain networks. PLoS One. 2014 Aug 12;9(8):e105041. doi: 10.1371/journal.pone.0105041. eCollection 2014.'},\n",
       " {'ReferencePMID': '26478964',\n",
       "  'ReferenceType': 'result',\n",
       "  'ReferenceCitation': 'Hassan M, Benquet P, Biraben A, Berrou C, Dufor O, Wendling F. Dynamic reorganization of functional brain networks during picture naming. Cortex. 2015 Dec;73:276-88. doi: 10.1016/j.cortex.2015.08.019. Epub 2015 Sep 28.'}]"
      ]
     },
     "execution_count": 57,
     "metadata": {},
     "output_type": "execute_result"
    }
   ],
   "source": [
    "df_interventional.new_res.values[13]"
   ]
  },
  {
   "cell_type": "code",
   "execution_count": null,
   "id": "703ecfbd",
   "metadata": {},
   "outputs": [],
   "source": []
  }
 ],
 "metadata": {
  "kernelspec": {
   "display_name": "Python 3",
   "language": "python",
   "name": "python3"
  },
  "language_info": {
   "codemirror_mode": {
    "name": "ipython",
    "version": 3
   },
   "file_extension": ".py",
   "mimetype": "text/x-python",
   "name": "python",
   "nbconvert_exporter": "python",
   "pygments_lexer": "ipython3",
   "version": "3.9.1"
  }
 },
 "nbformat": 4,
 "nbformat_minor": 5
}
