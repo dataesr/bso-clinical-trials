{
 "cells": [
  {
   "cell_type": "code",
   "execution_count": 1,
   "id": "18b92e09",
   "metadata": {},
   "outputs": [
    {
     "name": "stderr",
     "output_type": "stream",
     "text": [
      "<ipython-input-1-a1254a3c3310>:3: DtypeWarning: Columns (16) have mixed types. Specify dtype option on import or set low_memory=False.\n",
      "  df = pd.read_csv('/Users/eric/Downloads/bso-clinical-trials_20221209.csv.gz')\n"
     ]
    }
   ],
   "source": [
    "import pandas as pd\n",
    "#df = pd.read_json('/Users/eric/Downloads/bso-clinical-trials_20221209.jsonl.gz', lines=True, orient='records')\n",
    "df = pd.read_csv('/Users/eric/Downloads/bso-clinical-trials_20221209.csv.gz')"
   ]
  },
  {
   "cell_type": "code",
   "execution_count": 2,
   "id": "3857ef7e",
   "metadata": {},
   "outputs": [
    {
     "data": {
      "text/plain": [
       "Index(['ISRCTN', 'NCTId', 'WHO', 'acronym', 'all_sources',\n",
       "       'delay_first_results_completion', 'delay_start_completion',\n",
       "       'delay_submission_start', 'design_allocation', 'enrollment_count',\n",
       "       'enrollment_type', 'eudraCT', 'first_publication_date',\n",
       "       'first_results_or_publication_date', 'french_location_only',\n",
       "       'has_publication_oa', 'has_publications_result', 'has_results',\n",
       "       'has_results_or_publications', 'intervention_type', 'ipd_sharing',\n",
       "       'ipd_sharing_description', 'lead_sponsor', 'lead_sponsor_type',\n",
       "       'location_country', 'location_facility', 'other_ids', 'primary_purpose',\n",
       "       'publication_access', 'publications_result', 'references',\n",
       "       'results_first_submit_date', 'results_first_submit_qc_date',\n",
       "       'snapshot_date', 'status', 'status_simplified', 'study_completion_date',\n",
       "       'study_completion_date_type', 'study_completion_year',\n",
       "       'study_first_submit_date', 'study_first_submit_qc_date',\n",
       "       'study_start_date', 'study_start_date_type', 'study_start_year',\n",
       "       'study_type', 'submission_temporality', 'time_perspective', 'title'],\n",
       "      dtype='object')"
      ]
     },
     "execution_count": 2,
     "metadata": {},
     "output_type": "execute_result"
    }
   ],
   "source": [
    "df.columns"
   ]
  },
  {
   "cell_type": "code",
   "execution_count": 3,
   "id": "3d4e3fd1",
   "metadata": {},
   "outputs": [
    {
     "data": {
      "text/plain": [
       "array(['Hôpital de la Conception;Département de Diabétologie - Hopital Lariboisière'],\n",
       "      dtype=object)"
      ]
     },
     "execution_count": 3,
     "metadata": {},
     "output_type": "execute_result"
    }
   ],
   "source": [
    "df[df.NCTId==\"NCT02671864\"].location_facility.values"
   ]
  },
  {
   "cell_type": "code",
   "execution_count": 4,
   "id": "864deead",
   "metadata": {},
   "outputs": [],
   "source": [
    "inst = 'rennes'"
   ]
  },
  {
   "cell_type": "code",
   "execution_count": 5,
   "id": "519cd583",
   "metadata": {},
   "outputs": [
    {
     "data": {
      "text/plain": [
       "Rennes University Hospital                    396\n",
       "CHU de Rennes                                  11\n",
       "University of Rennes 2                          4\n",
       "CHU Rennes                                      4\n",
       "C.H.U. de RENNES                                4\n",
       "Centre Hospitalier Universitaire de Rennes      2\n",
       "CHU of Rennes                                   1\n",
       "Centre Hospitalier Universitaire Rennes         1\n",
       "CHU de RENNES                                   1\n",
       "Name: lead_sponsor, dtype: int64"
      ]
     },
     "execution_count": 5,
     "metadata": {},
     "output_type": "execute_result"
    }
   ],
   "source": [
    "df_inst = df[df.lead_sponsor.apply(lambda x:inst in str(x).lower())]\n",
    "df_inst.lead_sponsor.value_counts()"
   ]
  },
  {
   "cell_type": "code",
   "execution_count": 6,
   "id": "c166def5",
   "metadata": {},
   "outputs": [
    {
     "data": {
      "text/plain": [
       "Completed                  226\n",
       "Recruiting                  66\n",
       "Unknown status              53\n",
       "Terminated                  34\n",
       "Ongoing                     19\n",
       "Not yet recruiting          11\n",
       "Withdrawn                    6\n",
       "Active, not recruiting       6\n",
       "Enrolling by invitation      1\n",
       "Name: status, dtype: int64"
      ]
     },
     "execution_count": 6,
     "metadata": {},
     "output_type": "execute_result"
    }
   ],
   "source": [
    "df_inst.status.value_counts()"
   ]
  },
  {
   "cell_type": "code",
   "execution_count": 7,
   "id": "e280ff5d",
   "metadata": {},
   "outputs": [
    {
     "data": {
      "text/plain": [
       "Interventional    119\n",
       "Observational     107\n",
       "Name: study_type, dtype: int64"
      ]
     },
     "execution_count": 7,
     "metadata": {},
     "output_type": "execute_result"
    }
   ],
   "source": [
    "df_inst[df_inst.status=='Completed'].study_type.value_counts()"
   ]
  },
  {
   "cell_type": "code",
   "execution_count": 8,
   "id": "03e0092b",
   "metadata": {},
   "outputs": [
    {
     "data": {
      "text/plain": [
       "Rennes University Hospital    93\n",
       "CHU de Rennes                  3\n",
       "CHU of Rennes                  1\n",
       "CHU Rennes                     1\n",
       "Name: lead_sponsor, dtype: int64"
      ]
     },
     "execution_count": 8,
     "metadata": {},
     "output_type": "execute_result"
    }
   ],
   "source": [
    "df_inst[(df_inst.status=='Completed') & (df_inst.study_type=='Interventional') & (df_inst.study_completion_year>=2011) & (df_inst.study_completion_year<=2021)].lead_sponsor.value_counts()"
   ]
  },
  {
   "cell_type": "code",
   "execution_count": 9,
   "id": "6f9e4558",
   "metadata": {},
   "outputs": [],
   "source": [
    "df_interventional = df_inst[(df_inst.status=='Completed') & (df_inst.study_type=='Interventional') & (df_inst.study_completion_year>=2011) & (df_inst.study_completion_year<=2021)]"
   ]
  },
  {
   "cell_type": "code",
   "execution_count": 10,
   "id": "74a95d3e",
   "metadata": {},
   "outputs": [],
   "source": [
    "df_obs = df_inst[(df_inst.status=='Completed') & (df_inst.study_type=='Observational') & (df_inst.study_completion_year>=2011) & (df_inst.study_completion_year<=2021)]"
   ]
  },
  {
   "cell_type": "code",
   "execution_count": 51,
   "id": "aa41f96a",
   "metadata": {},
   "outputs": [],
   "source": [
    "df_interventional.to_csv(f'{inst}_interventional.csv', index=False, sep=';')"
   ]
  },
  {
   "cell_type": "code",
   "execution_count": 52,
   "id": "d8c5e3d9",
   "metadata": {},
   "outputs": [],
   "source": [
    "df_obs.to_csv(f'{inst}_observational.csv', index=False, sep=';')"
   ]
  },
  {
   "cell_type": "code",
   "execution_count": 11,
   "id": "65a7f340",
   "metadata": {},
   "outputs": [
    {
     "data": {
      "text/plain": [
       "98"
      ]
     },
     "execution_count": 11,
     "metadata": {},
     "output_type": "execute_result"
    }
   ],
   "source": [
    "len(df_interventional)"
   ]
  },
  {
   "cell_type": "code",
   "execution_count": 17,
   "id": "6d65c0ac",
   "metadata": {},
   "outputs": [
    {
     "data": {
      "text/plain": [
       "False    87\n",
       "True     11\n",
       "Name: has_results_or_publications, dtype: int64"
      ]
     },
     "execution_count": 17,
     "metadata": {},
     "output_type": "execute_result"
    }
   ],
   "source": [
    "df_interventional.has_results_or_publications.value_counts()"
   ]
  },
  {
   "cell_type": "code",
   "execution_count": 18,
   "id": "49d8d1d1",
   "metadata": {},
   "outputs": [
    {
     "data": {
      "text/plain": [
       "0.12643678160919541"
      ]
     },
     "execution_count": 18,
     "metadata": {},
     "output_type": "execute_result"
    }
   ],
   "source": [
    "11/87"
   ]
  },
  {
   "cell_type": "code",
   "execution_count": 32,
   "id": "4a467c4d",
   "metadata": {},
   "outputs": [],
   "source": [
    "import requests\n",
    "def quick_get(nct):\n",
    "    r = requests.get(f'https://clinicaltrials.gov/api/query/full_studies?expr={nct}&fmt=json').json()\n",
    "    input_study = r['FullStudiesResponse']['FullStudies'][0]\n",
    "    x = input_study.get('Study')\n",
    "    results = [e for e in x['ProtocolSection']['ReferencesModule']['ReferenceList']['Reference'] if e['ReferenceType'] != 'background']\n",
    "    return results"
   ]
  },
  {
   "cell_type": "code",
   "execution_count": 33,
   "id": "ef48fbd7",
   "metadata": {},
   "outputs": [
    {
     "data": {
      "text/plain": [
       "[{'ReferencePMID': '26902791',\n",
       "  'ReferenceType': 'result',\n",
       "  'ReferenceCitation': 'Esvant A, Lefebvre MA, Campillo-Gimenez B, Lannes M, Delamarre D, Guilhem I, Poirier JY. A Mobile Application Guiding Patients With Type 1 Diabetes Using Sensor-Augmented Insulin Pump Therapy. J Diabetes Sci Technol. 2016 Jun 28;10(4):985-6. doi: 10.1177/1932296816633486. Print 2016 Jul. No abstract available.'}]"
      ]
     },
     "execution_count": 33,
     "metadata": {},
     "output_type": "execute_result"
    }
   ],
   "source": [
    "quick_get('NCT01883024')"
   ]
  },
  {
   "cell_type": "code",
   "execution_count": null,
   "id": "2775e4e4",
   "metadata": {},
   "outputs": [
    {
     "name": "stderr",
     "output_type": "stream",
     "text": [
      "<ipython-input-36-5ff1d9816b72>:1: SettingWithCopyWarning: \n",
      "A value is trying to be set on a copy of a slice from a DataFrame.\n",
      "Try using .loc[row_indexer,col_indexer] = value instead\n",
      "\n",
      "See the caveats in the documentation: https://pandas.pydata.org/pandas-docs/stable/user_guide/indexing.html#returning-a-view-versus-a-copy\n",
      "  df_interventional['new_res'] = None\n",
      "<ipython-input-36-5ff1d9816b72>:2: SettingWithCopyWarning: \n",
      "A value is trying to be set on a copy of a slice from a DataFrame.\n",
      "Try using .loc[row_indexer,col_indexer] = value instead\n",
      "\n",
      "See the caveats in the documentation: https://pandas.pydata.org/pandas-docs/stable/user_guide/indexing.html#returning-a-view-versus-a-copy\n",
      "  df_interventional['has_publications_result_new'] = None\n"
     ]
    },
    {
     "name": "stdout",
     "output_type": "stream",
     "text": [
      "66\n",
      "269\n",
      "334\n"
     ]
    }
   ],
   "source": [
    "df_interventional['new_res'] = None\n",
    "df_interventional['has_publications_result_new'] = None\n",
    "\n",
    "for i, row in df_interventional.iterrows():\n",
    "    print(i)\n",
    "    if isinstance(row.NCTId, str) and 'NCT' in row.NCTId:\n",
    "        res = quick_get(row.NCTId)\n",
    "        df_interventional.at[i, 'new_res'] = res\n",
    "        df_interventional.at[i, 'has_publications_result_new'] = (len(res)>0)\n"
   ]
  },
  {
   "cell_type": "code",
   "execution_count": 34,
   "id": "c050acfb",
   "metadata": {},
   "outputs": [
    {
     "data": {
      "text/plain": [
       "Index(['ISRCTN', 'NCTId', 'WHO', 'acronym', 'all_sources',\n",
       "       'delay_first_results_completion', 'delay_start_completion',\n",
       "       'delay_submission_start', 'design_allocation', 'enrollment_count',\n",
       "       'enrollment_type', 'eudraCT', 'first_publication_date',\n",
       "       'first_results_or_publication_date', 'french_location_only',\n",
       "       'has_publication_oa', 'has_publications_result', 'has_results',\n",
       "       'has_results_or_publications', 'intervention_type', 'ipd_sharing',\n",
       "       'ipd_sharing_description', 'lead_sponsor', 'lead_sponsor_type',\n",
       "       'location_country', 'location_facility', 'other_ids', 'primary_purpose',\n",
       "       'publication_access', 'publications_result', 'references',\n",
       "       'results_first_submit_date', 'results_first_submit_qc_date',\n",
       "       'snapshot_date', 'status', 'status_simplified', 'study_completion_date',\n",
       "       'study_completion_date_type', 'study_completion_year',\n",
       "       'study_first_submit_date', 'study_first_submit_qc_date',\n",
       "       'study_start_date', 'study_start_date_type', 'study_start_year',\n",
       "       'study_type', 'submission_temporality', 'time_perspective', 'title'],\n",
       "      dtype='object')"
      ]
     },
     "execution_count": 34,
     "metadata": {},
     "output_type": "execute_result"
    }
   ],
   "source": [
    "df_interventional.columns"
   ]
  },
  {
   "cell_type": "code",
   "execution_count": null,
   "id": "a3b9f663",
   "metadata": {},
   "outputs": [],
   "source": []
  }
 ],
 "metadata": {
  "kernelspec": {
   "display_name": "Python 3",
   "language": "python",
   "name": "python3"
  },
  "language_info": {
   "codemirror_mode": {
    "name": "ipython",
    "version": 3
   },
   "file_extension": ".py",
   "mimetype": "text/x-python",
   "name": "python",
   "nbconvert_exporter": "python",
   "pygments_lexer": "ipython3",
   "version": "3.9.1"
  }
 },
 "nbformat": 4,
 "nbformat_minor": 5
}
