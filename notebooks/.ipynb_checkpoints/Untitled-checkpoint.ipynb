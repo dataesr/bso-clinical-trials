{
 "cells": [
  {
   "cell_type": "code",
   "execution_count": 1,
   "id": "9c413bd5",
   "metadata": {},
   "outputs": [],
   "source": [
    "import pandas as pd"
   ]
  },
  {
   "cell_type": "code",
   "execution_count": 2,
   "id": "57315ea7",
   "metadata": {},
   "outputs": [
    {
     "name": "stderr",
     "output_type": "stream",
     "text": [
      "/usr/local/lib/python3.9/site-packages/IPython/core/interactiveshell.py:3169: DtypeWarning: Columns (12,15,16,46) have mixed types.Specify dtype option on import or set low_memory=False.\n",
      "  has_raised = await self.run_ast_nodes(code_ast.body, cell_name,\n"
     ]
    }
   ],
   "source": [
    "df = pd.read_csv('/Users/eric/Downloads/bso-clinical-trials-2022-01-21_20220121.csv.gz')\n"
   ]
  },
  {
   "cell_type": "code",
   "execution_count": 10,
   "id": "cd043ad4",
   "metadata": {},
   "outputs": [],
   "source": [
    "def get_ids(r):\n",
    "    ids = []\n",
    "    for k in ['eudraCT', 'NCTId']:\n",
    "        if not(pd.isnull(r[k])):\n",
    "            ids.append(k)\n",
    "    return ' + '.join(ids)"
   ]
  },
  {
   "cell_type": "code",
   "execution_count": 30,
   "id": "80be386b",
   "metadata": {},
   "outputs": [],
   "source": [
    "df['id_type'] = df.apply(lambda r:get_ids(r), axis=1)"
   ]
  },
  {
   "cell_type": "code",
   "execution_count": 42,
   "id": "3b09922f",
   "metadata": {},
   "outputs": [
    {
     "data": {
      "text/plain": [
       "Ongoing               1945\n",
       "Completed             1204\n",
       "Prematurely Ended      141\n",
       "Not Authorised           8\n",
       "Temporarily Halted       4\n",
       "Prohibited by CA         3\n",
       "Suspended by CA          1\n",
       "Restarted                1\n",
       "Name: status, dtype: int64"
      ]
     },
     "execution_count": 42,
     "metadata": {},
     "output_type": "execute_result"
    }
   ],
   "source": [
    "df[df.id_type=='eudraCT'].status.value_counts()"
   ]
  },
  {
   "cell_type": "code",
   "execution_count": 44,
   "id": "325bf4bc",
   "metadata": {},
   "outputs": [
    {
     "data": {
      "text/plain": [
       "NCTId              14060\n",
       "eudraCT + NCTId     3110\n",
       "eudraCT              279\n",
       "dtype: int64"
      ]
     },
     "execution_count": 44,
     "metadata": {},
     "output_type": "execute_result"
    }
   ],
   "source": [
    "df[df.study_completion_year>=2018].apply(lambda r:get_ids(r), axis=1).value_counts(normalize=False)"
   ]
  },
  {
   "cell_type": "code",
   "execution_count": 24,
   "id": "314c510e",
   "metadata": {},
   "outputs": [],
   "source": [
    "cols = ['ISRCTN', 'NCTId', 'WHO', 'acronym', 'design_allocation', 'enrollment_count',\n",
    "        'eudraCT', \n",
    "       'has_results_or_publications', 'intervention_type', 'ipd_sharing',\n",
    "       'lead_sponsor', 'lead_sponsor_type', 'location_country',\n",
    "       'location_facility', 'primary_purpose',\n",
    "       'status', 'status_simplified', 'study_first_submit_date',\n",
    "        'study_completion_date',\n",
    "       'study_completion_year',\n",
    "       'study_start_date', 'study_start_year',\n",
    "       'study_type']\n",
    "df[df.study_type==\"Interventional\"][cols].to_csv('export_interventional.csv', index=False)"
   ]
  },
  {
   "cell_type": "code",
   "execution_count": 2,
   "id": "1b8c34ad",
   "metadata": {},
   "outputs": [],
   "source": [
    "data = []\n",
    "for i in [1,2,3]:\n",
    "    df_tmp = pd.read_csv('avis_fav_RIPH1.csv', sep=';', encoding=\"iso-8859-1\")\n",
    "    df_tmp['Type'] = f'RIPH{i}'\n",
    "    df_tmp['annee'] = df_tmp.annee_mois.apply(lambda x:x[0:4])\n",
    "    df_tmp['mois'] = df_tmp.annee_mois.apply(lambda x:x[5:7])\n",
    "    df_tmp['essai_clinique'] = (i in [1, 2])\n",
    "    data.append(df_tmp)\n",
    "df = pd.concat(data)\n",
    "df_ec = df[df.essai_clinique]\n",
    "#df_ec = df_ec[df_ec.produit==\"Médicament à usage humain\"]"
   ]
  },
  {
   "cell_type": "code",
   "execution_count": 3,
   "id": "e33bb991",
   "metadata": {},
   "outputs": [
    {
     "data": {
      "text/plain": [
       "Médicament à usage humain                                                                          58\n",
       "Hors produit de santé (produit non mentionné à l?article L.5311-1 du code de la santé publique)    56\n",
       "Dispositif médical                                                                                 52\n",
       "Thérapie génique                                                                                   34\n",
       "Organe, Tissus, Cellule                                                                            32\n",
       "Thérapie cellulaire                                                                                18\n",
       "inconnu                                                                                            12\n",
       "Dispositif médical de diagnostic in vitro                                                          12\n",
       "Produit cosmétique                                                                                  6\n",
       "Produit sanguin labile                                                                              4\n",
       "Name: produit, dtype: int64"
      ]
     },
     "execution_count": 3,
     "metadata": {},
     "output_type": "execute_result"
    }
   ],
   "source": [
    "df_ec.produit.value_counts()"
   ]
  },
  {
   "cell_type": "code",
   "execution_count": 4,
   "id": "dd828688",
   "metadata": {},
   "outputs": [],
   "source": [
    "pd.DataFrame(df_ec.groupby(df_ec.annee_mois).n.sum()).to_clipboard()"
   ]
  },
  {
   "cell_type": "markdown",
   "id": "fd4ac1a5",
   "metadata": {},
   "source": [
    "## bso"
   ]
  },
  {
   "cell_type": "code",
   "execution_count": 5,
   "id": "7c104532",
   "metadata": {},
   "outputs": [],
   "source": [
    "df_bso = pd.read_json(\"/Users/eric/Downloads/merged_ct_2021-09-29.json.gz\")\n",
    "df_bso[\"annee_mois\"] = df_bso.study_start_date.apply(lambda x:str(x)[0:7])"
   ]
  },
  {
   "cell_type": "code",
   "execution_count": 6,
   "id": "aaa5d750",
   "metadata": {},
   "outputs": [],
   "source": [
    "#df_bso = df_bso[df_bso.intervention_type==\"Drug\"]"
   ]
  },
  {
   "cell_type": "code",
   "execution_count": null,
   "id": "46d0bd3e",
   "metadata": {},
   "outputs": [],
   "source": []
  },
  {
   "cell_type": "code",
   "execution_count": 7,
   "id": "208f21a0",
   "metadata": {},
   "outputs": [],
   "source": [
    "df_bso_ec = df_bso[(df_bso.study_type==\"Interventional\") & (df_bso.study_start_year>=2017)]\n",
    "pd.DataFrame(df_bso_ec.groupby(['annee_mois']).NCTId.count()).to_clipboard()"
   ]
  },
  {
   "cell_type": "code",
   "execution_count": null,
   "id": "ca737404",
   "metadata": {},
   "outputs": [],
   "source": []
  }
 ],
 "metadata": {
  "kernelspec": {
   "display_name": "Python 3",
   "language": "python",
   "name": "python3"
  },
  "language_info": {
   "codemirror_mode": {
    "name": "ipython",
    "version": 3
   },
   "file_extension": ".py",
   "mimetype": "text/x-python",
   "name": "python",
   "nbconvert_exporter": "python",
   "pygments_lexer": "ipython3",
   "version": "3.9.1"
  }
 },
 "nbformat": 4,
 "nbformat_minor": 5
}
