{
 "cells": [
  {
   "cell_type": "code",
   "execution_count": 1,
   "id": "36496289",
   "metadata": {},
   "outputs": [],
   "source": [
    "import pandas as pd"
   ]
  },
  {
   "cell_type": "code",
   "execution_count": 2,
   "id": "3f67467c",
   "metadata": {},
   "outputs": [],
   "source": [
    "url = 'https://storage.gra.cloud.ovh.net/v1/AUTH_32c5d10cb0fe4519b957064a111717e3/bso_dump/bso-clinical-trials.jsonl.gz'\n",
    "df = pd.read_json(url, lines=True)"
   ]
  },
  {
   "cell_type": "code",
   "execution_count": 3,
   "id": "8b9cd8c7",
   "metadata": {},
   "outputs": [],
   "source": [
    "mapping = pd.read_csv('https://raw.githubusercontent.com/dataesr/bso-clinical-trials/main/bsoclinicaltrials/server/main/bso-lead-sponsors-mapping.csv')"
   ]
  },
  {
   "cell_type": "code",
   "execution_count": 4,
   "id": "89cef686",
   "metadata": {},
   "outputs": [
    {
     "data": {
      "text/plain": [
       "101"
      ]
     },
     "execution_count": 4,
     "metadata": {},
     "output_type": "execute_result"
    }
   ],
   "source": [
    "list_rors = [r.split('/')[-1] for r in mapping.ror.unique() if (r==r) and len(r.split('/')[-1])==9]\n",
    "len(list_rors)"
   ]
  },
  {
   "cell_type": "code",
   "execution_count": 5,
   "id": "047a4535",
   "metadata": {},
   "outputs": [],
   "source": [
    "df_completed_intervention = df[(df.status_simplified=='Completed') & (df.study_type=='Interventional')]\n",
    "\n",
    "df2 = df_completed_intervention[['lead_sponsor', 'study_completion_year', 'NCTId', 'eudraCT', 'study_type', \n",
    "                                 'status_simplified',\n",
    "    'has_results_or_publications', 'has_results_or_publications_within_1y', 'has_results_or_publications_within_3y']]"
   ]
  },
  {
   "cell_type": "code",
   "execution_count": 6,
   "id": "ab1dcd68",
   "metadata": {},
   "outputs": [],
   "source": [
    "dd = pd.merge(df2, mapping, left_on='lead_sponsor', right_on='sponsor', indicator=True, how='inner')"
   ]
  },
  {
   "cell_type": "code",
   "execution_count": 7,
   "id": "5b55efbf",
   "metadata": {},
   "outputs": [
    {
     "data": {
      "text/plain": [
       "both          7641\n",
       "left_only        0\n",
       "right_only       0\n",
       "Name: _merge, dtype: int64"
      ]
     },
     "execution_count": 7,
     "metadata": {},
     "output_type": "execute_result"
    }
   ],
   "source": [
    "dd._merge.value_counts()"
   ]
  },
  {
   "cell_type": "code",
   "execution_count": 8,
   "id": "a4484d89",
   "metadata": {},
   "outputs": [],
   "source": [
    "dd_ror = dd[dd.ror.apply(lambda x:isinstance(x, str) and 'ror.org/' in x)]"
   ]
  },
  {
   "cell_type": "code",
   "execution_count": 9,
   "id": "63812957",
   "metadata": {},
   "outputs": [
    {
     "name": "stderr",
     "output_type": "stream",
     "text": [
      "<ipython-input-9-c7b3ad7a3353>:1: SettingWithCopyWarning: \n",
      "A value is trying to be set on a copy of a slice from a DataFrame.\n",
      "Try using .loc[row_indexer,col_indexer] = value instead\n",
      "\n",
      "See the caveats in the documentation: https://pandas.pydata.org/pandas-docs/stable/user_guide/indexing.html#returning-a-view-versus-a-copy\n",
      "  dd_ror['ror_simple'] = dd_ror.ror.apply(lambda x:x.split('/')[-1])\n"
     ]
    }
   ],
   "source": [
    "dd_ror['ror_simple'] = dd_ror.ror.apply(lambda x:x.split('/')[-1])"
   ]
  },
  {
   "cell_type": "code",
   "execution_count": 10,
   "id": "283eb2d4",
   "metadata": {},
   "outputs": [],
   "source": [
    "# APHP 00pg5jh14 \n",
    "# IPC 04s3t1g37"
   ]
  },
  {
   "cell_type": "code",
   "execution_count": 11,
   "id": "9c120dc8",
   "metadata": {},
   "outputs": [],
   "source": [
    "import matplotlib.pyplot as plt\n",
    "import matplotlib.ticker as mtick\n",
    "SIZE = 22\n",
    "SMALL_SIZE=18\n",
    "plt.rc('font', size=SIZE)          # controls default text sizes\n",
    "plt.rc('axes', titlesize=SIZE)     # fontsize of the axes title\n",
    "plt.rc('axes', labelsize=SIZE)    # fontsize of the x and y labels\n",
    "plt.rc('xtick', labelsize=SIZE)    # fontsize of the tick labels\n",
    "plt.rc('ytick', labelsize=SIZE)    # fontsize of the tick labels\n",
    "plt.rc('legend', fontsize=SIZE)    # legend fontsize\n",
    "plt.rc('figure', titlesize=SIZE)  # fontsize of the figure title  "
   ]
  },
  {
   "cell_type": "code",
   "execution_count": 12,
   "id": "e5ec2b78",
   "metadata": {},
   "outputs": [],
   "source": [
    "def analyze_global(df_etab):\n",
    "    ans = {'global': {}, '10Y': {}}\n",
    "    \n",
    "    d_g = pd.DataFrame(df_etab.has_results_or_publications.value_counts(dropna=False))\n",
    "    d_g_10 = pd.DataFrame(df_etab[df_etab.study_completion_year >= 2013].has_results_or_publications.value_counts(dropna=False))\n",
    "    \n",
    "    cle_false = 'SANS communication\\nidentifiée'\n",
    "    cle_true = 'AVEC communication\\nidentifiée'\n",
    "    \n",
    "    ans['global'][cle_true] = d_g[d_g.index==True].has_results_or_publications.values[0]\n",
    "    ans['global'][cle_false] = d_g[d_g.index==False].has_results_or_publications.values[0]\n",
    "\n",
    "    assert(ans['global'][cle_false] + ans['global'][cle_true]) == len(df_etab)\n",
    "    \n",
    "\n",
    "    \n",
    "    ans['10Y'][cle_true] = d_g_10[d_g_10.index==True].has_results_or_publications.values[0]\n",
    "    ans['10Y'][cle_false] = d_g_10[d_g_10.index==False].has_results_or_publications.values[0]\n",
    "    \n",
    "    return ans\n"
   ]
  },
  {
   "cell_type": "code",
   "execution_count": 13,
   "id": "3900e2b7",
   "metadata": {},
   "outputs": [],
   "source": [
    "def make_evolution(ror, df_tmp):\n",
    "    \n",
    "    df1Y = pd.DataFrame(df_tmp[(df_tmp.study_completion_year>=2014) & (df_tmp.study_completion_year<2023)]\\\n",
    "    .groupby('study_completion_year')['has_results_or_publications_within_1y', ].mean()).reset_index()\n",
    "    df3Y = pd.DataFrame(df_tmp[(df_tmp.study_completion_year>=2014) & (df_tmp.study_completion_year<2021)]\\\n",
    "    .groupby('study_completion_year')['has_results_or_publications_within_3y', ].mean()).reset_index()\n",
    "    df1_3Y = pd.merge(df1Y, df3Y, on='study_completion_year', how='left')\n",
    "    years = df1_3Y.study_completion_year.tolist()\n",
    "    rate1Y = df1_3Y.has_results_or_publications_within_1y.tolist()\n",
    "    rate3Y = df1_3Y.has_results_or_publications_within_3y.tolist()\n",
    "    rate3Y = [r for r in rate3Y if r==r]\n",
    "    \n",
    "    fig, ax = plt.subplots(figsize=(9,9), dpi=100)\n",
    "\n",
    "    width = 0.25  # the width of the bars\n",
    "    multiplier = 0\n",
    "\n",
    "    offset1 = width * multiplier\n",
    "    rects1 = ax.bar([y-0.1 for y in years], [100 * r for r in rate1Y], width, label='1 an')\n",
    "    ax.bar_label(rects1, labels = [f'{round(100*r)} %' for r in rate1Y], padding=3, fontsize=SMALL_SIZE)\n",
    "\n",
    "    multiplier = 1\n",
    "    offset2 = width * multiplier\n",
    "    rects2 = ax.bar([y+0.1 for y in years[0:len(rate3Y)]], [100 * r for r in rate3Y], width, label='3 ans')\n",
    "    ax.bar_label(rects2, labels = [f'{round(100*r)} %' for r in rate3Y], padding=3, fontsize=SMALL_SIZE)\n",
    "\n",
    "\n",
    "\n",
    "    # Add some text for labels, title and custom x-axis tick labels, etc.\n",
    "    #ax.set_ylabel('Length (mm)')\n",
    "    ax.yaxis.set_major_formatter(mtick.PercentFormatter())\n",
    "    #ax.set_title('Penguin attributes by species')\n",
    "    ax.set_xticks(years)\n",
    "    ax.set_xticklabels([str(y).replace('.0', '') for y in years], rotation='vertical', fontsize=SMALL_SIZE)\n",
    "    ax.legend(loc='upper left')\n",
    "    ax.set_xlabel(\"Année de clôture de l'essai clinique\")\n",
    "\n",
    "    ax.set_ylim(0, min(100, max(rate3Y)*100+15))\n",
    "\n",
    "    plt.savefig(f\"./../publipostage/{ror}/evolution_temporelle_essais_cliniques_{ror}.png\", bbox_inches=\"tight\", dpi=300)"
   ]
  },
  {
   "cell_type": "code",
   "execution_count": 14,
   "id": "3c9407c6",
   "metadata": {},
   "outputs": [],
   "source": [
    "import os\n",
    "\n",
    "def make_data(ror):\n",
    "    os.system(f\"mkdir -p ./../publipostage/{ror}\")\n",
    "    df_tmp = dd_ror[dd_ror.ror_simple == ror]\n",
    "    df_tmp.to_csv(f'./../publipostage/{ror}/liste_essais_cliniques_identifies_{ror}.csv', index=False)\n",
    "    stats = analyze_global(df_tmp)\n",
    "    make_pie(ror, stats, 'global')\n",
    "    make_pie(ror, stats, '10Y')\n",
    "    make_evolution(ror, df_tmp)\n",
    "    plt.close('all')\n",
    "\n",
    "def make_pie(ror, stats, pie_type):\n",
    "    \n",
    "    fig, ax = plt.subplots(figsize=(9,9), dpi=100)\n",
    "    values = list(stats[pie_type].values())\n",
    "    labels_raw=list(stats[pie_type].keys())\n",
    "    total = values[0] + values[1]\n",
    "    labels = [f'{values[0]} essais cliniques sur {total}\\nSANS communication identifiée',\n",
    "             f'{values[1]} essais cliniques sur {total}\\nAVEC communication identifiée']\n",
    "\n",
    "    colors=['#FFF5BA', '#5A35BE']\n",
    "\n",
    "    _, _, autotexts  = ax.pie(values, startangle=90, autopct='%1.0f%%', \n",
    "                 explode=(0.025, 0.025),\n",
    "                 colors=colors)\n",
    "\n",
    "    autotexts[1].set_color('white')\n",
    "\n",
    "    ax.legend(labels=labels, bbox_to_anchor=(0.15,0.5), \n",
    "              loc=\"center right\", fontsize=20, \n",
    "               bbox_transform=plt.gcf().transFigure)\n",
    "\n",
    "    \n",
    "    plt.savefig(f\"./../publipostage/{ror}/repartition_essais_cliniques_{pie_type}_{ror}.png\", bbox_inches=\"tight\", dpi=300)\n"
   ]
  },
  {
   "cell_type": "code",
   "execution_count": null,
   "id": "959f5890",
   "metadata": {},
   "outputs": [
    {
     "name": "stdout",
     "output_type": "stream",
     "text": [
      "01kv58h76 ...ok\n",
      "002cp4060 ...ok\n",
      "035xkbk20 ...error\n",
      "00pg5jh14 ...ok\n",
      "04r9x1a08 ...ok\n",
      "00gtmwv55 ...ok\n",
      "02x9y0j10 ...ok\n",
      "03deam493 ...ok\n",
      "0410a8y51 ...ok\n",
      "053evvt91 ...ok\n",
      "05epqd940 ...ok\n",
      "02qxa1v47 ...ok\n",
      "03ytpa045 ...error\n",
      "04wqvjr21 ...ok\n",
      "03bf2nz41 ...ok\n",
      "04c3yce28 ...ok\n",
      "01r35jx22 ...error\n",
      "04yvax419 ...ok\n",
      "016ncsr12 ...ok\n",
      "02d741577 ...ok\n",
      "0084te143 ...ok\n",
      "02ppyfa04 ...ok\n",
      "02kxjxy06 ...ok\n",
      "03vn1xq77 ...error\n",
      "04q33ey84 ...error\n",
      "0246mbd04 ...error\n",
      "010567a58 ...ok\n",
      "0250ngj72 ...ok\n",
      "01hq89f96 ...ok\n",
      "03evbwn87 ...ok\n",
      "027arzy69 ..."
     ]
    }
   ],
   "source": [
    "for current_ror in list_rors:\n",
    "    print(current_ror, end=' ...')\n",
    "    try:\n",
    "        make_data(current_ror)\n",
    "        print('ok')\n",
    "    except:\n",
    "        print('error')\n",
    "    \n",
    "#make_data('04s3t1g37')"
   ]
  },
  {
   "cell_type": "code",
   "execution_count": null,
   "id": "516a5cc5",
   "metadata": {},
   "outputs": [],
   "source": []
  }
 ],
 "metadata": {
  "kernelspec": {
   "display_name": "Python 3",
   "language": "python",
   "name": "python3"
  },
  "language_info": {
   "codemirror_mode": {
    "name": "ipython",
    "version": 3
   },
   "file_extension": ".py",
   "mimetype": "text/x-python",
   "name": "python",
   "nbconvert_exporter": "python",
   "pygments_lexer": "ipython3",
   "version": "3.9.18"
  }
 },
 "nbformat": 4,
 "nbformat_minor": 5
}
