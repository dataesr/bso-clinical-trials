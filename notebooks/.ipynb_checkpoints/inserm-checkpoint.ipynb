{
 "cells": [
  {
   "cell_type": "code",
   "execution_count": 1,
   "id": "467b82ca",
   "metadata": {},
   "outputs": [],
   "source": [
    "import pandas as pd"
   ]
  },
  {
   "cell_type": "code",
   "execution_count": 3,
   "id": "a54b3283",
   "metadata": {},
   "outputs": [
    {
     "data": {
      "text/html": [
       "<div>\n",
       "<style scoped>\n",
       "    .dataframe tbody tr th:only-of-type {\n",
       "        vertical-align: middle;\n",
       "    }\n",
       "\n",
       "    .dataframe tbody tr th {\n",
       "        vertical-align: top;\n",
       "    }\n",
       "\n",
       "    .dataframe thead th {\n",
       "        text-align: right;\n",
       "    }\n",
       "</style>\n",
       "<table border=\"1\" class=\"dataframe\">\n",
       "  <thead>\n",
       "    <tr style=\"text-align: right;\">\n",
       "      <th></th>\n",
       "      <th>inserm_concat</th>\n",
       "      <th>NCT Number</th>\n",
       "      <th>Title_first</th>\n",
       "      <th>Acronym_first</th>\n",
       "      <th>Status_first</th>\n",
       "      <th>Study Results_first</th>\n",
       "      <th>Conditions_first</th>\n",
       "      <th>Interventions_first</th>\n",
       "      <th>Outcome Measures_first</th>\n",
       "      <th>Sponsor/Collaborators_first</th>\n",
       "      <th>...</th>\n",
       "      <th>Primary Completion Date_first</th>\n",
       "      <th>Completion Date_first</th>\n",
       "      <th>First Posted_first</th>\n",
       "      <th>Results First Posted_first</th>\n",
       "      <th>Last Update Posted_first</th>\n",
       "      <th>Locations_first</th>\n",
       "      <th>Study Documents_first</th>\n",
       "      <th>URL_first</th>\n",
       "      <th>nct</th>\n",
       "      <th>pmids</th>\n",
       "    </tr>\n",
       "  </thead>\n",
       "  <tbody>\n",
       "    <tr>\n",
       "      <th>0</th>\n",
       "      <td>oui</td>\n",
       "      <td>NCT00001671</td>\n",
       "      <td>The Classification and Cause of Leukodystrophi...</td>\n",
       "      <td>NaN</td>\n",
       "      <td>Completed</td>\n",
       "      <td>No Results Available</td>\n",
       "      <td>Lysosomal Storage Disease</td>\n",
       "      <td>NaN</td>\n",
       "      <td>NaN</td>\n",
       "      <td>National Institute of Neurological Disorders a...</td>\n",
       "      <td>...</td>\n",
       "      <td>NaN</td>\n",
       "      <td>December 15, 2008</td>\n",
       "      <td>November 4, 1999</td>\n",
       "      <td>NaN</td>\n",
       "      <td>July 2, 2017</td>\n",
       "      <td>University of California, San Francisco, San F...</td>\n",
       "      <td>NaN</td>\n",
       "      <td>https://ClinicalTrials.gov/show/NCT00001671</td>\n",
       "      <td>NCT00001671</td>\n",
       "      <td>28748214</td>\n",
       "    </tr>\n",
       "    <tr>\n",
       "      <th>1</th>\n",
       "      <td>oui</td>\n",
       "      <td>NCT00090051</td>\n",
       "      <td>FCR Versus FC Alone in the Treatment of Chroni...</td>\n",
       "      <td>NaN</td>\n",
       "      <td>Completed</td>\n",
       "      <td>Has Results</td>\n",
       "      <td>Chronic Lymphocytic Leukemia</td>\n",
       "      <td>Drug: Rituximab|Drug: Fludarabine Phosphate|Dr...</td>\n",
       "      <td>Progression-free Survival (PFS) as Assessed by...</td>\n",
       "      <td>Hoffmann-La Roche|Biogen|Genentech, Inc.</td>\n",
       "      <td>...</td>\n",
       "      <td>July 23, 2008</td>\n",
       "      <td>May 31, 2012</td>\n",
       "      <td>August 25, 2004</td>\n",
       "      <td>January 23, 2012</td>\n",
       "      <td>August 1, 2017</td>\n",
       "      <td>Uab Comprehensive Cancer Center, Birmingham, A...</td>\n",
       "      <td>NaN</td>\n",
       "      <td>https://ClinicalTrials.gov/show/NCT00090051</td>\n",
       "      <td>NCT00090051</td>\n",
       "      <td>24916506;23525797</td>\n",
       "    </tr>\n",
       "    <tr>\n",
       "      <th>2</th>\n",
       "      <td>anrs</td>\n",
       "      <td>NCT00113282</td>\n",
       "      <td>Efficacy of Adding Interleukin-2 to an Optimiz...</td>\n",
       "      <td>NaN</td>\n",
       "      <td>Completed</td>\n",
       "      <td>No Results Available</td>\n",
       "      <td>HIV Infections</td>\n",
       "      <td>Drug: Interleukin-2 (IL-2)</td>\n",
       "      <td>proportion of patients reaching an absolute CD...</td>\n",
       "      <td>French National Agency for Research on AIDS an...</td>\n",
       "      <td>...</td>\n",
       "      <td>December 2007</td>\n",
       "      <td>February 2008</td>\n",
       "      <td>June 8, 2005</td>\n",
       "      <td>NaN</td>\n",
       "      <td>December 22, 2011</td>\n",
       "      <td>H�pital Necker service des Maladies Infectieus...</td>\n",
       "      <td>NaN</td>\n",
       "      <td>https://ClinicalTrials.gov/show/NCT00113282</td>\n",
       "      <td>NCT00113282</td>\n",
       "      <td>NaN</td>\n",
       "    </tr>\n",
       "    <tr>\n",
       "      <th>3</th>\n",
       "      <td>anrs</td>\n",
       "      <td>NCT00115609</td>\n",
       "      <td>Efficacy of Tenofovir-Emtricitabine and Efavir...</td>\n",
       "      <td>NaN</td>\n",
       "      <td>Completed</td>\n",
       "      <td>No Results Available</td>\n",
       "      <td>HIV Infections|Tuberculosis</td>\n",
       "      <td>Drug: efavirenz|Drug: tenofovir DF|Drug: emtri...</td>\n",
       "      <td>treatment success rate at week 48 (W48)|course...</td>\n",
       "      <td>French National Agency for Research on AIDS an...</td>\n",
       "      <td>...</td>\n",
       "      <td>November 2009</td>\n",
       "      <td>November 2009</td>\n",
       "      <td>June 24, 2005</td>\n",
       "      <td>NaN</td>\n",
       "      <td>December 22, 2011</td>\n",
       "      <td>Service des maladies Infectieuses et tropicale...</td>\n",
       "      <td>NaN</td>\n",
       "      <td>https://ClinicalTrials.gov/show/NCT00115609</td>\n",
       "      <td>NCT00115609</td>\n",
       "      <td>NaN</td>\n",
       "    </tr>\n",
       "    <tr>\n",
       "      <th>4</th>\n",
       "      <td>anrs</td>\n",
       "      <td>NCT00116454</td>\n",
       "      <td>Trial for Hepatocellular Carcinoma Adjuvant Tr...</td>\n",
       "      <td>Lipiocis</td>\n",
       "      <td>Completed</td>\n",
       "      <td>No Results Available</td>\n",
       "      <td>Carcinoma, Hepatocellular|Hepatitis, Viral, Human</td>\n",
       "      <td>Drug: 131 I-lipiodol</td>\n",
       "      <td>to determine if the Lipiocis treatment decreas...</td>\n",
       "      <td>ANRS, Emerging Infectious Diseases</td>\n",
       "      <td>...</td>\n",
       "      <td>August 2013</td>\n",
       "      <td>August 2013</td>\n",
       "      <td>June 30, 2005</td>\n",
       "      <td>NaN</td>\n",
       "      <td>September 23, 2013</td>\n",
       "      <td>Service d'H�patologie H�pital Saint Antoine, P...</td>\n",
       "      <td>NaN</td>\n",
       "      <td>https://ClinicalTrials.gov/show/NCT00116454</td>\n",
       "      <td>NCT00116454</td>\n",
       "      <td>NaN</td>\n",
       "    </tr>\n",
       "  </tbody>\n",
       "</table>\n",
       "<p>5 rows × 29 columns</p>\n",
       "</div>"
      ],
      "text/plain": [
       "  inserm_concat   NCT Number  \\\n",
       "0           oui  NCT00001671   \n",
       "1           oui  NCT00090051   \n",
       "2          anrs  NCT00113282   \n",
       "3          anrs  NCT00115609   \n",
       "4          anrs  NCT00116454   \n",
       "\n",
       "                                         Title_first Acronym_first  \\\n",
       "0  The Classification and Cause of Leukodystrophi...           NaN   \n",
       "1  FCR Versus FC Alone in the Treatment of Chroni...           NaN   \n",
       "2  Efficacy of Adding Interleukin-2 to an Optimiz...           NaN   \n",
       "3  Efficacy of Tenofovir-Emtricitabine and Efavir...           NaN   \n",
       "4  Trial for Hepatocellular Carcinoma Adjuvant Tr...      Lipiocis   \n",
       "\n",
       "  Status_first   Study Results_first  \\\n",
       "0    Completed  No Results Available   \n",
       "1    Completed           Has Results   \n",
       "2    Completed  No Results Available   \n",
       "3    Completed  No Results Available   \n",
       "4    Completed  No Results Available   \n",
       "\n",
       "                                    Conditions_first  \\\n",
       "0                          Lysosomal Storage Disease   \n",
       "1                       Chronic Lymphocytic Leukemia   \n",
       "2                                     HIV Infections   \n",
       "3                        HIV Infections|Tuberculosis   \n",
       "4  Carcinoma, Hepatocellular|Hepatitis, Viral, Human   \n",
       "\n",
       "                                 Interventions_first  \\\n",
       "0                                                NaN   \n",
       "1  Drug: Rituximab|Drug: Fludarabine Phosphate|Dr...   \n",
       "2                         Drug: Interleukin-2 (IL-2)   \n",
       "3  Drug: efavirenz|Drug: tenofovir DF|Drug: emtri...   \n",
       "4                               Drug: 131 I-lipiodol   \n",
       "\n",
       "                              Outcome Measures_first  \\\n",
       "0                                                NaN   \n",
       "1  Progression-free Survival (PFS) as Assessed by...   \n",
       "2  proportion of patients reaching an absolute CD...   \n",
       "3  treatment success rate at week 48 (W48)|course...   \n",
       "4  to determine if the Lipiocis treatment decreas...   \n",
       "\n",
       "                         Sponsor/Collaborators_first  ...  \\\n",
       "0  National Institute of Neurological Disorders a...  ...   \n",
       "1           Hoffmann-La Roche|Biogen|Genentech, Inc.  ...   \n",
       "2  French National Agency for Research on AIDS an...  ...   \n",
       "3  French National Agency for Research on AIDS an...  ...   \n",
       "4                 ANRS, Emerging Infectious Diseases  ...   \n",
       "\n",
       "  Primary Completion Date_first Completion Date_first First Posted_first  \\\n",
       "0                           NaN     December 15, 2008   November 4, 1999   \n",
       "1                 July 23, 2008          May 31, 2012    August 25, 2004   \n",
       "2                 December 2007         February 2008       June 8, 2005   \n",
       "3                 November 2009         November 2009      June 24, 2005   \n",
       "4                   August 2013           August 2013      June 30, 2005   \n",
       "\n",
       "   Results First Posted_first Last Update Posted_first  \\\n",
       "0                         NaN             July 2, 2017   \n",
       "1            January 23, 2012           August 1, 2017   \n",
       "2                         NaN        December 22, 2011   \n",
       "3                         NaN        December 22, 2011   \n",
       "4                         NaN       September 23, 2013   \n",
       "\n",
       "                                     Locations_first Study Documents_first  \\\n",
       "0  University of California, San Francisco, San F...                   NaN   \n",
       "1  Uab Comprehensive Cancer Center, Birmingham, A...                   NaN   \n",
       "2  H�pital Necker service des Maladies Infectieus...                   NaN   \n",
       "3  Service des maladies Infectieuses et tropicale...                   NaN   \n",
       "4  Service d'H�patologie H�pital Saint Antoine, P...                   NaN   \n",
       "\n",
       "                                     URL_first          nct              pmids  \n",
       "0  https://ClinicalTrials.gov/show/NCT00001671  NCT00001671           28748214  \n",
       "1  https://ClinicalTrials.gov/show/NCT00090051  NCT00090051  24916506;23525797  \n",
       "2  https://ClinicalTrials.gov/show/NCT00113282  NCT00113282                NaN  \n",
       "3  https://ClinicalTrials.gov/show/NCT00115609  NCT00115609                NaN  \n",
       "4  https://ClinicalTrials.gov/show/NCT00116454  NCT00116454                NaN  \n",
       "\n",
       "[5 rows x 29 columns]"
      ]
     },
     "execution_count": 3,
     "metadata": {},
     "output_type": "execute_result"
    }
   ],
   "source": [
    "df = pd.read_csv('BSOSante_publi_pmid.csv')\n",
    "df.head()"
   ]
  },
  {
   "cell_type": "code",
   "execution_count": 5,
   "id": "78f3abcc",
   "metadata": {},
   "outputs": [
    {
     "data": {
      "text/plain": [
       "oui        1309\n",
       "anrs         89\n",
       "non          37\n",
       "associ�      21\n",
       "Name: inserm_concat, dtype: int64"
      ]
     },
     "execution_count": 5,
     "metadata": {},
     "output_type": "execute_result"
    }
   ],
   "source": [
    "df.inserm_concat.value_counts()"
   ]
  },
  {
   "cell_type": "code",
   "execution_count": 9,
   "id": "ad19e355",
   "metadata": {},
   "outputs": [
    {
     "data": {
      "text/plain": [
       "Index(['inserm_concat', 'NCT Number', 'Title_first', 'Acronym_first',\n",
       "       'Status_first', 'Study Results_first', 'Conditions_first',\n",
       "       'Interventions_first', 'Outcome Measures_first',\n",
       "       'Sponsor/Collaborators_first', 'Gender_first', 'Age_first',\n",
       "       'Phases_first', 'Enrollment_first', 'Funded Bys_first',\n",
       "       'Study Type_first', 'Study Designs_first', 'Other IDs_first',\n",
       "       'Start Date_first', 'Primary Completion Date_first',\n",
       "       'Completion Date_first', 'First Posted_first',\n",
       "       'Results First Posted_first', 'Last Update Posted_first',\n",
       "       'Locations_first', 'Study Documents_first', 'URL_first', 'nct',\n",
       "       'pmids'],\n",
       "      dtype='object')"
      ]
     },
     "execution_count": 9,
     "metadata": {},
     "output_type": "execute_result"
    }
   ],
   "source": [
    "df.columns"
   ]
  },
  {
   "cell_type": "code",
   "execution_count": 12,
   "id": "42404342",
   "metadata": {},
   "outputs": [
    {
     "data": {
      "text/plain": [
       "Completed                  672\n",
       "Unknown status             266\n",
       "Recruiting                 251\n",
       "Not yet recruiting          98\n",
       "Terminated                  93\n",
       "Active, not recruiting      44\n",
       "Withdrawn                   22\n",
       "Enrolling by invitation      6\n",
       "Suspended                    4\n",
       "Name: Status_first, dtype: int64"
      ]
     },
     "execution_count": 12,
     "metadata": {},
     "output_type": "execute_result"
    }
   ],
   "source": [
    "df.Status_first.value_counts()"
   ]
  },
  {
   "cell_type": "code",
   "execution_count": 97,
   "id": "56c58502",
   "metadata": {},
   "outputs": [
    {
     "data": {
      "text/plain": [
       "600"
      ]
     },
     "execution_count": 97,
     "metadata": {},
     "output_type": "execute_result"
    }
   ],
   "source": [
    "df2 = df[(df.inserm_concat=='oui') & (df.Status_first=='Completed')]\n",
    "len(df2)"
   ]
  },
  {
   "cell_type": "code",
   "execution_count": 110,
   "id": "0a387545",
   "metadata": {},
   "outputs": [],
   "source": [
    "df3=pd.merge(df2, df_bso, left_on='nct', right_on='NCTId', how='left')"
   ]
  },
  {
   "cell_type": "code",
   "execution_count": 112,
   "id": "082169cd",
   "metadata": {},
   "outputs": [
    {
     "data": {
      "text/plain": [
       "85"
      ]
     },
     "execution_count": 112,
     "metadata": {},
     "output_type": "execute_result"
    }
   ],
   "source": [
    "df4 = df3[pd.isna(df3.NCTId)]\n",
    "len(df4)"
   ]
  },
  {
   "cell_type": "code",
   "execution_count": 113,
   "id": "dbd72746",
   "metadata": {},
   "outputs": [],
   "source": [
    "import requests\n",
    "def quick_get(nct):\n",
    "    r = requests.get(f'https://clinicaltrials.gov/api/query/full_studies?expr={nct}&fmt=json').json()\n",
    "    input_study = r['FullStudiesResponse']['FullStudies'][0]\n",
    "    x = input_study.get('Study')\n",
    "    protocol = x.get('ProtocolSection', {})\n",
    "    locations_module = protocol.get('ContactsLocationsModule', {})\n",
    "    locations = locations_module.get('LocationList', {}).get('Location', [])\n",
    "    location_country = list(set(\n",
    "        [x.get('LocationCountry') for x in locations if \"LocationCountry\" in x]))\n",
    "    return location_country\n",
    "    "
   ]
  },
  {
   "cell_type": "code",
   "execution_count": 114,
   "id": "1c3c93f9",
   "metadata": {},
   "outputs": [
    {
     "name": "stderr",
     "output_type": "stream",
     "text": [
      "<ipython-input-114-244db1182503>:1: SettingWithCopyWarning: \n",
      "A value is trying to be set on a copy of a slice from a DataFrame.\n",
      "Try using .loc[row_indexer,col_indexer] = value instead\n",
      "\n",
      "See the caveats in the documentation: https://pandas.pydata.org/pandas-docs/stable/user_guide/indexing.html#returning-a-view-versus-a-copy\n",
      "  df4['locations'] = None\n"
     ]
    },
    {
     "name": "stdout",
     "output_type": "stream",
     "text": [
      "NCT00169390 []\n",
      "NCT00429195 ['Ireland']\n",
      "NCT00463983 []\n",
      "NCT00529490 ['Indonesia']\n",
      "NCT00529711 ['Indonesia']\n",
      "NCT00680082 ['China']\n",
      "NCT00870649 ['Senegal']\n",
      "NCT00957073 ['United States']\n",
      "NCT01084343 ['Belgium']\n",
      "NCT01104740 ['Martinique', 'Guadeloupe']\n",
      "NCT01167283 []\n",
      "NCT01188512 ['Sweden']\n",
      "NCT01433276 ['Indonesia']\n",
      "NCT01545115 ['Senegal']\n",
      "NCT01551394 ['Italy']\n",
      "NCT01553552 ['Senegal']\n",
      "NCT01554124 ['United Kingdom']\n",
      "NCT01659437 ['Ghana', 'Benin']\n",
      "NCT01779752 []\n",
      "NCT01810822 ['Brazil']\n",
      "NCT01842919 []\n",
      "NCT02075918 ['United States']\n",
      "NCT02125682 ['Lebanon']\n",
      "NCT02129829 ['Senegal', 'Gambia']\n",
      "NCT02188862 ['New Caledonia', 'United Kingdom', 'Fiji']\n",
      "NCT02329054 ['Guinea']\n",
      "NCT02342171 ['Guinea']\n",
      "NCT02347969 []\n",
      "NCT02363322 ['Sierra Leone', 'Guinea', 'United States', 'Liberia']\n",
      "NCT02383459 []\n",
      "NCT02389660 ['Poland']\n",
      "NCT02453048 ['Sweden']\n",
      "NCT02496312 []\n",
      "NCT02497274 []\n",
      "NCT02509494 ['Sierra Leone']\n",
      "NCT02539862 []\n",
      "NCT02564523 ['Burkina Faso', 'Uganda', \"Côte D'Ivoire\", 'Kenya']\n",
      "NCT02624817 ['Norway']\n",
      "NCT02626286 ['Burkina Faso', 'Mali', 'Togo', \"Côte D'Ivoire\"]\n",
      "NCT02654691 ['Denmark']\n",
      "NCT02868255 []\n",
      "NCT02883322 []\n",
      "NCT02886416 []\n",
      "NCT02962635 ['Switzerland']\n",
      "NCT03027505 ['Burkina Faso']\n",
      "NCT03035305 ['Mali']\n",
      "NCT03088982 []\n",
      "NCT03131063 []\n",
      "NCT03188731 ['Mexico', 'Colombia', 'Cuba', 'Bolivia', 'Brazil', 'Venezuela', 'Guadeloupe']\n",
      "NCT03215732 ['Senegal']\n",
      "NCT03218514 []\n",
      "NCT03249493 ['Vietnam']\n",
      "NCT03285828 []\n",
      "NCT03378843 []\n",
      "NCT03393286 ['Mexico', 'Colombia', 'Cuba', 'Bolivia', 'Brazil', 'Venezuela', 'Guadeloupe']\n",
      "NCT03395379 []\n",
      "NCT03477071 []\n",
      "NCT03603743 []\n",
      "NCT03630874 []\n",
      "NCT03652090 []\n",
      "NCT03751475 ['Congo, The Democratic Republic of the']\n",
      "NCT03756935 []\n",
      "NCT03769142 []\n",
      "NCT03788187 []\n",
      "NCT03820739 ['Sierra Leone']\n",
      "NCT03831906 ['Uganda', \"Côte D'Ivoire\", 'Mozambique', 'Cambodia', 'Cameroon', 'Zambia']\n",
      "NCT03842319 ['Spain']\n",
      "NCT03853226 []\n",
      "NCT03870438 ['Burkina Faso', 'Zambia']\n",
      "NCT03876379 []\n",
      "NCT03929757 ['Sierra Leone', 'Guinea']\n",
      "NCT04028791 ['Guadeloupe']\n",
      "NCT04260542 ['Czechia']\n",
      "NCT04371835 ['Uganda', 'Zimbabwe', 'Thailand', 'Nigeria', 'India', 'Malaysia', 'Cameroon', 'Argentina', 'Brazil', 'South Africa']\n",
      "NCT04409405 ['Congo, The Democratic Republic of the']\n",
      "NCT04476979 ['French Guiana']\n",
      "NCT04479670 ['Martinique']\n",
      "NCT04631224 []\n",
      "NCT04698070 ['Niger']\n",
      "NCT04723979 ['Netherlands']\n",
      "NCT04842851 []\n",
      "NCT04885543 ['Burkina Faso', 'Guinea']\n",
      "NCT04888455 ['Germany']\n",
      "NCT04907682 ['Nigeria']\n",
      "NCT05349162 []\n"
     ]
    }
   ],
   "source": [
    "df4['locations'] = None\n",
    "for i, row in df4.iterrows():\n",
    "    locations = quick_get(row.nct)\n",
    "    df4.at[i, 'locations'] = locations\n",
    "    print(row.nct, locations)"
   ]
  },
  {
   "cell_type": "code",
   "execution_count": 116,
   "id": "0de7b826",
   "metadata": {},
   "outputs": [
    {
     "data": {
      "text/plain": [
       "1     40\n",
       "0     31\n",
       "2      6\n",
       "4      3\n",
       "7      2\n",
       "3      1\n",
       "6      1\n",
       "10     1\n",
       "Name: locations, dtype: int64"
      ]
     },
     "execution_count": 116,
     "metadata": {},
     "output_type": "execute_result"
    }
   ],
   "source": [
    "df4.locations.apply(lambda x:len(x)).value_counts()"
   ]
  },
  {
   "cell_type": "code",
   "execution_count": 118,
   "id": "6f5286a3",
   "metadata": {},
   "outputs": [
    {
     "data": {
      "text/html": [
       "<div>\n",
       "<style scoped>\n",
       "    .dataframe tbody tr th:only-of-type {\n",
       "        vertical-align: middle;\n",
       "    }\n",
       "\n",
       "    .dataframe tbody tr th {\n",
       "        vertical-align: top;\n",
       "    }\n",
       "\n",
       "    .dataframe thead th {\n",
       "        text-align: right;\n",
       "    }\n",
       "</style>\n",
       "<table border=\"1\" class=\"dataframe\">\n",
       "  <thead>\n",
       "    <tr style=\"text-align: right;\">\n",
       "      <th></th>\n",
       "      <th>nct</th>\n",
       "      <th>locations</th>\n",
       "    </tr>\n",
       "  </thead>\n",
       "  <tbody>\n",
       "    <tr>\n",
       "      <th>6</th>\n",
       "      <td>NCT00169390</td>\n",
       "      <td>[]</td>\n",
       "    </tr>\n",
       "    <tr>\n",
       "      <th>37</th>\n",
       "      <td>NCT00429195</td>\n",
       "      <td>[Ireland]</td>\n",
       "    </tr>\n",
       "    <tr>\n",
       "      <th>43</th>\n",
       "      <td>NCT00463983</td>\n",
       "      <td>[]</td>\n",
       "    </tr>\n",
       "    <tr>\n",
       "      <th>50</th>\n",
       "      <td>NCT00529490</td>\n",
       "      <td>[Indonesia]</td>\n",
       "    </tr>\n",
       "    <tr>\n",
       "      <th>51</th>\n",
       "      <td>NCT00529711</td>\n",
       "      <td>[Indonesia]</td>\n",
       "    </tr>\n",
       "  </tbody>\n",
       "</table>\n",
       "</div>"
      ],
      "text/plain": [
       "            nct    locations\n",
       "6   NCT00169390           []\n",
       "37  NCT00429195    [Ireland]\n",
       "43  NCT00463983           []\n",
       "50  NCT00529490  [Indonesia]\n",
       "51  NCT00529711  [Indonesia]"
      ]
     },
     "execution_count": 118,
     "metadata": {},
     "output_type": "execute_result"
    }
   ],
   "source": [
    "df4[['nct', 'locations']].head()"
   ]
  },
  {
   "cell_type": "code",
   "execution_count": 52,
   "id": "246be549",
   "metadata": {},
   "outputs": [
    {
     "data": {
      "text/plain": [
       "0.3466666666666667"
      ]
     },
     "execution_count": 52,
     "metadata": {},
     "output_type": "execute_result"
    }
   ],
   "source": [
    "len(df[(df.inserm_concat=='oui') & (df.Status_first=='Completed')].pmids.dropna())/600"
   ]
  },
  {
   "cell_type": "code",
   "execution_count": 35,
   "id": "694c4226",
   "metadata": {},
   "outputs": [],
   "source": [
    "df_bso = pd.read_json('/Users/eric/Downloads/bso-clinical-trials_20221209.jsonl.gz', lines=True)"
   ]
  },
  {
   "cell_type": "code",
   "execution_count": 89,
   "id": "e2af53f9",
   "metadata": {},
   "outputs": [],
   "source": [
    "current_nct='NCT02496312'"
   ]
  },
  {
   "cell_type": "code",
   "execution_count": 90,
   "id": "17bed477",
   "metadata": {},
   "outputs": [
    {
     "data": {
      "text/plain": [
       "array([], dtype=object)"
      ]
     },
     "execution_count": 90,
     "metadata": {},
     "output_type": "execute_result"
    }
   ],
   "source": [
    "df_bso[df_bso.NCTId==current_nct].location_facility.values"
   ]
  },
  {
   "cell_type": "code",
   "execution_count": 91,
   "id": "124643e5",
   "metadata": {},
   "outputs": [
    {
     "data": {
      "text/plain": [
       "array([], dtype=object)"
      ]
     },
     "execution_count": 91,
     "metadata": {},
     "output_type": "execute_result"
    }
   ],
   "source": [
    "df_bso[df_bso.NCTId==current_nct].lead_sponsor.values"
   ]
  },
  {
   "cell_type": "code",
   "execution_count": 83,
   "id": "e5efd61a",
   "metadata": {},
   "outputs": [
    {
     "data": {
      "text/html": [
       "<div>\n",
       "<style scoped>\n",
       "    .dataframe tbody tr th:only-of-type {\n",
       "        vertical-align: middle;\n",
       "    }\n",
       "\n",
       "    .dataframe tbody tr th {\n",
       "        vertical-align: top;\n",
       "    }\n",
       "\n",
       "    .dataframe thead th {\n",
       "        text-align: right;\n",
       "    }\n",
       "</style>\n",
       "<table border=\"1\" class=\"dataframe\">\n",
       "  <thead>\n",
       "    <tr style=\"text-align: right;\">\n",
       "      <th></th>\n",
       "    </tr>\n",
       "  </thead>\n",
       "  <tbody>\n",
       "  </tbody>\n",
       "</table>\n",
       "</div>"
      ],
      "text/plain": [
       "Empty DataFrame\n",
       "Columns: []\n",
       "Index: []"
      ]
     },
     "execution_count": 83,
     "metadata": {},
     "output_type": "execute_result"
    }
   ],
   "source": [
    "pd.DataFrame(df_bso[df_bso.NCTId==current_nct].references.values[0])"
   ]
  },
  {
   "cell_type": "code",
   "execution_count": 61,
   "id": "42dfe1e3",
   "metadata": {},
   "outputs": [
    {
     "data": {
      "text/plain": [
       "Index(['all_sources', 'has_results', 'NCTId', 'other_ids', 'title', 'acronym',\n",
       "       'summary', 'study_start_date', 'study_start_date_type', 'status',\n",
       "       'study_completion_date', 'study_completion_date_type',\n",
       "       'study_first_submit_date', 'study_first_submit_qc_date', 'study_type',\n",
       "       'time_perspective', 'enrollment_count', 'enrollment_type', 'references',\n",
       "       'has_publications_result', 'has_results_or_publications', 'ipd_sharing',\n",
       "       'lead_sponsor', 'location_country', 'location_facility',\n",
       "       'snapshot_date', 'study_start_year', 'study_completion_year',\n",
       "       'delay_submission_start', 'submission_temporality',\n",
       "       'delay_start_completion', 'lead_sponsor_type', 'french_location_only',\n",
       "       'status_simplified', 'bso_country', 'has_publication_oa',\n",
       "       'publication_access', 'intervention_type', 'design_allocation',\n",
       "       'primary_purpose', 'eudraCT', 'publications_result',\n",
       "       'results_first_submit_date', 'results_first_submit_qc_date',\n",
       "       'first_results_or_publication_date', 'delay_first_results_completion',\n",
       "       'ipd_sharing_description', 'WHO', 'ISRCTN'],\n",
       "      dtype='object')"
      ]
     },
     "execution_count": 61,
     "metadata": {},
     "output_type": "execute_result"
    }
   ],
   "source": [
    "df_bso.columns"
   ]
  },
  {
   "cell_type": "code",
   "execution_count": 45,
   "id": "8f85f928",
   "metadata": {},
   "outputs": [
    {
     "data": {
      "text/html": [
       "<div>\n",
       "<style scoped>\n",
       "    .dataframe tbody tr th:only-of-type {\n",
       "        vertical-align: middle;\n",
       "    }\n",
       "\n",
       "    .dataframe tbody tr th {\n",
       "        vertical-align: top;\n",
       "    }\n",
       "\n",
       "    .dataframe thead th {\n",
       "        text-align: right;\n",
       "    }\n",
       "</style>\n",
       "<table border=\"1\" class=\"dataframe\">\n",
       "  <thead>\n",
       "    <tr style=\"text-align: right;\">\n",
       "      <th></th>\n",
       "      <th>inserm_concat</th>\n",
       "      <th>NCT Number</th>\n",
       "      <th>Title_first</th>\n",
       "      <th>Acronym_first</th>\n",
       "      <th>Status_first</th>\n",
       "      <th>Study Results_first</th>\n",
       "      <th>Conditions_first</th>\n",
       "      <th>Interventions_first</th>\n",
       "      <th>Outcome Measures_first</th>\n",
       "      <th>Sponsor/Collaborators_first</th>\n",
       "      <th>...</th>\n",
       "      <th>Primary Completion Date_first</th>\n",
       "      <th>Completion Date_first</th>\n",
       "      <th>First Posted_first</th>\n",
       "      <th>Results First Posted_first</th>\n",
       "      <th>Last Update Posted_first</th>\n",
       "      <th>Locations_first</th>\n",
       "      <th>Study Documents_first</th>\n",
       "      <th>URL_first</th>\n",
       "      <th>nct</th>\n",
       "      <th>pmids</th>\n",
       "    </tr>\n",
       "  </thead>\n",
       "  <tbody>\n",
       "    <tr>\n",
       "      <th>288</th>\n",
       "      <td>oui</td>\n",
       "      <td>NCT01405430</td>\n",
       "      <td>Exploration of Circulating VE-cadherin in Meta...</td>\n",
       "      <td>AVECC</td>\n",
       "      <td>Completed</td>\n",
       "      <td>No Results Available</td>\n",
       "      <td>Colorectal Cancer|Metastasis</td>\n",
       "      <td>Biological: Bevacizumab + blood samples</td>\n",
       "      <td>Response rate to treatment|Clinical benefit|Ev...</td>\n",
       "      <td>Centre Leon Berard|UMR-S Inserm 1036</td>\n",
       "      <td>...</td>\n",
       "      <td>May 2014</td>\n",
       "      <td>May 2014</td>\n",
       "      <td>July 29, 2011</td>\n",
       "      <td>NaN</td>\n",
       "      <td>June 29, 2015</td>\n",
       "      <td>Centre L�on B�rard, LYON Cedex 08, France|H�pi...</td>\n",
       "      <td>NaN</td>\n",
       "      <td>https://ClinicalTrials.gov/show/NCT01405430</td>\n",
       "      <td>NCT01405430</td>\n",
       "      <td>NaN</td>\n",
       "    </tr>\n",
       "  </tbody>\n",
       "</table>\n",
       "<p>1 rows × 29 columns</p>\n",
       "</div>"
      ],
      "text/plain": [
       "    inserm_concat   NCT Number  \\\n",
       "288           oui  NCT01405430   \n",
       "\n",
       "                                           Title_first Acronym_first  \\\n",
       "288  Exploration of Circulating VE-cadherin in Meta...         AVECC   \n",
       "\n",
       "    Status_first   Study Results_first              Conditions_first  \\\n",
       "288    Completed  No Results Available  Colorectal Cancer|Metastasis   \n",
       "\n",
       "                         Interventions_first  \\\n",
       "288  Biological: Bevacizumab + blood samples   \n",
       "\n",
       "                                Outcome Measures_first  \\\n",
       "288  Response rate to treatment|Clinical benefit|Ev...   \n",
       "\n",
       "              Sponsor/Collaborators_first  ... Primary Completion Date_first  \\\n",
       "288  Centre Leon Berard|UMR-S Inserm 1036  ...                      May 2014   \n",
       "\n",
       "    Completion Date_first First Posted_first  Results First Posted_first  \\\n",
       "288              May 2014      July 29, 2011                         NaN   \n",
       "\n",
       "    Last Update Posted_first  \\\n",
       "288            June 29, 2015   \n",
       "\n",
       "                                       Locations_first Study Documents_first  \\\n",
       "288  Centre L�on B�rard, LYON Cedex 08, France|H�pi...                   NaN   \n",
       "\n",
       "                                       URL_first          nct pmids  \n",
       "288  https://ClinicalTrials.gov/show/NCT01405430  NCT01405430   NaN  \n",
       "\n",
       "[1 rows x 29 columns]"
      ]
     },
     "execution_count": 45,
     "metadata": {},
     "output_type": "execute_result"
    }
   ],
   "source": [
    "df[df.nct=='NCT01405430']"
   ]
  },
  {
   "cell_type": "code",
   "execution_count": null,
   "id": "04443e4c",
   "metadata": {},
   "outputs": [],
   "source": []
  }
 ],
 "metadata": {
  "kernelspec": {
   "display_name": "Python 3",
   "language": "python",
   "name": "python3"
  },
  "language_info": {
   "codemirror_mode": {
    "name": "ipython",
    "version": 3
   },
   "file_extension": ".py",
   "mimetype": "text/x-python",
   "name": "python",
   "nbconvert_exporter": "python",
   "pygments_lexer": "ipython3",
   "version": "3.9.1"
  }
 },
 "nbformat": 4,
 "nbformat_minor": 5
}
