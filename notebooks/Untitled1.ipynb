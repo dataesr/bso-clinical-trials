{
 "cells": [
  {
   "cell_type": "code",
   "execution_count": 17,
   "id": "c1c500ce",
   "metadata": {},
   "outputs": [],
   "source": [
    "import requests\n",
    "import pandas as pd"
   ]
  },
  {
   "cell_type": "code",
   "execution_count": 4,
   "id": "b9be006e",
   "metadata": {},
   "outputs": [],
   "source": [
    "x = requests.get('https://storage.gra.cloud.ovh.net/v1/AUTH_32c5d10cb0fe4519b957064a111717e3/bso-datacite').text"
   ]
  },
  {
   "cell_type": "code",
   "execution_count": 6,
   "id": "2867797c",
   "metadata": {},
   "outputs": [],
   "source": [
    "data = x.split('\\n')"
   ]
  },
  {
   "cell_type": "code",
   "execution_count": 19,
   "id": "91332658",
   "metadata": {},
   "outputs": [
    {
     "name": "stdout",
     "output_type": "stream",
     "text": [
      " skip\n"
     ]
    }
   ],
   "source": [
    "res = []\n",
    "for e in data:\n",
    "    filename = e.split('/')[-1]\n",
    "    if len(e)<2:\n",
    "        print(e, 'skip')\n",
    "        continue\n",
    "    start = filename.split('-')[1]\n",
    "    year = start[0:4]\n",
    "    res.append({'start': start, 'filename': filename, 'year': year})\n",
    "    "
   ]
  },
  {
   "cell_type": "code",
   "execution_count": 21,
   "id": "05d6503a",
   "metadata": {},
   "outputs": [
    {
     "data": {
      "text/plain": [
       "2020    366\n",
       "2018    365\n",
       "2019    365\n",
       "2021    365\n",
       "2022    365\n",
       "2023    117\n",
       "Name: year, dtype: int64"
      ]
     },
     "execution_count": 21,
     "metadata": {},
     "output_type": "execute_result"
    }
   ],
   "source": [
    "pd.DataFrame(res).year.value_counts()"
   ]
  },
  {
   "cell_type": "code",
   "execution_count": 22,
   "id": "e8ee1ada",
   "metadata": {},
   "outputs": [
    {
     "data": {
      "text/plain": [
       "1943"
      ]
     },
     "execution_count": 22,
     "metadata": {},
     "output_type": "execute_result"
    }
   ],
   "source": [
    "len(res)"
   ]
  },
  {
   "cell_type": "code",
   "execution_count": null,
   "id": "deeb006a",
   "metadata": {},
   "outputs": [],
   "source": []
  }
 ],
 "metadata": {
  "kernelspec": {
   "display_name": "Python 3",
   "language": "python",
   "name": "python3"
  },
  "language_info": {
   "codemirror_mode": {
    "name": "ipython",
    "version": 3
   },
   "file_extension": ".py",
   "mimetype": "text/x-python",
   "name": "python",
   "nbconvert_exporter": "python",
   "pygments_lexer": "ipython3",
   "version": "3.9.1"
  }
 },
 "nbformat": 4,
 "nbformat_minor": 5
}
