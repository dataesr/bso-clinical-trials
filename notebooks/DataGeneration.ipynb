{
 "cells": [
  {
   "cell_type": "code",
   "execution_count": 1,
   "id": "36496289",
   "metadata": {},
   "outputs": [],
   "source": [
    "import pandas as pd\n",
    "import csv"
   ]
  },
  {
   "cell_type": "code",
   "execution_count": 2,
   "id": "3f67467c",
   "metadata": {},
   "outputs": [],
   "source": [
    "url = 'https://storage.gra.cloud.ovh.net/v1/AUTH_32c5d10cb0fe4519b957064a111717e3/bso_dump/bso-clinical-trials_20240606.jsonl.gz'\n",
    "df = pd.read_json(url, lines=True)"
   ]
  },
  {
   "cell_type": "code",
   "execution_count": 3,
   "id": "10d62971",
   "metadata": {},
   "outputs": [
    {
     "data": {
      "text/plain": [
       "41846"
      ]
     },
     "execution_count": 3,
     "metadata": {},
     "output_type": "execute_result"
    }
   ],
   "source": [
    "len(df)"
   ]
  },
  {
   "cell_type": "code",
   "execution_count": 4,
   "id": "ea57d9de",
   "metadata": {},
   "outputs": [
    {
     "data": {
      "text/plain": [
       "academique    22269\n",
       "industriel    19573\n",
       "Name: lead_sponsor_type, dtype: int64"
      ]
     },
     "execution_count": 4,
     "metadata": {},
     "output_type": "execute_result"
    }
   ],
   "source": [
    "df.lead_sponsor_type.value_counts()"
   ]
  },
  {
   "cell_type": "code",
   "execution_count": 5,
   "id": "2ae975ff",
   "metadata": {},
   "outputs": [],
   "source": [
    "#df[df.lead_sponsor.apply(lambda x:'APHP' in str(x))].lead_sponsor.value_counts()"
   ]
  },
  {
   "cell_type": "code",
   "execution_count": 6,
   "id": "8b9cd8c7",
   "metadata": {},
   "outputs": [],
   "source": [
    "mapping = pd.read_csv('https://raw.githubusercontent.com/dataesr/bso-clinical-trials/main/bsoclinicaltrials/server/main/bso-lead-sponsors-mapping.csv')"
   ]
  },
  {
   "cell_type": "code",
   "execution_count": 7,
   "id": "89cef686",
   "metadata": {},
   "outputs": [
    {
     "data": {
      "text/plain": [
       "101"
      ]
     },
     "execution_count": 7,
     "metadata": {},
     "output_type": "execute_result"
    }
   ],
   "source": [
    "list_rors = [r.split('/')[-1] for r in mapping.ror.unique() if (r==r) and len(r.split('/')[-1])==9]\n",
    "len(list_rors)"
   ]
  },
  {
   "cell_type": "code",
   "execution_count": 8,
   "id": "047a4535",
   "metadata": {},
   "outputs": [],
   "source": [
    "df_completed_intervention = df[(df.status_simplified=='Completed') & (df.study_type=='Interventional') & (df.lead_sponsor_type=='academique')]\n",
    "\n",
    "mycols = ['lead_sponsor', 'study_completion_year', 'NCTId', 'eudraCT', 'study_type', \n",
    "                                 'status_simplified', 'acronym', 'title',\n",
    "    'has_results_or_publications', 'has_results_or_publications_within_1y', 'has_results_or_publications_within_3y']\n",
    "\n",
    "df2 = df_completed_intervention[mycols]"
   ]
  },
  {
   "cell_type": "code",
   "execution_count": 62,
   "id": "b6947fda",
   "metadata": {},
   "outputs": [],
   "source": [
    "excluded_rors = [\n",
    "    '02n6c9837', #sanofi\n",
    "    '02xnj2427'\n",
    "]"
   ]
  },
  {
   "cell_type": "code",
   "execution_count": 63,
   "id": "936d6cf5",
   "metadata": {},
   "outputs": [],
   "source": [
    "df_intervention = df[ (df.study_type=='Interventional') & (df.lead_sponsor_type=='academique')]\n",
    "\n",
    "dd_perim = pd.merge(df_intervention[mycols], mapping, left_on='lead_sponsor', right_on='sponsor', indicator=True, how='inner')\n",
    "dd_perim_ror = dd_perim[dd_perim.ror.apply(lambda x:isinstance(x, str) and 'ror.org/' in x)]\n",
    "dd_perim_ror['ror_simple'] = dd_perim_ror.ror.apply(lambda x:x.split('/')[-1])\n",
    "dd_perim_ror.ror_simple.value_counts().head(65)\n",
    "df_perimetre = pd.DataFrame(dd_perim_ror.ror_simple.value_counts().head(64)).reset_index() # 10 essais \n",
    "df_perimetre.columns = ['ror', 'nb']\n",
    "df_perimetre = df_perimetre[df_perimetre.ror.apply(lambda x:x not in excluded_rors)]\n",
    "df_name = dd_perim_ror[['ror_simple', 'sponsor_normalized']].drop_duplicates()\n",
    "df_perimetre2 = pd.merge(df_perimetre, df_name, left_on='ror', right_on='ror_simple', how='left')\n",
    "df_perimetre2[['ror', 'nb', 'sponsor_normalized']].to_csv('../publipostage/perimetre.csv', index=False)"
   ]
  },
  {
   "cell_type": "code",
   "execution_count": 64,
   "id": "d75650f0",
   "metadata": {},
   "outputs": [],
   "source": [
    "rors_to_compute = df_perimetre.ror.to_list()"
   ]
  },
  {
   "cell_type": "code",
   "execution_count": 11,
   "id": "ab1dcd68",
   "metadata": {},
   "outputs": [],
   "source": [
    "dd = pd.merge(df2, mapping, left_on='lead_sponsor', right_on='sponsor', indicator=True, how='inner')"
   ]
  },
  {
   "cell_type": "code",
   "execution_count": 12,
   "id": "5b55efbf",
   "metadata": {},
   "outputs": [
    {
     "data": {
      "text/plain": [
       "both          5968\n",
       "left_only        0\n",
       "right_only       0\n",
       "Name: _merge, dtype: int64"
      ]
     },
     "execution_count": 12,
     "metadata": {},
     "output_type": "execute_result"
    }
   ],
   "source": [
    "dd._merge.value_counts()"
   ]
  },
  {
   "cell_type": "code",
   "execution_count": 13,
   "id": "a4484d89",
   "metadata": {},
   "outputs": [],
   "source": [
    "dd_ror = dd[dd.ror.apply(lambda x:isinstance(x, str) and 'ror.org/' in x)]"
   ]
  },
  {
   "cell_type": "code",
   "execution_count": 14,
   "id": "63812957",
   "metadata": {},
   "outputs": [],
   "source": [
    "dd_ror['ror_simple'] = dd_ror.ror.apply(lambda x:x.split('/')[-1])"
   ]
  },
  {
   "cell_type": "code",
   "execution_count": 15,
   "id": "283eb2d4",
   "metadata": {},
   "outputs": [],
   "source": [
    "# APHP 00pg5jh14 \n",
    "# IPC 04s3t1g37"
   ]
  },
  {
   "cell_type": "code",
   "execution_count": 16,
   "id": "9c120dc8",
   "metadata": {},
   "outputs": [],
   "source": [
    "import matplotlib.pyplot as plt\n",
    "import matplotlib.ticker as mtick\n",
    "SIZE = 22\n",
    "SMALL_SIZE=18\n",
    "plt.rc('font', size=SIZE)          # controls default text sizes\n",
    "plt.rc('axes', titlesize=SIZE)     # fontsize of the axes title\n",
    "plt.rc('axes', labelsize=SIZE)    # fontsize of the x and y labels\n",
    "plt.rc('xtick', labelsize=SIZE)    # fontsize of the tick labels\n",
    "plt.rc('ytick', labelsize=SIZE)    # fontsize of the tick labels\n",
    "plt.rc('legend', fontsize=SIZE)    # legend fontsize\n",
    "plt.rc('figure', titlesize=SIZE)  # fontsize of the figure title  "
   ]
  },
  {
   "cell_type": "code",
   "execution_count": 17,
   "id": "e5ec2b78",
   "metadata": {},
   "outputs": [],
   "source": [
    "cle_false = 'SANS communication\\nidentifiée'\n",
    "cle_true = 'AVEC communication\\nidentifiée'\n",
    "    \n",
    "def analyze_global(df_etab):\n",
    "    ans = {'global': {}, '10Y': {}}\n",
    "    \n",
    "    d_g = pd.DataFrame(df_etab.has_results_or_publications.value_counts(dropna=False))\n",
    "    d_g_10 = pd.DataFrame(df_etab[(df_etab.study_completion_year >= 2012) & (df_etab.study_completion_year <= 2022)].has_results_or_publications.value_counts(dropna=False))\n",
    "    \n",
    "    try:\n",
    "        ans['global'][cle_true] = d_g[d_g.index==True].has_results_or_publications.values[0]\n",
    "    except:\n",
    "        ans['global'][cle_true] = 0\n",
    "    try:\n",
    "        ans['global'][cle_false] = d_g[d_g.index==False].has_results_or_publications.values[0]\n",
    "    except:\n",
    "        ans['global'][cle_false] = 0\n",
    "    #ans['global']['percentage'] = round(100 * ans['global'][cle_true] / ans['global'][cle_false], 0)\n",
    "    assert(ans['global'][cle_false] + ans['global'][cle_true]) == len(df_etab)\n",
    "    \n",
    "\n",
    "    try:\n",
    "        ans['10Y'][cle_true] = d_g_10[d_g_10.index==True].has_results_or_publications.values[0]\n",
    "    except:\n",
    "        ans['10Y'][cle_true] = 0\n",
    "    try:\n",
    "        ans['10Y'][cle_false] = d_g_10[d_g_10.index==False].has_results_or_publications.values[0]\n",
    "    except:\n",
    "        ans['10Y'][cle_false] = 0\n",
    "    #ans['10Y']['percentage'] = round(100 * ans['10Y'][cle_true] / ans['10Y'][cle_false], 0)\n",
    "    \n",
    "    return ans\n"
   ]
  },
  {
   "cell_type": "code",
   "execution_count": 18,
   "id": "3900e2b7",
   "metadata": {},
   "outputs": [],
   "source": [
    "def make_evolution(ror, df_tmp):\n",
    "    \n",
    "    df1Y = pd.DataFrame(df_tmp[(df_tmp.study_completion_year>=2014) & (df_tmp.study_completion_year<2023)]\\\n",
    "    .groupby('study_completion_year')['has_results_or_publications_within_1y', ].mean()).reset_index()\n",
    "    #df3Y = pd.DataFrame(df_tmp[(df_tmp.study_completion_year>=2014) & (df_tmp.study_completion_year<2021)]\\\n",
    "    #.groupby('study_completion_year')['has_results_or_publications_within_3y', ].mean()).reset_index()\n",
    "    #df1_3Y = pd.merge(df1Y, df3Y, on='study_completion_year', how='left')\n",
    "    df1_3Y = df1Y\n",
    "    years = df1_3Y.study_completion_year.tolist()\n",
    "    rate1Y = df1_3Y.has_results_or_publications_within_1y.tolist()\n",
    "    #rate3Y = df1_3Y.has_results_or_publications_within_3y.tolist()\n",
    "    #rate3Y = [r for r in rate3Y if r==r]\n",
    "    \n",
    "    fig, ax = plt.subplots(figsize=(9,9), dpi=100)\n",
    "\n",
    "    width = 0.75  # the width of the bars\n",
    "    multiplier = 0\n",
    "\n",
    "    #offset1 = width * multiplier\n",
    "    #rects1 = ax.bar([y-0.1 for y in years], [100 * r for r in rate1Y], width, label='1 an')\n",
    "    #ax.bar_label(rects1, labels = [f'{round(100*r)} %' for r in rate1Y], padding=3, fontsize=SMALL_SIZE)\n",
    "\n",
    "    #multiplier = 1\n",
    "    #offset2 = width * multiplier\n",
    "    #rects2 = ax.bar([y+0.1 for y in years[0:len(rate3Y)]], [100 * r for r in rate3Y], width, label='3 ans')\n",
    "    #ax.bar_label(rects2, labels = [f'{round(100*r)} %' for r in rate3Y], padding=3, fontsize=SMALL_SIZE)\n",
    "\n",
    "    offset1 = width * multiplier\n",
    "    rects1 = ax.bar([y for y in years], [100 * r for r in rate1Y], width, label='1 an', color=['#DB87C9'])\n",
    "    ax.bar_label(rects1, labels = [f'{round(100*r)} %' for r in rate1Y], \n",
    "                 padding=3, \n",
    "                 fontsize=SMALL_SIZE)\n",
    "\n",
    "    \n",
    "\n",
    "    # Add some text for labels, title and custom x-axis tick labels, etc.\n",
    "    #ax.set_ylabel('Length (mm)')\n",
    "    ax.yaxis.set_major_formatter(mtick.PercentFormatter())\n",
    "    #ax.set_title('Penguin attributes by species')\n",
    "    ax.set_xticks(years)\n",
    "    ax.set_xticklabels([str(y).replace('.0', '') for y in years], rotation='vertical', fontsize=SMALL_SIZE)\n",
    "    ax.legend(loc='upper left')\n",
    "    ax.set_xlabel(\"Année de clôture de l'essai clinique\")\n",
    "\n",
    "    try:\n",
    "        ax.set_ylim(0, min(100, max(rate3Y)*100+15))\n",
    "    except:\n",
    "        ax.set_ylim(0, 100)\n",
    "\n",
    "    plt.savefig(f\"./../publipostage/{ror}/evolution_temporelle_essais_cliniques_{ror}.png\", bbox_inches=\"tight\", dpi=300)"
   ]
  },
  {
   "cell_type": "code",
   "execution_count": 19,
   "id": "22dbe29b",
   "metadata": {},
   "outputs": [],
   "source": [
    "def get_perc(stats):\n",
    "    true_global = int(round(100*stats['global'][cle_true]/(stats['global'][cle_false]+stats['global'][cle_true]), 0))\n",
    "    false_global = int(round(100*stats['global'][cle_false]/(stats['global'][cle_false]+stats['global'][cle_true]), 0))\n",
    "    true_10Y = int(round(100*stats['10Y'][cle_true]/(stats['10Y'][cle_false]+stats['10Y'][cle_true]), 0))\n",
    "    false_10Y = int(round(100*stats['10Y'][cle_false]/(stats['10Y'][cle_false]+stats['10Y'][cle_true]), 0))\n",
    "    return f'{true_global} %', f'{true_10Y} %'"
   ]
  },
  {
   "cell_type": "code",
   "execution_count": 20,
   "id": "830e3ae9",
   "metadata": {},
   "outputs": [
    {
     "name": "stdout",
     "output_type": "stream",
     "text": [
      "france\n",
      "('29 %', '29 %')\n",
      "academique\n",
      "('29 %', '29 %')\n"
     ]
    }
   ],
   "source": [
    "print('france')\n",
    "stat_france = analyze_global(df_completed_intervention)\n",
    "print(get_perc(stat_france))\n",
    "\n",
    "print('academique')\n",
    "stat_academique = analyze_global(df_completed_intervention[df_completed_intervention.lead_sponsor_type=='academique'])\n",
    "print(get_perc(stat_academique))"
   ]
  },
  {
   "cell_type": "code",
   "execution_count": 21,
   "id": "27c4e716",
   "metadata": {},
   "outputs": [
    {
     "data": {
      "text/html": [
       "<div>\n",
       "<style scoped>\n",
       "    .dataframe tbody tr th:only-of-type {\n",
       "        vertical-align: middle;\n",
       "    }\n",
       "\n",
       "    .dataframe tbody tr th {\n",
       "        vertical-align: top;\n",
       "    }\n",
       "\n",
       "    .dataframe thead th {\n",
       "        text-align: right;\n",
       "    }\n",
       "</style>\n",
       "<table border=\"1\" class=\"dataframe\">\n",
       "  <thead>\n",
       "    <tr style=\"text-align: right;\">\n",
       "      <th></th>\n",
       "      <th>title</th>\n",
       "      <th>acronym</th>\n",
       "    </tr>\n",
       "  </thead>\n",
       "  <tbody>\n",
       "    <tr>\n",
       "      <th>0</th>\n",
       "      <td>Does Dose Adjustment of Nicotine Replacement T...</td>\n",
       "      <td>ADONIS</td>\n",
       "    </tr>\n",
       "    <tr>\n",
       "      <th>1</th>\n",
       "      <td>Double-blind, Placebo-controlled, Randomized, ...</td>\n",
       "      <td>NaN</td>\n",
       "    </tr>\n",
       "    <tr>\n",
       "      <th>2</th>\n",
       "      <td>Evaluation of Intestinal Secretion of Antibodi...</td>\n",
       "      <td>NaN</td>\n",
       "    </tr>\n",
       "    <tr>\n",
       "      <th>3</th>\n",
       "      <td>Assessing Pain in the Postoperative Period by ...</td>\n",
       "      <td>PREVANS</td>\n",
       "    </tr>\n",
       "    <tr>\n",
       "      <th>4</th>\n",
       "      <td>Hearing Preservation and Electro-acoustic Stim...</td>\n",
       "      <td>NaN</td>\n",
       "    </tr>\n",
       "    <tr>\n",
       "      <th>...</th>\n",
       "      <td>...</td>\n",
       "      <td>...</td>\n",
       "    </tr>\n",
       "    <tr>\n",
       "      <th>41841</th>\n",
       "      <td>Longterm Follow-up of Subjects With Cerebral A...</td>\n",
       "      <td>NaN</td>\n",
       "    </tr>\n",
       "    <tr>\n",
       "      <th>41842</th>\n",
       "      <td>Double-blind, vehicle-controlled, randomized, ...</td>\n",
       "      <td>NaN</td>\n",
       "    </tr>\n",
       "    <tr>\n",
       "      <th>41843</th>\n",
       "      <td>Randomized, Placebo-Controlled, Double-Blind, ...</td>\n",
       "      <td>REPREVIO \\n \\n \\n REPREVIO</td>\n",
       "    </tr>\n",
       "    <tr>\n",
       "      <th>41844</th>\n",
       "      <td>A Multicenter, Open-Label Study with a Randomi...</td>\n",
       "      <td>NaN</td>\n",
       "    </tr>\n",
       "    <tr>\n",
       "      <th>41845</th>\n",
       "      <td>A Phase 3, Randomized, Double-Blind, Placebo-C...</td>\n",
       "      <td>GBT440-032</td>\n",
       "    </tr>\n",
       "  </tbody>\n",
       "</table>\n",
       "<p>41846 rows × 2 columns</p>\n",
       "</div>"
      ],
      "text/plain": [
       "                                                   title  \\\n",
       "0      Does Dose Adjustment of Nicotine Replacement T...   \n",
       "1      Double-blind, Placebo-controlled, Randomized, ...   \n",
       "2      Evaluation of Intestinal Secretion of Antibodi...   \n",
       "3      Assessing Pain in the Postoperative Period by ...   \n",
       "4      Hearing Preservation and Electro-acoustic Stim...   \n",
       "...                                                  ...   \n",
       "41841  Longterm Follow-up of Subjects With Cerebral A...   \n",
       "41842  Double-blind, vehicle-controlled, randomized, ...   \n",
       "41843  Randomized, Placebo-Controlled, Double-Blind, ...   \n",
       "41844  A Multicenter, Open-Label Study with a Randomi...   \n",
       "41845  A Phase 3, Randomized, Double-Blind, Placebo-C...   \n",
       "\n",
       "                          acronym  \n",
       "0                          ADONIS  \n",
       "1                             NaN  \n",
       "2                             NaN  \n",
       "3                         PREVANS  \n",
       "4                             NaN  \n",
       "...                           ...  \n",
       "41841                         NaN  \n",
       "41842                         NaN  \n",
       "41843  REPREVIO \\n \\n \\n REPREVIO  \n",
       "41844                         NaN  \n",
       "41845                  GBT440-032  \n",
       "\n",
       "[41846 rows x 2 columns]"
      ]
     },
     "execution_count": 21,
     "metadata": {},
     "output_type": "execute_result"
    }
   ],
   "source": [
    "df[['title', 'acronym']]"
   ]
  },
  {
   "cell_type": "code",
   "execution_count": 22,
   "id": "7a8bdc27",
   "metadata": {},
   "outputs": [],
   "source": [
    "def get_score(r):\n",
    "    if r.has_results_or_publications_within_1y is False and r.has_results_or_publications_within_3y is False:\n",
    "        return \"\\U0001f7E5\"\n",
    "    if r.has_results_or_publications_within_1y is False and r.has_results_or_publications_within_3y is True:\n",
    "        return \"\\U0001f7E7\"\n",
    "    if r.has_results_or_publications_within_1y is True and r.has_results_or_publications_within_3y is True:\n",
    "        return \"\\U0001f7E9\""
   ]
  },
  {
   "cell_type": "code",
   "execution_count": 23,
   "id": "c2f41cb6",
   "metadata": {},
   "outputs": [],
   "source": [
    "def clean_year(y):\n",
    "    try:\n",
    "        return str(int(y))\n",
    "    except:\n",
    "        return None"
   ]
  },
  {
   "cell_type": "code",
   "execution_count": 24,
   "id": "3c9407c6",
   "metadata": {},
   "outputs": [],
   "source": [
    "import os\n",
    "\n",
    "def make_data(ror):\n",
    "    os.system(f\"mkdir -p ./../publipostage/{ror}\")\n",
    "    \n",
    "    \n",
    "    df_tmp = dd_ror[dd_ror.ror_simple == ror].sort_values(by='study_completion_year')\n",
    "    dx = pd.DataFrame(df_tmp.lead_sponsor.value_counts()).reset_index()\n",
    "    dx.columns = ['variant', 'nb_studies']\n",
    "    dx[['variant']].to_csv(f'./../publipostage/{ror}/liste_variantes_noms_{ror}.csv', index=False, header=False, sep='£')\n",
    "    df_tmp['S'] = df_tmp.apply(lambda row: get_score(row), axis=1) \n",
    "    cols = ['S', 'NCTId', 'eudraCT', 'study_completion_year', 'title', 'acronym', 'has_results_or_publications_within_1y',\n",
    "           'has_results_or_publications_within_3y']\n",
    "    stats = analyze_global(df_tmp)\n",
    "    #print(stats)\n",
    "    \n",
    "    global_stat = {'ror': ror}\n",
    "    try:\n",
    "        global_stat['sponsor_name'] = df_tmp.sponsor_normalized.values[0]\n",
    "    except:\n",
    "        print('skip '+ror)\n",
    "        return\n",
    "    global_stat['sponsor_article'] = 'du'\n",
    "    if global_stat['sponsor_name'][0] in ['A', 'E', 'I', 'O', 'U', 'Y']:\n",
    "        global_stat['sponsor_article'] = \"de l'\"\n",
    "    if global_stat['sponsor_name'].split(' ')[0].lower() in ['hospices', 'hopitaux', 'hôpitaux']:\n",
    "        global_stat['sponsor_article'] = 'des'\n",
    "    if global_stat['sponsor_name'].split(' ')[0].lower() in ['hopital', 'hôpital']:\n",
    "        global_stat['sponsor_article'] = \"de l'\"\n",
    "    a, b = get_perc(stats)\n",
    "    global_stat['global_indicator'] = a\n",
    "    global_stat['10Y_indicator'] = b\n",
    "    pd.DataFrame([global_stat]).to_csv(f'./../publipostage/{ror}/indicators_{ror}.csv', index=False)\n",
    "    \n",
    "    print(global_stat['sponsor_article'], global_stat['sponsor_name'])\n",
    "    \n",
    "    make_pie(ror, stats, 'global')\n",
    "    make_pie(ror, stats, '10Y')\n",
    "    make_evolution(ror, df_tmp)\n",
    "    plt.close('all')\n",
    "    \n",
    "    df_tmp['study_completion_year'] = df_tmp['study_completion_year'].apply(lambda x:clean_year(x))\n",
    "    df_tmp[cols].to_csv(f'./../publipostage/{ror}/liste_essais_cliniques_identifies_{ror}.csv', index=False)\n",
    "    \n",
    "\n",
    "def make_pie(ror, stats, pie_type):\n",
    "    \n",
    "    fig, ax = plt.subplots(figsize=(9,9), dpi=100)\n",
    "    values = list(stats[pie_type].values())\n",
    "    labels_raw=list(stats[pie_type].keys())\n",
    "    total = values[0] + values[1]\n",
    "    labels = [f'{values[0]} essais cliniques sur {total}\\nSANS communication identifiée',\n",
    "             f'{values[1]} essais cliniques sur {total}\\nAVEC communication identifiée']\n",
    "\n",
    "    colors=['#FFF5BA', '#5A35BE']\n",
    "\n",
    "    _, _, autotexts  = ax.pie(values, startangle=90, autopct='%1.0f%%', \n",
    "                 explode=(0.025, 0.025),\n",
    "                 colors=colors)\n",
    "\n",
    "    autotexts[1].set_color('white')\n",
    "\n",
    "    ax.legend(labels=labels, bbox_to_anchor=(0.15,0.5), \n",
    "              loc=\"center right\", fontsize=20, \n",
    "               bbox_transform=plt.gcf().transFigure)\n",
    "\n",
    "    \n",
    "    plt.savefig(f\"./../publipostage/{ror}/repartition_essais_cliniques_{pie_type}_{ror}.png\", bbox_inches=\"tight\", dpi=300)\n"
   ]
  },
  {
   "cell_type": "code",
   "execution_count": 30,
   "id": "be905e73",
   "metadata": {},
   "outputs": [
    {
     "data": {
      "text/plain": [
       "64"
      ]
     },
     "execution_count": 30,
     "metadata": {},
     "output_type": "execute_result"
    }
   ],
   "source": [
    "len(rors_to_compute)"
   ]
  },
  {
   "cell_type": "code",
   "execution_count": 29,
   "id": "959f5890",
   "metadata": {},
   "outputs": [
    {
     "ename": "NameError",
     "evalue": "name 'ror_to_compute' is not defined",
     "output_type": "error",
     "traceback": [
      "\u001b[0;31m---------------------------------------------------------------------------\u001b[0m",
      "\u001b[0;31mNameError\u001b[0m                                 Traceback (most recent call last)",
      "\u001b[0;32m<ipython-input-29-7bf5702ab237>\u001b[0m in \u001b[0;36m<module>\u001b[0;34m\u001b[0m\n\u001b[0;32m----> 1\u001b[0;31m \u001b[0;32mfor\u001b[0m \u001b[0mix\u001b[0m\u001b[0;34m,\u001b[0m \u001b[0mcurrent_ror\u001b[0m \u001b[0;32min\u001b[0m \u001b[0menumerate\u001b[0m\u001b[0;34m(\u001b[0m\u001b[0mror_to_compute\u001b[0m\u001b[0;34m)\u001b[0m\u001b[0;34m:\u001b[0m\u001b[0;34m\u001b[0m\u001b[0;34m\u001b[0m\u001b[0m\n\u001b[0m\u001b[1;32m      2\u001b[0m \u001b[0;34m\u001b[0m\u001b[0m\n\u001b[1;32m      3\u001b[0m     \u001b[0;32mif\u001b[0m \u001b[0mix\u001b[0m \u001b[0;34m<\u001b[0m \u001b[0;36m61\u001b[0m\u001b[0;34m:\u001b[0m\u001b[0;34m\u001b[0m\u001b[0;34m\u001b[0m\u001b[0m\n\u001b[1;32m      4\u001b[0m         \u001b[0;32mcontinue\u001b[0m\u001b[0;34m\u001b[0m\u001b[0;34m\u001b[0m\u001b[0m\n\u001b[1;32m      5\u001b[0m \u001b[0;34m\u001b[0m\u001b[0m\n",
      "\u001b[0;31mNameError\u001b[0m: name 'ror_to_compute' is not defined"
     ]
    }
   ],
   "source": [
    "for ix, current_ror in enumerate(rors_to_compute):\n",
    "    \n",
    "    if current_ror in excluded_rors:\n",
    "        continue\n",
    "    print(ix, current_ror, end=' ...')\n",
    "    \n",
    "    make_data(current_ror)\n",
    "\n",
    "    #if ix > 10:\n",
    "    #    break\n",
    "    \n",
    "#make_data('04s3t1g37')"
   ]
  },
  {
   "cell_type": "code",
   "execution_count": null,
   "id": "f676f67d",
   "metadata": {},
   "outputs": [],
   "source": []
  }
 ],
 "metadata": {
  "kernelspec": {
   "display_name": "Python 3",
   "language": "python",
   "name": "python3"
  },
  "language_info": {
   "codemirror_mode": {
    "name": "ipython",
    "version": 3
   },
   "file_extension": ".py",
   "mimetype": "text/x-python",
   "name": "python",
   "nbconvert_exporter": "python",
   "pygments_lexer": "ipython3",
   "version": "3.9.18"
  }
 },
 "nbformat": 4,
 "nbformat_minor": 5
}
