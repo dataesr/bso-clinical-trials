{
 "cells": [
  {
   "cell_type": "code",
   "execution_count": 1,
   "id": "36496289",
   "metadata": {},
   "outputs": [],
   "source": [
    "import pandas as pd\n",
    "import csv"
   ]
  },
  {
   "cell_type": "code",
   "execution_count": 2,
   "id": "3f67467c",
   "metadata": {},
   "outputs": [],
   "source": [
    "url = 'https://storage.gra.cloud.ovh.net/v1/AUTH_32c5d10cb0fe4519b957064a111717e3/bso_dump/bso-clinical-trials_20240711.jsonl.gz'\n",
    "df = pd.read_json(url, lines=True)"
   ]
  },
  {
   "cell_type": "code",
   "execution_count": 3,
   "id": "e1347776",
   "metadata": {},
   "outputs": [
    {
     "data": {
      "text/plain": [
       "42141"
      ]
     },
     "execution_count": 3,
     "metadata": {},
     "output_type": "execute_result"
    }
   ],
   "source": [
    "df = df[df.all_sources.apply(lambda x: 'clinical_trials' in x or 'euctr' in x)]\n",
    "len(df)"
   ]
  },
  {
   "cell_type": "code",
   "execution_count": 4,
   "id": "10d62971",
   "metadata": {},
   "outputs": [
    {
     "data": {
      "text/plain": [
       "42141"
      ]
     },
     "execution_count": 4,
     "metadata": {},
     "output_type": "execute_result"
    }
   ],
   "source": [
    "len(df)"
   ]
  },
  {
   "cell_type": "code",
   "execution_count": 5,
   "id": "ea57d9de",
   "metadata": {},
   "outputs": [
    {
     "data": {
      "text/plain": [
       "academique    22412\n",
       "industriel    19725\n",
       "Name: lead_sponsor_type, dtype: int64"
      ]
     },
     "execution_count": 5,
     "metadata": {},
     "output_type": "execute_result"
    }
   ],
   "source": [
    "df.lead_sponsor_type.value_counts()"
   ]
  },
  {
   "cell_type": "code",
   "execution_count": 6,
   "id": "2ae975ff",
   "metadata": {},
   "outputs": [],
   "source": [
    "#df[df.lead_sponsor.apply(lambda x:'APHP' in str(x))].lead_sponsor.value_counts()"
   ]
  },
  {
   "cell_type": "code",
   "execution_count": 7,
   "id": "8b9cd8c7",
   "metadata": {},
   "outputs": [],
   "source": [
    "mapping = pd.read_csv('https://raw.githubusercontent.com/dataesr/bso-clinical-trials/main/bsoclinicaltrials/server/main/bso-lead-sponsors-mapping.csv')"
   ]
  },
  {
   "cell_type": "code",
   "execution_count": 8,
   "id": "89cef686",
   "metadata": {},
   "outputs": [
    {
     "data": {
      "text/plain": [
       "102"
      ]
     },
     "execution_count": 8,
     "metadata": {},
     "output_type": "execute_result"
    }
   ],
   "source": [
    "list_rors = [r.split('/')[-1] for r in mapping.ror.unique() if (r==r) and len(r.split('/')[-1])==9]\n",
    "len(list_rors)"
   ]
  },
  {
   "cell_type": "code",
   "execution_count": 9,
   "id": "047a4535",
   "metadata": {},
   "outputs": [],
   "source": [
    "df_completed_intervention_all = df[(df.status_simplified=='Completed') & (df.study_type=='Interventional')]\n",
    "\n",
    "df_completed_intervention = df[(df.status_simplified=='Completed') & (df.study_type=='Interventional') & (df.lead_sponsor_type=='academique')]\n",
    "\n",
    "mycols = ['lead_sponsor', 'study_completion_year', 'NCTId', 'eudraCT', 'study_type', \n",
    "                                 'status_simplified', 'acronym', 'title',\n",
    "    'has_results_or_publications', 'has_results_or_publications_within_1y', 'has_results_or_publications_within_3y']\n",
    "\n",
    "df2 = df_completed_intervention[mycols]"
   ]
  },
  {
   "cell_type": "code",
   "execution_count": 10,
   "id": "b6947fda",
   "metadata": {},
   "outputs": [],
   "source": [
    "excluded_rors = [\n",
    "    '02n6c9837', #sanofi\n",
    "    '02xnj2427'\n",
    "]"
   ]
  },
  {
   "cell_type": "code",
   "execution_count": 11,
   "id": "936d6cf5",
   "metadata": {},
   "outputs": [],
   "source": [
    "df_intervention = df[ (df.study_type=='Interventional') & (df.lead_sponsor_type=='academique')]\n",
    "\n",
    "dd_perim = pd.merge(df_intervention[mycols], mapping, left_on='lead_sponsor', right_on='sponsor', indicator=True, how='inner')\n",
    "dd_perim_ror = dd_perim[dd_perim.ror.apply(lambda x:isinstance(x, str) and 'ror.org/' in x)]\n",
    "dd_perim_ror['ror_simple'] = dd_perim_ror.ror.apply(lambda x:x.split('/')[-1])\n",
    "dd_perim_ror.ror_simple.value_counts().head(65)\n",
    "df_perimetre = pd.DataFrame(dd_perim_ror.ror_simple.value_counts().head(64)).reset_index() # 10 essais \n",
    "df_perimetre.columns = ['ror', 'nb']\n",
    "df_perimetre = df_perimetre[df_perimetre.ror.apply(lambda x:x not in excluded_rors)]\n",
    "df_name = dd_perim_ror[['ror_simple', 'sponsor_normalized']].drop_duplicates()\n",
    "df_perimetre2 = pd.merge(df_perimetre, df_name, left_on='ror', right_on='ror_simple', how='left')\n",
    "df_perimetre2[['ror', 'nb', 'sponsor_normalized']].to_csv('../publipostage/perimetre.csv', index=False)"
   ]
  },
  {
   "cell_type": "code",
   "execution_count": 12,
   "id": "d75650f0",
   "metadata": {},
   "outputs": [],
   "source": [
    "rors_to_compute = df_perimetre.ror.to_list()"
   ]
  },
  {
   "cell_type": "code",
   "execution_count": 13,
   "id": "ab1dcd68",
   "metadata": {},
   "outputs": [],
   "source": [
    "dd = pd.merge(df2, mapping, left_on='lead_sponsor', right_on='sponsor', indicator=True, how='inner')"
   ]
  },
  {
   "cell_type": "code",
   "execution_count": 14,
   "id": "5b55efbf",
   "metadata": {},
   "outputs": [
    {
     "data": {
      "text/plain": [
       "both          6005\n",
       "left_only        0\n",
       "right_only       0\n",
       "Name: _merge, dtype: int64"
      ]
     },
     "execution_count": 14,
     "metadata": {},
     "output_type": "execute_result"
    }
   ],
   "source": [
    "dd._merge.value_counts()"
   ]
  },
  {
   "cell_type": "code",
   "execution_count": 15,
   "id": "a4484d89",
   "metadata": {},
   "outputs": [],
   "source": [
    "dd_ror = dd[dd.ror.apply(lambda x:isinstance(x, str) and 'ror.org/' in x)]"
   ]
  },
  {
   "cell_type": "code",
   "execution_count": 16,
   "id": "63812957",
   "metadata": {},
   "outputs": [],
   "source": [
    "dd_ror['ror_simple'] = dd_ror.ror.apply(lambda x:x.split('/')[-1])"
   ]
  },
  {
   "cell_type": "code",
   "execution_count": 17,
   "id": "283eb2d4",
   "metadata": {},
   "outputs": [],
   "source": [
    "# APHP 00pg5jh14 \n",
    "# IPC 04s3t1g37"
   ]
  },
  {
   "cell_type": "code",
   "execution_count": 18,
   "id": "9c120dc8",
   "metadata": {},
   "outputs": [],
   "source": [
    "import matplotlib.pyplot as plt\n",
    "import matplotlib.ticker as mtick\n",
    "SIZE = 22\n",
    "SMALL_SIZE=18\n",
    "plt.rc('font', size=SIZE)          # controls default text sizes\n",
    "plt.rc('axes', titlesize=SIZE)     # fontsize of the axes title\n",
    "plt.rc('axes', labelsize=SIZE)    # fontsize of the x and y labels\n",
    "plt.rc('xtick', labelsize=SIZE)    # fontsize of the tick labels\n",
    "plt.rc('ytick', labelsize=SIZE)    # fontsize of the tick labels\n",
    "plt.rc('legend', fontsize=SIZE)    # legend fontsize\n",
    "plt.rc('figure', titlesize=SIZE)  # fontsize of the figure title  "
   ]
  },
  {
   "cell_type": "code",
   "execution_count": 19,
   "id": "e5ec2b78",
   "metadata": {},
   "outputs": [],
   "source": [
    "cle_false = 'SANS communication\\nidentifiée'\n",
    "cle_true = 'AVEC communication\\nidentifiée'\n",
    "\n",
    "LAST_YEAR = 2022\n",
    "\n",
    "def analyze_global(df_etab):\n",
    "    ans = {'global': {}, '10Y': {}}\n",
    "    \n",
    "    d_g = pd.DataFrame(df_etab.has_results_or_publications.value_counts(dropna=False))\n",
    "    d_g_10 = pd.DataFrame(df_etab[(df_etab.study_completion_year > LAST_YEAR - 10) & (df_etab.study_completion_year <= LAST_YEAR)].has_results_or_publications.value_counts(dropna=False))\n",
    "    \n",
    "    try:\n",
    "        ans['global'][cle_true] = d_g[d_g.index==True].has_results_or_publications.values[0]\n",
    "    except:\n",
    "        ans['global'][cle_true] = 0\n",
    "    try:\n",
    "        ans['global'][cle_false] = d_g[d_g.index==False].has_results_or_publications.values[0]\n",
    "    except:\n",
    "        ans['global'][cle_false] = 0\n",
    "    #ans['global']['percentage'] = round(100 * ans['global'][cle_true] / ans['global'][cle_false], 0)\n",
    "    assert(ans['global'][cle_false] + ans['global'][cle_true]) == len(df_etab)\n",
    "    \n",
    "\n",
    "    try:\n",
    "        ans['10Y'][cle_true] = d_g_10[d_g_10.index==True].has_results_or_publications.values[0]\n",
    "    except:\n",
    "        ans['10Y'][cle_true] = 0\n",
    "    try:\n",
    "        ans['10Y'][cle_false] = d_g_10[d_g_10.index==False].has_results_or_publications.values[0]\n",
    "    except:\n",
    "        ans['10Y'][cle_false] = 0\n",
    "    #ans['10Y']['percentage'] = round(100 * ans['10Y'][cle_true] / ans['10Y'][cle_false], 0)\n",
    "    \n",
    "    return ans\n"
   ]
  },
  {
   "cell_type": "code",
   "execution_count": 20,
   "id": "3900e2b7",
   "metadata": {},
   "outputs": [],
   "source": [
    "def make_evolution(ror, df_tmp):\n",
    "    \n",
    "    df1Y = pd.DataFrame(df_tmp[(df_tmp.study_completion_year>=2014) & (df_tmp.study_completion_year<=LAST_YEAR)]\\\n",
    "    .groupby('study_completion_year')['has_results_or_publications_within_1y', ].mean()).reset_index()\n",
    "    #df3Y = pd.DataFrame(df_tmp[(df_tmp.study_completion_year>=2014) & (df_tmp.study_completion_year<2021)]\\\n",
    "    #.groupby('study_completion_year')['has_results_or_publications_within_3y', ].mean()).reset_index()\n",
    "    #df1_3Y = pd.merge(df1Y, df3Y, on='study_completion_year', how='left')\n",
    "    df1_3Y = df1Y\n",
    "    years = df1_3Y.study_completion_year.tolist()\n",
    "    rate1Y = df1_3Y.has_results_or_publications_within_1y.tolist()\n",
    "    #rate3Y = df1_3Y.has_results_or_publications_within_3y.tolist()\n",
    "    #rate3Y = [r for r in rate3Y if r==r]\n",
    "    \n",
    "    fig, ax = plt.subplots(figsize=(9,9), dpi=100)\n",
    "\n",
    "    width = 0.75  # the width of the bars\n",
    "    multiplier = 0\n",
    "\n",
    "    #offset1 = width * multiplier\n",
    "    #rects1 = ax.bar([y-0.1 for y in years], [100 * r for r in rate1Y], width, label='1 an')\n",
    "    #ax.bar_label(rects1, labels = [f'{round(100*r)} %' for r in rate1Y], padding=3, fontsize=SMALL_SIZE)\n",
    "\n",
    "    #multiplier = 1\n",
    "    #offset2 = width * multiplier\n",
    "    #rects2 = ax.bar([y+0.1 for y in years[0:len(rate3Y)]], [100 * r for r in rate3Y], width, label='3 ans')\n",
    "    #ax.bar_label(rects2, labels = [f'{round(100*r)} %' for r in rate3Y], padding=3, fontsize=SMALL_SIZE)\n",
    "\n",
    "    offset1 = width * multiplier\n",
    "    rects1 = ax.bar([y for y in years], [100 * r for r in rate1Y], width, label='1 an', color=['#DB87C9'])\n",
    "    ax.bar_label(rects1, labels = [f'{round(100*r)} %' for r in rate1Y], \n",
    "                 padding=3, \n",
    "                 fontsize=SMALL_SIZE)\n",
    "\n",
    "    \n",
    "\n",
    "    # Add some text for labels, title and custom x-axis tick labels, etc.\n",
    "    #ax.set_ylabel('Length (mm)')\n",
    "    ax.yaxis.set_major_formatter(mtick.PercentFormatter())\n",
    "    #ax.set_title('Penguin attributes by species')\n",
    "    ax.set_xticks(years)\n",
    "    ax.set_xticklabels([str(y).replace('.0', '') for y in years], rotation='vertical', fontsize=SMALL_SIZE)\n",
    "    ax.legend(loc='upper left')\n",
    "    ax.set_xlabel(\"Année de clôture de l'essai clinique\")\n",
    "\n",
    "    try:\n",
    "        ax.set_ylim(0, min(100, max(rate3Y)*100+15))\n",
    "    except:\n",
    "        ax.set_ylim(0, 100)\n",
    "\n",
    "    plt.savefig(f\"./../publipostage/{ror}/evolution_temporelle_essais_cliniques_{ror}.png\", bbox_inches=\"tight\", dpi=300)"
   ]
  },
  {
   "cell_type": "code",
   "execution_count": 21,
   "id": "22dbe29b",
   "metadata": {},
   "outputs": [],
   "source": [
    "def get_perc(stats):\n",
    "    true_global = int(round(100*stats['global'][cle_true]/(stats['global'][cle_false]+stats['global'][cle_true]), 0))\n",
    "    false_global = int(round(100*stats['global'][cle_false]/(stats['global'][cle_false]+stats['global'][cle_true]), 0))\n",
    "    true_10Y = int(round(100*stats['10Y'][cle_true]/(stats['10Y'][cle_false]+stats['10Y'][cle_true]), 0))\n",
    "    false_10Y = int(round(100*stats['10Y'][cle_false]/(stats['10Y'][cle_false]+stats['10Y'][cle_true]), 0))\n",
    "    return f'{true_global} %', f'{true_10Y} %'"
   ]
  },
  {
   "cell_type": "code",
   "execution_count": 22,
   "id": "830e3ae9",
   "metadata": {},
   "outputs": [
    {
     "name": "stdout",
     "output_type": "stream",
     "text": [
      "france\n",
      "('54 %', '52 %')\n",
      "academique\n",
      "('29 %', '28 %')\n"
     ]
    }
   ],
   "source": [
    "print('france')\n",
    "stat_france = analyze_global(df_completed_intervention_all)\n",
    "print(get_perc(stat_france))\n",
    "\n",
    "print('academique')\n",
    "stat_academique = analyze_global(df_completed_intervention)\n",
    "print(get_perc(stat_academique))"
   ]
  },
  {
   "cell_type": "code",
   "execution_count": 23,
   "id": "27c4e716",
   "metadata": {},
   "outputs": [
    {
     "data": {
      "text/html": [
       "<div>\n",
       "<style scoped>\n",
       "    .dataframe tbody tr th:only-of-type {\n",
       "        vertical-align: middle;\n",
       "    }\n",
       "\n",
       "    .dataframe tbody tr th {\n",
       "        vertical-align: top;\n",
       "    }\n",
       "\n",
       "    .dataframe thead th {\n",
       "        text-align: right;\n",
       "    }\n",
       "</style>\n",
       "<table border=\"1\" class=\"dataframe\">\n",
       "  <thead>\n",
       "    <tr style=\"text-align: right;\">\n",
       "      <th></th>\n",
       "      <th>title</th>\n",
       "      <th>acronym</th>\n",
       "    </tr>\n",
       "  </thead>\n",
       "  <tbody>\n",
       "    <tr>\n",
       "      <th>0</th>\n",
       "      <td>Long-term Effects of Aldara® 5% Cream and Sola...</td>\n",
       "      <td>LEIDA</td>\n",
       "    </tr>\n",
       "    <tr>\n",
       "      <th>1</th>\n",
       "      <td>Testing for Increased Lipoproteins (a) [LP(a)]...</td>\n",
       "      <td>LiLY</td>\n",
       "    </tr>\n",
       "    <tr>\n",
       "      <th>2</th>\n",
       "      <td>Interventional, Randomized, Double-blind, Plac...</td>\n",
       "      <td>NaN</td>\n",
       "    </tr>\n",
       "    <tr>\n",
       "      <th>3</th>\n",
       "      <td>A Prospective, Multicentre Study Evaluating th...</td>\n",
       "      <td>NaN</td>\n",
       "    </tr>\n",
       "    <tr>\n",
       "      <th>4</th>\n",
       "      <td>An Open-label, Long-term Safety and Efficacy S...</td>\n",
       "      <td>D2306</td>\n",
       "    </tr>\n",
       "    <tr>\n",
       "      <th>...</th>\n",
       "      <td>...</td>\n",
       "      <td>...</td>\n",
       "    </tr>\n",
       "    <tr>\n",
       "      <th>42728</th>\n",
       "      <td>A Randomized, Active Controlled, Parallel Grou...</td>\n",
       "      <td>RA-BRIDGE</td>\n",
       "    </tr>\n",
       "    <tr>\n",
       "      <th>42729</th>\n",
       "      <td>A Phase 3, Randomized, Double-blind, Placebo-c...</td>\n",
       "      <td>NaN</td>\n",
       "    </tr>\n",
       "    <tr>\n",
       "      <th>42927</th>\n",
       "      <td>A Phase 1b/2, Open-Label, Safety and Efficacy ...</td>\n",
       "      <td>EPCORE™ CLL-1</td>\n",
       "    </tr>\n",
       "    <tr>\n",
       "      <th>43068</th>\n",
       "      <td>A Randomized, Phase 2, Double-blind Study to E...</td>\n",
       "      <td>213403</td>\n",
       "    </tr>\n",
       "    <tr>\n",
       "      <th>43198</th>\n",
       "      <td>A Phase 1b/2 Study of Immune and Targeted Comb...</td>\n",
       "      <td>MK-3475-03B</td>\n",
       "    </tr>\n",
       "  </tbody>\n",
       "</table>\n",
       "<p>42141 rows × 2 columns</p>\n",
       "</div>"
      ],
      "text/plain": [
       "                                                   title        acronym\n",
       "0      Long-term Effects of Aldara® 5% Cream and Sola...          LEIDA\n",
       "1      Testing for Increased Lipoproteins (a) [LP(a)]...           LiLY\n",
       "2      Interventional, Randomized, Double-blind, Plac...            NaN\n",
       "3      A Prospective, Multicentre Study Evaluating th...            NaN\n",
       "4      An Open-label, Long-term Safety and Efficacy S...          D2306\n",
       "...                                                  ...            ...\n",
       "42728  A Randomized, Active Controlled, Parallel Grou...      RA-BRIDGE\n",
       "42729  A Phase 3, Randomized, Double-blind, Placebo-c...            NaN\n",
       "42927  A Phase 1b/2, Open-Label, Safety and Efficacy ...  EPCORE™ CLL-1\n",
       "43068  A Randomized, Phase 2, Double-blind Study to E...         213403\n",
       "43198  A Phase 1b/2 Study of Immune and Targeted Comb...    MK-3475-03B\n",
       "\n",
       "[42141 rows x 2 columns]"
      ]
     },
     "execution_count": 23,
     "metadata": {},
     "output_type": "execute_result"
    }
   ],
   "source": [
    "df[['title', 'acronym']]"
   ]
  },
  {
   "cell_type": "code",
   "execution_count": 24,
   "id": "7a8bdc27",
   "metadata": {},
   "outputs": [],
   "source": [
    "def get_score(r):\n",
    "    if r.has_results_or_publications_within_1y is False and r.has_results_or_publications_within_3y is False:\n",
    "        return \"\\U0001f7E5\"\n",
    "    if r.has_results_or_publications_within_1y is False and r.has_results_or_publications_within_3y is True:\n",
    "        return \"\\U0001f7E7\"\n",
    "    if r.has_results_or_publications_within_1y is True and r.has_results_or_publications_within_3y is True:\n",
    "        return \"\\U0001f7E9\""
   ]
  },
  {
   "cell_type": "code",
   "execution_count": 25,
   "id": "c2f41cb6",
   "metadata": {},
   "outputs": [],
   "source": [
    "def clean_year(y):\n",
    "    try:\n",
    "        return str(int(y))\n",
    "    except:\n",
    "        return None"
   ]
  },
  {
   "cell_type": "code",
   "execution_count": 26,
   "id": "3c9407c6",
   "metadata": {},
   "outputs": [],
   "source": [
    "import os\n",
    "\n",
    "def make_data(ror):\n",
    "    os.system(f\"mkdir -p ./../publipostage/{ror}\")\n",
    "    \n",
    "    \n",
    "    df_tmp = dd_ror[dd_ror.ror_simple == ror].sort_values(by='study_completion_year')\n",
    "    dx = pd.DataFrame(df_tmp.lead_sponsor.value_counts()).reset_index()\n",
    "    dx.columns = ['variant', 'nb_studies']\n",
    "    dx[['variant']].to_csv(f'./../publipostage/{ror}/liste_variantes_noms_{ror}.csv', index=False, header=False, sep='£')\n",
    "    df_tmp['S'] = df_tmp.apply(lambda row: get_score(row), axis=1) \n",
    "    cols = ['S', 'NCTId', 'eudraCT', 'study_completion_year', 'title', 'acronym', 'has_results_or_publications_within_1y',\n",
    "           'has_results_or_publications_within_3y']\n",
    "    stats = analyze_global(df_tmp)\n",
    "    #print(stats)\n",
    "    \n",
    "    global_stat = {'ror': ror}\n",
    "    try:\n",
    "        global_stat['sponsor_name'] = df_tmp.sponsor_normalized.values[0]\n",
    "    except:\n",
    "        print('skip '+ror)\n",
    "        return\n",
    "    global_stat['sponsor_article'] = 'du'\n",
    "    if global_stat['sponsor_name'][0] in ['A', 'E', 'I', 'O', 'U', 'Y']:\n",
    "        global_stat['sponsor_article'] = \"de l'\"\n",
    "    if global_stat['sponsor_name'].split(' ')[0].lower() in ['hospices', 'hopitaux', 'hôpitaux']:\n",
    "        global_stat['sponsor_article'] = 'des'\n",
    "    if global_stat['sponsor_name'].split(' ')[0].lower() in ['hopital', 'hôpital']:\n",
    "        global_stat['sponsor_article'] = \"de l'\"\n",
    "    if global_stat['sponsor_name'].split(' ')[0].lower() in ['clinique']:\n",
    "        global_stat['sponsor_article'] = \"de la\"\n",
    "    a, b = get_perc(stats)\n",
    "    global_stat['global_indicator'] = a\n",
    "    global_stat['10Y_indicator'] = b\n",
    "    pd.DataFrame([global_stat]).to_csv(f'./../publipostage/{ror}/indicators_{ror}.csv', index=False)\n",
    "    \n",
    "    print(global_stat['sponsor_article'], global_stat['sponsor_name'])\n",
    "    \n",
    "    make_pie(ror, stats, 'global')\n",
    "    make_pie(ror, stats, '10Y')\n",
    "    make_evolution(ror, df_tmp)\n",
    "    plt.close('all')\n",
    "    \n",
    "    df_tmp['study_completion_year'] = df_tmp['study_completion_year'].apply(lambda x:clean_year(x))\n",
    "    df_liste_essais = df_tmp[cols]\n",
    "    df_liste_essais.columns = ['statut', 'NCTId', 'eudraCT', 'completion_year', \n",
    "                               'clinical_trial_title', 'acronym', \n",
    "                               'results_1y', 'results_3y']\n",
    "    df_liste_essais.to_csv(f'./../publipostage/{ror}/liste_essais_cliniques_identifies_{ror}.csv', index=False)\n",
    "    \n",
    "\n",
    "def make_pie(ror, stats, pie_type):\n",
    "    \n",
    "    fig, ax = plt.subplots(figsize=(9,9), dpi=100)\n",
    "    values = list(stats[pie_type].values())\n",
    "    labels_raw=list(stats[pie_type].keys())\n",
    "    total = values[0] + values[1]\n",
    "    labels = [f'{values[0]} essais cliniques sur {total}\\nSANS communication identifiée',\n",
    "             f'{values[1]} essais cliniques sur {total}\\nAVEC communication identifiée']\n",
    "\n",
    "    colors=['#FFF5BA', '#5A35BE']\n",
    "\n",
    "    _, _, autotexts  = ax.pie(values, startangle=90, autopct='%1.0f%%', \n",
    "                 explode=(0.025, 0.025),\n",
    "                 colors=colors)\n",
    "\n",
    "    autotexts[1].set_color('white')\n",
    "\n",
    "    ax.legend(labels=labels, bbox_to_anchor=(0.15,0.5), \n",
    "              loc=\"center right\", fontsize=20, \n",
    "               bbox_transform=plt.gcf().transFigure)\n",
    "\n",
    "    \n",
    "    plt.savefig(f\"./../publipostage/{ror}/repartition_essais_cliniques_{pie_type}_{ror}.png\", bbox_inches=\"tight\", dpi=300)\n"
   ]
  },
  {
   "cell_type": "code",
   "execution_count": 27,
   "id": "be905e73",
   "metadata": {},
   "outputs": [
    {
     "data": {
      "text/plain": [
       "62"
      ]
     },
     "execution_count": 27,
     "metadata": {},
     "output_type": "execute_result"
    }
   ],
   "source": [
    "len(rors_to_compute)"
   ]
  },
  {
   "cell_type": "code",
   "execution_count": null,
   "id": "959f5890",
   "metadata": {},
   "outputs": [
    {
     "name": "stdout",
     "output_type": "stream",
     "text": [
      "0 00pg5jh14 ...de l' Assistance Publique – Hôpitaux de Paris\n",
      "1 01502ca60 ...des Hospices Civils de Lyon\n",
      "2 00mthsf17 ...du Centre Hospitalier Universitaire de Montpellier\n",
      "3 017h5q109 ...du Centre hospitalier universitaire de Toulouse\n",
      "4 02tcf7a68 ...du Centre hospitalier universitaire de Clermont-Ferrand\n",
      "5 002cp4060 ...de l' Assistance publique - Hôpitaux de Marseille\n",
      "6 01hq89f96 ...du Centre hospitalier universitaire de Bordeaux\n",
      "7 041rhpw39 ...du Centre hospitalier universitaire Grenoble-Alpes\n",
      "8 05c1qsg97 ...du Centre hospitalier universitaire de Nantes\n",
      "9 05qsjq305 ...du Centre hospitalier universitaire de Nice\n",
      "10 04bckew43 ...des Hôpitaux universitaires de Strasbourg\n",
      "11 04pn6vp43 ...du Centre hospitalier universitaire de Saint-Étienne\n",
      "12 010567a58 ...du Centre hospitalier universitaire d'Amiens - Picardie\n",
      "13 02ppyfa04 ...du Centre hospitalier régional universitaire de Lille\n",
      "14 027arzy69 ...du Centre hospitalier universitaire de Caen\n",
      "15 05qec5a53 ...du Centre hospitalier universitaire de Rennes\n",
      "16 0275ye937 ...du Centre hospitalier universitaire de Nîmes\n",
      "17 00cxy0s05 ...du Centre hospitalier universitaire de Rouen\n",
      "18 0084te143 ...du Centre hospitalier régional universitaire de Besançon\n",
      "19 0250ngj72 ...du Centre hospitalier universitaire d'Angers\n",
      "20 0377z4z10 ...du Centre hospitalier universitaire de Dijon\n",
      "21 0321g0743 ...de l' Institut Gustave-Roussy\n",
      "22 016ncsr12 ...du Centre hospitalier régional et universitaire de Nancy\n",
      "23 029s6hd13 ...du Centre hospitalier universitaire de Poitiers\n",
      "24 03evbwn87 ...du Centre hospitalier universitaire de Brest\n",
      "25 058td2q88 ...de l' Hôpital Foch\n",
      "26 02vjkv261 ...de l' Institut national de la santé et de la recherche médicale\n",
      "27 01kv58h76 ...de l' ANRS Maladies infectieuses émergentes\n",
      "28 01cmnjq37 ...du Centre Léon-Bérard\n",
      "29 01tc2d264 ...du Centre hospitalier universitaire de Limoges\n",
      "30 00jpq0w62 ...du Centre hospitalier universitaire de Tours\n",
      "31 01jbb3w63 ...du Centre hospitalier universitaire de Reims\n",
      "32 0219xsk19 ...de l' Hôpital Saint-Joseph de Marseille\n",
      "33 04t0gwh46 ...de l' Institut Curie\n",
      "34 04s3t1g37 ...de l' Institut Paoli-Calmettes\n",
      "35 04c3yce28 ...du Centre hospitalier Le Vinatier\n",
      "36 04yvax419 ...du Centre hospitalier régional d'Orléans\n",
      "37 05epqd940 ...du Centre hospitalier départemental Vendée de La Roche-sur-Yon\n",
      "38 004dan487 ...du Centre Hospitalier Universitaire de la Réunion\n",
      "39 04n1nkp35 ...de l' Hôpital intercommunal de Créteil\n",
      "40 03wr2ty35 ...du Groupement des hôpitaux de l'institut catholique de Lille\n",
      "41 02kxjxy06 ...du Centre hospitalier Sainte-Anne - GHU Paris\n",
      "42 053evvt91 ...du Centre Hospitalier de Versailles\n",
      "43 0495fxg12 ...de l' Institut Pasteur\n",
      "44 047wq3n50 ...de la Clinique Ambroise Paré\n",
      "45 02mh9a093 ...de l' Hôpital de la Salpêtrière\n"
     ]
    }
   ],
   "source": [
    "for ix, current_ror in enumerate(rors_to_compute):\n",
    "    \n",
    "    if current_ror in excluded_rors:\n",
    "        continue\n",
    "    print(ix, current_ror, end=' ...')\n",
    "    \n",
    "    make_data(current_ror)\n",
    "\n",
    "    #if ix > 10:\n",
    "    #    break\n",
    "    \n",
    "#make_data('04s3t1g37')"
   ]
  },
  {
   "cell_type": "code",
   "execution_count": null,
   "id": "f676f67d",
   "metadata": {},
   "outputs": [],
   "source": []
  },
  {
   "cell_type": "code",
   "execution_count": null,
   "id": "e54acb52",
   "metadata": {},
   "outputs": [],
   "source": []
  }
 ],
 "metadata": {
  "kernelspec": {
   "display_name": "Python 3",
   "language": "python",
   "name": "python3"
  },
  "language_info": {
   "codemirror_mode": {
    "name": "ipython",
    "version": 3
   },
   "file_extension": ".py",
   "mimetype": "text/x-python",
   "name": "python",
   "nbconvert_exporter": "python",
   "pygments_lexer": "ipython3",
   "version": "3.9.18"
  }
 },
 "nbformat": 4,
 "nbformat_minor": 5
}
