{
 "cells": [
  {
   "cell_type": "code",
   "execution_count": 36,
   "id": "36496289",
   "metadata": {},
   "outputs": [],
   "source": [
    "import matplotlib.pyplot as plt\n",
    "import matplotlib.ticker as mtick\n",
    "import os\n",
    "import pandas as pd"
   ]
  },
  {
   "cell_type": "code",
   "execution_count": 37,
   "id": "3f67467c",
   "metadata": {},
   "outputs": [],
   "source": [
    "url_base = \"https://storage.gra.cloud.ovh.net/v1/AUTH_32c5d10cb0fe4519b957064a111717e3/bso_dump\"\n",
    "url = f\"{url_base}/bso-clinical-trials.jsonl.gz\"\n",
    "df = pd.read_json(url, lines=True)"
   ]
  },
  {
   "cell_type": "code",
   "execution_count": 38,
   "id": "e1347776",
   "metadata": {},
   "outputs": [
    {
     "data": {
      "text/plain": [
       "43954"
      ]
     },
     "execution_count": 38,
     "metadata": {},
     "output_type": "execute_result"
    }
   ],
   "source": [
    "df = df[df.all_sources.apply(lambda x: \"clinical_trials\" in x or \"euctr\" in x)]\n",
    "len(df)"
   ]
  },
  {
   "cell_type": "code",
   "execution_count": 39,
   "id": "ea57d9de",
   "metadata": {},
   "outputs": [
    {
     "data": {
      "text/plain": [
       "lead_sponsor_type\n",
       "academique    23566\n",
       "industriel    20382\n",
       "Name: count, dtype: int64"
      ]
     },
     "execution_count": 39,
     "metadata": {},
     "output_type": "execute_result"
    }
   ],
   "source": [
    "df.lead_sponsor_type.value_counts()"
   ]
  },
  {
   "cell_type": "code",
   "execution_count": 40,
   "id": "8b9cd8c7",
   "metadata": {},
   "outputs": [],
   "source": [
    "mapping = pd.read_csv(\"https://raw.githubusercontent.com/dataesr/bso-clinical-trials/main/bsoclinicaltrials/server/main/bso-lead-sponsors-mapping.csv\")"
   ]
  },
  {
   "cell_type": "code",
   "execution_count": 41,
   "id": "89cef686",
   "metadata": {},
   "outputs": [
    {
     "data": {
      "text/plain": [
       "102"
      ]
     },
     "execution_count": 41,
     "metadata": {},
     "output_type": "execute_result"
    }
   ],
   "source": [
    "list_rors = [r.split(\"/\")[-1] for r in mapping.ror.unique() if (r==r) and len(r.split(\"/\")[-1])==9]\n",
    "len(list_rors)"
   ]
  },
  {
   "cell_type": "code",
   "execution_count": 42,
   "id": "047a4535",
   "metadata": {},
   "outputs": [],
   "source": [
    "df_completed_intervention_all = df[(df.status_simplified==\"Completed\") & (df.study_type==\"Interventional\")]\n",
    "df_completed_intervention = df[(df.status_simplified==\"Completed\") & (df.study_type==\"Interventional\") & (df.lead_sponsor_type==\"academique\")]\n",
    "mycols = [\"lead_sponsor\", \"study_completion_year\", \"NCTId\", \"eudraCT\", \"study_type\", \"status_simplified\",\n",
    "          \"acronym\", \"title\", \"has_results_or_publications\", \"has_results_or_publications_within_1y\",\n",
    "          \"has_results_or_publications_within_3y\", \"intervention_type\"]\n",
    "df2 = df_completed_intervention[mycols]"
   ]
  },
  {
   "cell_type": "code",
   "execution_count": 43,
   "id": "b6947fda",
   "metadata": {},
   "outputs": [],
   "source": [
    "excluded_rors = [\n",
    "    \"02n6c9837\", # Sanofi\n",
    "    \"02xnj2427\"  # Hôpital de Ville-Évrard\n",
    "]"
   ]
  },
  {
   "cell_type": "code",
   "execution_count": 44,
   "id": "936d6cf5",
   "metadata": {},
   "outputs": [
    {
     "name": "stderr",
     "output_type": "stream",
     "text": [
      "/tmp/ipykernel_373492/1866012524.py:4: SettingWithCopyWarning: \n",
      "A value is trying to be set on a copy of a slice from a DataFrame.\n",
      "Try using .loc[row_indexer,col_indexer] = value instead\n",
      "\n",
      "See the caveats in the documentation: https://pandas.pydata.org/pandas-docs/stable/user_guide/indexing.html#returning-a-view-versus-a-copy\n",
      "  dd_perim_ror[\"ror_simple\"] = dd_perim_ror.ror.apply(lambda x:x.split(\"/\")[-1])\n"
     ]
    }
   ],
   "source": [
    "df_intervention = df[(df.study_type==\"Interventional\") & (df.lead_sponsor_type==\"academique\")]\n",
    "dd_perim = pd.merge(df_intervention[mycols], mapping, left_on=\"lead_sponsor\", right_on=\"sponsor\", indicator=True, how=\"inner\")\n",
    "dd_perim_ror = dd_perim[dd_perim.ror.apply(lambda x:isinstance(x, str) and \"ror.org/\" in x)]\n",
    "dd_perim_ror[\"ror_simple\"] = dd_perim_ror.ror.apply(lambda x:x.split(\"/\")[-1])\n",
    "dd_perim_ror.ror_simple.value_counts().head(65)\n",
    "df_perimetre = pd.DataFrame(dd_perim_ror.ror_simple.value_counts().head(64)).reset_index() # 10 essais\n",
    "df_perimetre.columns = [\"ror\", \"nb\"]\n",
    "df_perimetre = df_perimetre[df_perimetre.ror.apply(lambda x:x not in excluded_rors)]\n",
    "df_name = dd_perim_ror[[\"ror_simple\", \"sponsor_normalized\"]].drop_duplicates()\n",
    "df_perimetre2 = pd.merge(df_perimetre, df_name, left_on=\"ror\", right_on=\"ror_simple\", how=\"left\")\n",
    "df_perimetre2[[\"ror\", \"nb\", \"sponsor_normalized\"]].to_csv(\"../publipostage/perimetre.csv\", index=False)"
   ]
  },
  {
   "cell_type": "code",
   "execution_count": 45,
   "id": "d75650f0",
   "metadata": {},
   "outputs": [],
   "source": [
    "rors_to_compute = df_perimetre.ror.to_list()"
   ]
  },
  {
   "cell_type": "code",
   "execution_count": 46,
   "id": "ab1dcd68",
   "metadata": {},
   "outputs": [],
   "source": [
    "dd = pd.merge(df2, mapping, left_on=\"lead_sponsor\", right_on=\"sponsor\", indicator=True, how=\"inner\")"
   ]
  },
  {
   "cell_type": "code",
   "execution_count": 47,
   "id": "5b55efbf",
   "metadata": {},
   "outputs": [
    {
     "data": {
      "text/plain": [
       "_merge\n",
       "both          6304\n",
       "left_only        0\n",
       "right_only       0\n",
       "Name: count, dtype: int64"
      ]
     },
     "execution_count": 47,
     "metadata": {},
     "output_type": "execute_result"
    }
   ],
   "source": [
    "dd._merge.value_counts()"
   ]
  },
  {
   "cell_type": "code",
   "execution_count": 48,
   "id": "a4484d89",
   "metadata": {},
   "outputs": [],
   "source": [
    "dd_ror = dd[dd.ror.apply(lambda x:isinstance(x, str) and \"ror.org/\" in x)]"
   ]
  },
  {
   "cell_type": "code",
   "execution_count": 49,
   "id": "63812957",
   "metadata": {},
   "outputs": [
    {
     "name": "stderr",
     "output_type": "stream",
     "text": [
      "/tmp/ipykernel_373492/1755542769.py:1: SettingWithCopyWarning: \n",
      "A value is trying to be set on a copy of a slice from a DataFrame.\n",
      "Try using .loc[row_indexer,col_indexer] = value instead\n",
      "\n",
      "See the caveats in the documentation: https://pandas.pydata.org/pandas-docs/stable/user_guide/indexing.html#returning-a-view-versus-a-copy\n",
      "  dd_ror[\"ror_simple\"] = dd_ror.ror.apply(lambda x:x.split(\"/\")[-1])\n"
     ]
    }
   ],
   "source": [
    "dd_ror[\"ror_simple\"] = dd_ror.ror.apply(lambda x:x.split(\"/\")[-1])"
   ]
  },
  {
   "cell_type": "code",
   "execution_count": 50,
   "id": "9c120dc8",
   "metadata": {},
   "outputs": [],
   "source": [
    "SIZE = 22\n",
    "SMALL_SIZE=18\n",
    "plt.rc(\"font\", size=SIZE)          # controls default text sizes\n",
    "plt.rc(\"axes\", titlesize=SIZE)     # fontsize of the axes title\n",
    "plt.rc(\"axes\", labelsize=SIZE)     # fontsize of the x and y labels\n",
    "plt.rc(\"xtick\", labelsize=SIZE)    # fontsize of the tick labels\n",
    "plt.rc(\"ytick\", labelsize=SIZE)    # fontsize of the tick labels\n",
    "plt.rc(\"legend\", fontsize=SIZE)    # legend fontsize\n",
    "plt.rc(\"figure\", titlesize=SIZE)   # fontsize of the figure title"
   ]
  },
  {
   "cell_type": "code",
   "execution_count": 51,
   "id": "e5ec2b78",
   "metadata": {},
   "outputs": [],
   "source": [
    "cle_false = \"SANS communication\\nidentifiée\"\n",
    "cle_true = \"AVEC communication\\nidentifiée\"\n",
    "\n",
    "LAST_YEAR = 2022\n",
    "\n",
    "def analyze_global(df_etab):\n",
    "    ans = {\"global\": {}, \"10Y\": {}, \"10Ydrug\": {}}\n",
    "    d_g = pd.DataFrame(df_etab.has_results_or_publications.value_counts(dropna=False))\n",
    "    d_g_10 = pd.DataFrame(df_etab[(df_etab.study_completion_year > LAST_YEAR - 10) & (df_etab.study_completion_year <= LAST_YEAR)].has_results_or_publications.value_counts(dropna=False))\n",
    "    d_g_10_drug = pd.DataFrame(df_etab[(df_etab.study_completion_year > LAST_YEAR - 10) & (df_etab.study_completion_year <= LAST_YEAR) & (df_etab.intervention_type == \"DRUG\")].has_results_or_publications.value_counts(dropna=False))\n",
    "    try:\n",
    "        ans[\"global\"][cle_true] = d_g[d_g.index==True].values[0][0]\n",
    "    except Exception as e:\n",
    "        print(e)\n",
    "        ans[\"global\"][cle_true] = 0\n",
    "    try:\n",
    "        ans[\"global\"][cle_false] = d_g[d_g.index==False].values[0][0]\n",
    "    except Exception as e:\n",
    "        print(e)\n",
    "        ans[\"global\"][cle_false] = 0\n",
    "    assert(ans[\"global\"][cle_false] + ans[\"global\"][cle_true]) == len(df_etab)\n",
    "    try:\n",
    "        ans[\"10Y\"][cle_true] = d_g_10[d_g_10.index==True].values[0][0]\n",
    "    except Exception as e:\n",
    "        print(e)\n",
    "        ans[\"10Y\"][cle_true] = 0\n",
    "    try:\n",
    "        ans[\"10Y\"][cle_false] = d_g_10[d_g_10.index==False].values[0][0]\n",
    "    except Exception as e:\n",
    "        print(e)\n",
    "        ans[\"10Y\"][cle_false] = 0\n",
    "    try:\n",
    "        ans[\"10Ydrug\"][cle_true] = d_g_10_drug[d_g_10_drug.index==True].values[0][0]\n",
    "    except Exception as e:\n",
    "        print(e)\n",
    "        ans[\"10Ydrug\"][cle_true] = 0\n",
    "    try:\n",
    "        ans[\"10Ydrug\"][cle_false] = d_g_10_drug[d_g_10_drug.index==False].values[0][0]\n",
    "    except Exception as e:\n",
    "        print(e)\n",
    "        ans[\"10Ydrug\"][cle_false] = 0\n",
    "    return ans"
   ]
  },
  {
   "cell_type": "code",
   "execution_count": 52,
   "id": "3900e2b7",
   "metadata": {},
   "outputs": [],
   "source": [
    "def make_evolution(ror, df_tmp):\n",
    "    df1Y = pd.DataFrame(df_tmp[(df_tmp.study_completion_year >= 2013) & (df_tmp.study_completion_year <= LAST_YEAR)].groupby(\"study_completion_year\")[\"has_results_or_publications_within_1y\"].mean()).reset_index()\n",
    "    df1_3Y = df1Y\n",
    "    years = df1_3Y.study_completion_year.tolist()\n",
    "    rate1Y = df1_3Y.has_results_or_publications_within_1y.tolist()\n",
    "    _, ax = plt.subplots(figsize=(9,9), dpi=100)\n",
    "    width = 0.75  # the width of the bars\n",
    "    rects1 = ax.bar([y for y in years], [100 * r for r in rate1Y], width, label=\"1 an\", color=[\"#DB87C9\"])\n",
    "    ax.bar_label(rects1, labels = [f\"{round(100*r)} %\" for r in rate1Y], \n",
    "                 padding=3, \n",
    "                 fontsize=SMALL_SIZE)\n",
    "    ax.yaxis.set_major_formatter(mtick.PercentFormatter())\n",
    "    ax.set_xticks(years)\n",
    "    ax.set_xticklabels([str(y).replace(\".0\", \"\") for y in years], rotation=\"vertical\", fontsize=SMALL_SIZE)\n",
    "    ax.legend(loc=\"upper left\")\n",
    "    ax.set_xlabel(\"Année de clôture de l'essai clinique\")\n",
    "    ax.set_ylim(0, 100)\n",
    "    plt.savefig(f\"./../publipostage/{ror}/evolution_temporelle_essais_cliniques_{ror}.png\", bbox_inches=\"tight\", dpi=300)"
   ]
  },
  {
   "cell_type": "code",
   "execution_count": 53,
   "id": "22dbe29b",
   "metadata": {},
   "outputs": [],
   "source": [
    "def get_perc(stats):\n",
    "    try:\n",
    "        true_global = int(round(100 * stats[\"global\"][cle_true] / (stats[\"global\"][cle_false] + stats[\"global\"][cle_true]), 0))\n",
    "    except ZeroDivisionError:\n",
    "        true_global = 0\n",
    "    try:\n",
    "        true_10Y = int(round(100 * stats[\"10Y\"][cle_true] / (stats[\"10Y\"][cle_false] + stats[\"10Y\"][cle_true]), 0))\n",
    "    except ZeroDivisionError:\n",
    "        true_10Y = 0\n",
    "    try:\n",
    "        true_10Ydrug = int(round(100 * stats[\"10Ydrug\"][cle_true] / (stats[\"10Ydrug\"][cle_false] + stats[\"10Ydrug\"][cle_true]), 0))\n",
    "    except ZeroDivisionError:\n",
    "        true_10Ydrug = 0\n",
    "    return f\"{true_global} %\", f\"{true_10Y} %\", f\"{true_10Ydrug} %\""
   ]
  },
  {
   "cell_type": "code",
   "execution_count": 54,
   "id": "830e3ae9",
   "metadata": {},
   "outputs": [
    {
     "name": "stdout",
     "output_type": "stream",
     "text": [
      "france\n",
      "('54 %', '54 %', '76 %')\n",
      "academique\n",
      "('30 %', '31 %', '46 %')\n"
     ]
    }
   ],
   "source": [
    "print(\"france\")\n",
    "stat_france = analyze_global(df_completed_intervention_all)\n",
    "print(get_perc(stat_france))\n",
    "\n",
    "print(\"academique\")\n",
    "stat_academique = analyze_global(df_completed_intervention)\n",
    "print(get_perc(stat_academique))"
   ]
  },
  {
   "cell_type": "code",
   "execution_count": 55,
   "id": "27c4e716",
   "metadata": {},
   "outputs": [
    {
     "data": {
      "text/html": [
       "<div>\n",
       "<style scoped>\n",
       "    .dataframe tbody tr th:only-of-type {\n",
       "        vertical-align: middle;\n",
       "    }\n",
       "\n",
       "    .dataframe tbody tr th {\n",
       "        vertical-align: top;\n",
       "    }\n",
       "\n",
       "    .dataframe thead th {\n",
       "        text-align: right;\n",
       "    }\n",
       "</style>\n",
       "<table border=\"1\" class=\"dataframe\">\n",
       "  <thead>\n",
       "    <tr style=\"text-align: right;\">\n",
       "      <th></th>\n",
       "      <th>title</th>\n",
       "      <th>acronym</th>\n",
       "    </tr>\n",
       "  </thead>\n",
       "  <tbody>\n",
       "    <tr>\n",
       "      <th>0</th>\n",
       "      <td>Collection of SPOT EGMs And inTra-Cardiac Impe...</td>\n",
       "      <td>SATURN</td>\n",
       "    </tr>\n",
       "    <tr>\n",
       "      <th>1</th>\n",
       "      <td>A Single-Arm, Open-Label, Phase 2 Study of Niv...</td>\n",
       "      <td>NaN</td>\n",
       "    </tr>\n",
       "    <tr>\n",
       "      <th>2</th>\n",
       "      <td>First Evaluation of Morphine Hydrochloride by ...</td>\n",
       "      <td>AEROMORPH1</td>\n",
       "    </tr>\n",
       "    <tr>\n",
       "      <th>3</th>\n",
       "      <td>Lung Ultrasound in Pediatric Acute Chest Syndrome</td>\n",
       "      <td>Lupacs</td>\n",
       "    </tr>\n",
       "    <tr>\n",
       "      <th>4</th>\n",
       "      <td>Prospective Evaluation of the Resection Margin...</td>\n",
       "      <td>MRP</td>\n",
       "    </tr>\n",
       "    <tr>\n",
       "      <th>...</th>\n",
       "      <td>...</td>\n",
       "      <td>...</td>\n",
       "    </tr>\n",
       "    <tr>\n",
       "      <th>45536</th>\n",
       "      <td>Three-Arm Randomized Phase II Clinical Study o...</td>\n",
       "      <td>NaN</td>\n",
       "    </tr>\n",
       "    <tr>\n",
       "      <th>45537</th>\n",
       "      <td>A Pilot Evaluation of the Safety and Efficacy ...</td>\n",
       "      <td>CXLMyopie</td>\n",
       "    </tr>\n",
       "    <tr>\n",
       "      <th>45538</th>\n",
       "      <td>A Multicenter, Double-blind, Placebo-controlle...</td>\n",
       "      <td>DIAMOND</td>\n",
       "    </tr>\n",
       "    <tr>\n",
       "      <th>45539</th>\n",
       "      <td>A Randomized, Parallel-Group, Multicentre, Ope...</td>\n",
       "      <td>NaN</td>\n",
       "    </tr>\n",
       "    <tr>\n",
       "      <th>45540</th>\n",
       "      <td>A Phase 2, Proof of Concept, 52-Week Open Stud...</td>\n",
       "      <td>BELISS</td>\n",
       "    </tr>\n",
       "  </tbody>\n",
       "</table>\n",
       "<p>43954 rows × 2 columns</p>\n",
       "</div>"
      ],
      "text/plain": [
       "                                                   title     acronym\n",
       "0      Collection of SPOT EGMs And inTra-Cardiac Impe...      SATURN\n",
       "1      A Single-Arm, Open-Label, Phase 2 Study of Niv...         NaN\n",
       "2      First Evaluation of Morphine Hydrochloride by ...  AEROMORPH1\n",
       "3      Lung Ultrasound in Pediatric Acute Chest Syndrome      Lupacs\n",
       "4      Prospective Evaluation of the Resection Margin...         MRP\n",
       "...                                                  ...         ...\n",
       "45536  Three-Arm Randomized Phase II Clinical Study o...         NaN\n",
       "45537  A Pilot Evaluation of the Safety and Efficacy ...   CXLMyopie\n",
       "45538  A Multicenter, Double-blind, Placebo-controlle...     DIAMOND\n",
       "45539  A Randomized, Parallel-Group, Multicentre, Ope...         NaN\n",
       "45540  A Phase 2, Proof of Concept, 52-Week Open Stud...      BELISS\n",
       "\n",
       "[43954 rows x 2 columns]"
      ]
     },
     "execution_count": 55,
     "metadata": {},
     "output_type": "execute_result"
    }
   ],
   "source": [
    "df[[\"title\", \"acronym\"]]"
   ]
  },
  {
   "cell_type": "code",
   "execution_count": 56,
   "id": "7a8bdc27",
   "metadata": {},
   "outputs": [],
   "source": [
    "def get_status(row):\n",
    "    if row.has_results_or_publications_within_1y is False and row.has_results_or_publications_within_3y is False:\n",
    "        return \"\\U0001f7E5\"\n",
    "    if row.has_results_or_publications_within_1y is False and row.has_results_or_publications_within_3y is True:\n",
    "        return \"\\U0001f7E7\"\n",
    "    if row.has_results_or_publications_within_1y is True and row.has_results_or_publications_within_3y is True:\n",
    "        return \"\\U0001f7E9\"\n",
    "\n",
    "def get_status_label(row):\n",
    "    if row.has_results_or_publications_within_1y is False and row.has_results_or_publications_within_3y is False:\n",
    "        return \"rouge\"\n",
    "    if row.has_results_or_publications_within_1y is False and row.has_results_or_publications_within_3y is True:\n",
    "        return \"orange\"\n",
    "    if row.has_results_or_publications_within_1y is True and row.has_results_or_publications_within_3y is True:\n",
    "        return \"vert\""
   ]
  },
  {
   "cell_type": "code",
   "execution_count": 57,
   "id": "c2f41cb6",
   "metadata": {},
   "outputs": [],
   "source": [
    "def clean_year(y):\n",
    "    try:\n",
    "        return str(int(y))\n",
    "    except:\n",
    "        return None"
   ]
  },
  {
   "cell_type": "code",
   "execution_count": 58,
   "id": "3c9407c6",
   "metadata": {},
   "outputs": [],
   "source": [
    "def make_pie(ror, stats, pie_type):\n",
    "    _, ax = plt.subplots(figsize=(9,9), dpi=100)\n",
    "    total = stats[pie_type][cle_false] + stats[pie_type][cle_true]\n",
    "    labels = [f\"{stats[pie_type][cle_false]} essais cliniques sur {total}\\nSANS communication identifiée\",\n",
    "             f\"{stats[pie_type][cle_true]} essais cliniques sur {total}\\nAVEC communication identifiée\"]\n",
    "    colors=[\"#FFF5BA\", \"#5A35BE\"]\n",
    "    values = [stats[pie_type][cle_false], stats[pie_type][cle_true]]\n",
    "    a, b = values\n",
    "    if (a == 0 and b == 0):\n",
    "        return\n",
    "    _, _, autotexts  = ax.pie(values, startangle=90, autopct=\"%1.0f%%\", \n",
    "                 explode=(0.025, 0.025),\n",
    "                 colors=colors)\n",
    "    autotexts[1].set_color(\"white\")\n",
    "    ax.legend(labels=labels, bbox_to_anchor=(0.15,0.5), \n",
    "              loc=\"center right\", fontsize=20, \n",
    "               bbox_transform=plt.gcf().transFigure)\n",
    "    plt.savefig(f\"./../publipostage/{ror}/repartition_essais_cliniques_{pie_type}_{ror}.png\", bbox_inches=\"tight\", dpi=300)\n",
    "\n",
    "def make_data(ror):\n",
    "    os.system(f\"mkdir -p ./../publipostage/{ror}\")\n",
    "    df_tmp = dd_ror[dd_ror.ror_simple == ror].sort_values(by=\"study_completion_year\")\n",
    "    dx = pd.DataFrame(df_tmp.lead_sponsor.value_counts()).reset_index()\n",
    "    dx.columns = [\"variant\", \"nb_studies\"]\n",
    "    dx[[\"variant\"]].to_csv(f\"./../publipostage/{ror}/liste_variantes_noms_{ror}.csv\", index=False, header=False, sep=\"£\")\n",
    "    df_tmp[\"status\"] = df_tmp.apply(lambda row: get_status(row), axis=1)\n",
    "    df_tmp[\"status_label\"] = df_tmp.apply(lambda row: get_status_label(row), axis=1)\n",
    "    cols = [\"status\", \"status_label\", \"NCTId\", \"eudraCT\", \"study_completion_year\", \"title\", \"acronym\", \"has_results_or_publications_within_1y\",\n",
    "           \"has_results_or_publications_within_3y\", \"has_results_or_publications\", \"intervention_type\"]\n",
    "    stats = analyze_global(df_tmp)\n",
    "    global_stat = {\"ror\": ror}\n",
    "    try:\n",
    "        global_stat[\"sponsor_name\"] = df_tmp.sponsor_normalized.values[0]\n",
    "    except:\n",
    "        print(\"skip \" + ror)\n",
    "        return\n",
    "    global_stat[\"sponsor_article\"] = \"du\"\n",
    "    if global_stat[\"sponsor_name\"][0] in [\"A\", \"E\", \"I\", \"O\", \"U\", \"Y\"]:\n",
    "        global_stat[\"sponsor_article\"] = \"de l'\"\n",
    "    if global_stat[\"sponsor_name\"].split(\" \")[0].lower() in [\"hospices\", \"hopitaux\", \"hôpitaux\"]:\n",
    "        global_stat[\"sponsor_article\"] = \"des\"\n",
    "    if global_stat[\"sponsor_name\"].split(\" \")[0].lower() in [\"hopital\", \"hôpital\"]:\n",
    "        global_stat[\"sponsor_article\"] = \"de l'\"\n",
    "    if global_stat[\"sponsor_name\"].split(\" \")[0].lower() in [\"clinique\"]:\n",
    "        global_stat[\"sponsor_article\"] = \"de la\"\n",
    "    a, b, c = get_perc(stats)\n",
    "    global_stat[\"global_indicator\"] = a\n",
    "    global_stat[\"10Y_indicator\"] = b\n",
    "    global_stat[\"10Ydrug_indicator\"] = c\n",
    "    pd.DataFrame([global_stat]).to_csv(f\"./../publipostage/{ror}/indicators_{ror}.csv\", index=False)\n",
    "    make_pie(ror, stats, \"global\")\n",
    "    make_pie(ror, stats, \"10Y\")\n",
    "    make_pie(ror, stats, \"10Ydrug\")\n",
    "    make_evolution(ror, df_tmp)\n",
    "    plt.close(\"all\")\n",
    "    df_tmp[\"study_completion_year\"] = df_tmp[\"study_completion_year\"].apply(lambda x:clean_year(x))\n",
    "    df_liste_essais = df_tmp[cols]\n",
    "    df_liste_essais.columns = [\"statut\", \"status_label\", \"NCTId\", \"eudraCT\", \"completion_year\", \n",
    "                               \"clinical_trial_title\", \"acronym\", \n",
    "                               \"results_1y\", \"results_3y\", \"results\", \"intervention_type\"]\n",
    "    df_liste_essais.to_csv(f\"./../publipostage/{ror}/liste_essais_cliniques_identifies_{ror}.csv\", index=False)\n",
    "    df_liste_essais.to_excel(f\"./../publipostage/{ror}/liste_essais_cliniques_identifies_{ror}.xlsx\", index=False)\n",
    "    return global_stat"
   ]
  },
  {
   "cell_type": "code",
   "execution_count": 59,
   "id": "959f5890",
   "metadata": {},
   "outputs": [
    {
     "name": "stdout",
     "output_type": "stream",
     "text": [
      "index 0 is out of bounds for axis 0 with size 0\n",
      "index 0 is out of bounds for axis 0 with size 0\n",
      "index 0 is out of bounds for axis 0 with size 0\n",
      "index 0 is out of bounds for axis 0 with size 0\n",
      "index 0 is out of bounds for axis 0 with size 0\n",
      "index 0 is out of bounds for axis 0 with size 0\n",
      "index 0 is out of bounds for axis 0 with size 0\n",
      "index 0 is out of bounds for axis 0 with size 0\n",
      "index 0 is out of bounds for axis 0 with size 0\n",
      "index 0 is out of bounds for axis 0 with size 0\n",
      "index 0 is out of bounds for axis 0 with size 0\n",
      "index 0 is out of bounds for axis 0 with size 0\n",
      "index 0 is out of bounds for axis 0 with size 0\n",
      "index 0 is out of bounds for axis 0 with size 0\n",
      "index 0 is out of bounds for axis 0 with size 0\n",
      "index 0 is out of bounds for axis 0 with size 0\n",
      "index 0 is out of bounds for axis 0 with size 0\n",
      "index 0 is out of bounds for axis 0 with size 0\n",
      "index 0 is out of bounds for axis 0 with size 0\n",
      "index 0 is out of bounds for axis 0 with size 0\n",
      "index 0 is out of bounds for axis 0 with size 0\n",
      "index 0 is out of bounds for axis 0 with size 0\n",
      "index 0 is out of bounds for axis 0 with size 0\n",
      "index 0 is out of bounds for axis 0 with size 0\n",
      "index 0 is out of bounds for axis 0 with size 0\n",
      "index 0 is out of bounds for axis 0 with size 0\n",
      "index 0 is out of bounds for axis 0 with size 0\n",
      "index 0 is out of bounds for axis 0 with size 0\n",
      "index 0 is out of bounds for axis 0 with size 0\n",
      "index 0 is out of bounds for axis 0 with size 0\n",
      "index 0 is out of bounds for axis 0 with size 0\n",
      "index 0 is out of bounds for axis 0 with size 0\n",
      "index 0 is out of bounds for axis 0 with size 0\n",
      "index 0 is out of bounds for axis 0 with size 0\n",
      "index 0 is out of bounds for axis 0 with size 0\n",
      "index 0 is out of bounds for axis 0 with size 0\n",
      "index 0 is out of bounds for axis 0 with size 0\n",
      "index 0 is out of bounds for axis 0 with size 0\n",
      "index 0 is out of bounds for axis 0 with size 0\n",
      "index 0 is out of bounds for axis 0 with size 0\n",
      "index 0 is out of bounds for axis 0 with size 0\n",
      "index 0 is out of bounds for axis 0 with size 0\n",
      "index 0 is out of bounds for axis 0 with size 0\n",
      "index 0 is out of bounds for axis 0 with size 0\n",
      "index 0 is out of bounds for axis 0 with size 0\n",
      "index 0 is out of bounds for axis 0 with size 0\n",
      "index 0 is out of bounds for axis 0 with size 0\n",
      "index 0 is out of bounds for axis 0 with size 0\n",
      "index 0 is out of bounds for axis 0 with size 0\n",
      "index 0 is out of bounds for axis 0 with size 0\n",
      "index 0 is out of bounds for axis 0 with size 0\n"
     ]
    }
   ],
   "source": [
    "global_data = []\n",
    "for ix, current_ror in enumerate(rors_to_compute):\n",
    "    if current_ror in excluded_rors:\n",
    "        continue\n",
    "    d = make_data(current_ror)\n",
    "    global_data.append(d)\n",
    "pd.DataFrame(global_data).to_csv(f\"./../publipostage/indicators.csv\", index=False)"
   ]
  }
 ],
 "metadata": {
  "kernelspec": {
   "display_name": "Python 3",
   "language": "python",
   "name": "python3"
  },
  "language_info": {
   "codemirror_mode": {
    "name": "ipython",
    "version": 3
   },
   "file_extension": ".py",
   "mimetype": "text/x-python",
   "name": "python",
   "nbconvert_exporter": "python",
   "pygments_lexer": "ipython3",
   "version": "3.10.12"
  }
 },
 "nbformat": 4,
 "nbformat_minor": 5
}
